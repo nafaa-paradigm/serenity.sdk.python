{
 "cells": [
  {
   "cell_type": "markdown",
   "id": "b90bcbf6-a176-498b-b540-6891830c1bed",
   "metadata": {},
   "source": [
    "# Demo: Serenity Derivatives API - Option Pricing\n",
    "\n",
    "Serenity builds in sophisticated option and rates analytics as part of its core offering, and these functions\n",
    "are all exposed via the API. This notebook shows how you can use it to price European options on BTC, ETH and SOL."
   ]
  },
  {
   "cell_type": "code",
   "execution_count": null,
   "id": "1f81870d-1e41-41b3-acd0-56bc6b13a3e7",
   "metadata": {},
   "outputs": [],
   "source": [
    "%%capture --no-stderr --no-display\n",
    "%load_ext autoreload\n",
    "%autoreload 2"
   ]
  },
  {
   "cell_type": "code",
   "execution_count": null,
   "id": "4876a0d4",
   "metadata": {},
   "outputs": [],
   "source": [
    "from os import getenv\n",
    "from serenity_sdk.widgets import ConnectWidget\n",
    "\n",
    "# if you want to auto-connect, set this environment variable to your desired default\n",
    "connect_widget = ConnectWidget(getenv('SERENITY_CONFIG_ID', None))"
   ]
  },
  {
   "cell_type": "code",
   "execution_count": null,
   "id": "a51af12a",
   "metadata": {},
   "outputs": [],
   "source": [
    "from datetime import datetime, timedelta\n",
    "from uuid import UUID, uuid4\n",
    "\n",
    "from time import sleep\n",
    "import matplotlib.pyplot as plt\n",
    "import numpy as np\n",
    "import pandas as pd\n",
    "\n",
    "from serenity_sdk.renderers.derivatives.widget_tools import OptionChooser, YieldCurveVersionTimeChooser, VolatilitySurfaceVersionTimeChooser\n",
    "from serenity_sdk.renderers.derivatives.table_plot import YieldCurveTablePlot, VolatilitySurfaceTablePlot, OptionValuationResultTablePlot\n",
    "from serenity_sdk.renderers.derivatives.converters import convert_object_dict_to_df\n",
    "from serenity_types.pricing.derivatives.rates.yield_curve import YieldCurveVersion\n",
    "from serenity_types.pricing.derivatives.options.valuation import DiscountingMethod, MarketDataOverride, OptionValuationRequest, OptionValuation\n",
    "\n",
    "# set default plot parameters\n",
    "plt.rcParams['font.size'] = '16'\n",
    "\n",
    "# create an alias to the api\n",
    "api = connect_widget.get_api()"
   ]
  },
  {
   "cell_type": "markdown",
   "id": "fed8311d",
   "metadata": {},
   "source": [
    "# Load samples of pre-defined option instruments"
   ]
  },
  {
   "cell_type": "markdown",
   "id": "292040e8",
   "metadata": {},
   "source": [
    "## Prepare a mapping from UUID to native symbol (linked asset native symbol)"
   ]
  },
  {
   "cell_type": "code",
   "execution_count": null,
   "id": "79ca8f6d",
   "metadata": {},
   "outputs": [],
   "source": [
    "# Let's first remind that our asset ids are represented using uuids\n",
    "# The mapping between asset id and native symbols are as below:\n",
    "asset_summaries = api.refdata().get_asset_summaries()\n",
    "asset_summaries = [{key: value for key, value in summary.items() if key != 'xrefSymbols'} for summary in asset_summaries]\n",
    "asset_summaries = pd.json_normalize(asset_summaries)[['assetId', 'nativeSymbol']]\n",
    "asset_summaries = asset_summaries[asset_summaries['nativeSymbol'].isin(['BTC','ETH'])]\n",
    "asset_summaries"
   ]
  },
  {
   "cell_type": "markdown",
   "id": "1754a2c4",
   "metadata": {},
   "source": [
    "## Predefined option instruments from a csv file\n",
    "For now, we read from a pre-saved csv file. In future, we plan to support to query predefined option instruments through an API. \n",
    "### Read & parse"
   ]
  },
  {
   "cell_type": "code",
   "execution_count": null,
   "id": "0364d5f1",
   "metadata": {},
   "outputs": [],
   "source": [
    "# Load sample options in the system & merge with the underlying asset id and symbol\n",
    "sample_option_data_file = os.path.join('sample_data', 'list_options_20221202.csv')\n",
    "sample_options = pd.read_csv(sample_option_data_file, parse_dates=['expiry_datetime'])\\\n",
    "    [['linked_asset_id', 'native_symbol', 'asset_id', 'option_type', 'expiry_datetime', 'strike_price','option_style']]\\\n",
    "    .sort_values(['linked_asset_id', 'expiry_datetime', 'strike_price'])\n",
    "sample_options['expiry_datetime'] = sample_options['expiry_datetime'].dt.tz_localize(None)\n",
    "sample_options = pd.merge(sample_options, asset_summaries, how='inner', left_on='linked_asset_id', right_on='assetId')\n",
    "sample_options.drop('assetId', axis=1, inplace=True)\n",
    "sample_options.rename(columns={'nativeSymbol':'linked_asset_native_symbol'}, inplace=True)"
   ]
  },
  {
   "cell_type": "markdown",
   "id": "1d2e7826",
   "metadata": {},
   "source": [
    "### Peak samples of predefined options"
   ]
  },
  {
   "cell_type": "code",
   "execution_count": null,
   "id": "3360a009",
   "metadata": {},
   "outputs": [],
   "source": [
    "sample_options.head(3)"
   ]
  },
  {
   "cell_type": "markdown",
   "id": "70faf1fc",
   "metadata": {},
   "source": [
    "## Select the option to use as a base line"
   ]
  },
  {
   "cell_type": "code",
   "execution_count": null,
   "id": "c1759378",
   "metadata": {},
   "outputs": [],
   "source": [
    "option_chooser = OptionChooser(sample_options)\n",
    "print('Select an option to play with')\n",
    "display(option_chooser.get_widget_to_display())"
   ]
  },
  {
   "cell_type": "code",
   "execution_count": null,
   "id": "6aeb3007",
   "metadata": {},
   "outputs": [],
   "source": [
    "# Show the details of the option selected\n",
    "predefined_option_info = option_chooser.get_selected_option()\n",
    "predefined_option_info"
   ]
  },
  {
   "cell_type": "markdown",
   "id": "7354cd16",
   "metadata": {},
   "source": [
    "# Option Valuation\n",
    "\n",
    "Notes: \n",
    "* API takes a list of option valuations and identified using 'option_valuation_id' UUID.\n",
    "For users' convenience, we create a dictionary with human readable keys. \n",
    "* The 'values' of the diction are passed to the OptionValuationRequest. \n",
    "* Then, we will re-organise the valuation results in terms of the human reable keys"
   ]
  },
  {
   "cell_type": "markdown",
   "id": "deafc81d",
   "metadata": {},
   "source": [
    "## Helper function for 'compute_option_valuations'"
   ]
  },
  {
   "cell_type": "code",
   "execution_count": null,
   "id": "a696f76b",
   "metadata": {},
   "outputs": [],
   "source": [
    "# Function to run 'compute_option_valuations' and put the valuation results into a helper object \n",
    "# to format outputs\n",
    "def run_compute_option_valuations(the_optvals, as_of_time=None):\n",
    "\n",
    "    request = OptionValuationRequest(options=[v for v in the_optvals.values()])\n",
    "    if as_of_time is not None:\n",
    "        request.as_of_time = as_of_time\n",
    "\n",
    "    val_results = api.pricer().compute_option_valuations(request)\n",
    "\n",
    "    # use a helper object for output formatting\n",
    "    ovr_tp = OptionValuationResultTablePlot(val_results, the_optvals)\n",
    "    return ovr_tp.results_table"
   ]
  },
  {
   "cell_type": "markdown",
   "id": "63a83cef",
   "metadata": {},
   "source": [
    "## Define demo option valuations\n",
    "\n",
    "Use the asset_id (uuid) of the pre-defined option to construct a option valuation object"
   ]
  },
  {
   "cell_type": "code",
   "execution_count": null,
   "id": "1f0aa926",
   "metadata": {},
   "outputs": [],
   "source": [
    "# dictionary of option valuations\n",
    "demo0_optvals = {}\n",
    "demo0_qty = 10\n",
    "# use the predefined option\n",
    "demo0_optvals['predefined'] = OptionValuation(\n",
    "    option_valuation_id=str(uuid4()),\n",
    "    qty = demo0_qty, \n",
    "    option_asset_id=UUID(predefined_option_info['asset_id']),\n",
    "    contract_size=1\n",
    ")\n",
    "\n",
    "convert_object_dict_to_df(demo0_optvals)\n"
   ]
  },
  {
   "cell_type": "markdown",
   "id": "a7ae2daa",
   "metadata": {},
   "source": [
    "### Run 'compute_option_valuations' - Historical vs Real-time modes\n",
    "\n",
    "1. Historical valuation mode: With `as_of_time` specified. \n",
    "1. Real-time valuation model: With `as_of_time` left empty. "
   ]
  },
  {
   "cell_type": "code",
   "execution_count": null,
   "id": "1f0761cb",
   "metadata": {},
   "outputs": [],
   "source": [
    "# 1. Specify as_of_time and run twice, 5 seconds apart. \n",
    "# We should get the same results. \n",
    "\n",
    "as_of_time = datetime.utcnow() - timedelta(hours=5)\n",
    "\n",
    "from time import sleep\n",
    "\n",
    "a_res = {}\n",
    "num_calls = 2\n",
    "sleep_sec = 5\n",
    "for j in range(num_calls):\n",
    "    res_table = run_compute_option_valuations(demo0_optvals, as_of_time=as_of_time)\n",
    "    a_res[f\"run_{j}\"] = res_table.iloc[:,0]\n",
    "    if j < num_calls-1:\n",
    "        print(f'sleeping {sleep_sec} seconds.')\n",
    "        sleep(sleep_sec)\n",
    "\n",
    "print('Expected Behaviour: They should return the exactly the same results since \"as_of_time\" is specified.')\n",
    "pd.DataFrame(a_res)"
   ]
  },
  {
   "cell_type": "code",
   "execution_count": null,
   "id": "53fe1b99",
   "metadata": {},
   "outputs": [],
   "source": [
    "# Leave as_of_time as empty run several times, sleep a few seconds after each run. \n",
    "\n",
    "a_res = {}\n",
    "num_calls = 10\n",
    "sleep_sec = 1\n",
    "print(f\"Start making {num_calls} calls, {sleep_sec} seconds apart. Please, wait at least {num_calls * sleep_sec} seconds.\")\n",
    "for j in range(num_calls):\n",
    "    now_ts = datetime.utcnow()\n",
    "    res_table = run_compute_option_valuations(demo0_optvals)\n",
    "    a_res[now_ts] = res_table.iloc[:,0]\n",
    "    if j < num_calls-1:\n",
    "        sleep(sleep_sec)\n",
    "\n",
    "print('Expected Behaviour: Results should change over time.')\n",
    "res_df = pd.DataFrame(a_res)\n",
    "res_df"
   ]
  },
  {
   "cell_type": "code",
   "execution_count": null,
   "id": "410ecf2b",
   "metadata": {},
   "outputs": [],
   "source": [
    "run_labels = res_df.columns\n",
    "\n",
    "fig = plt.figure(figsize=(14, 8))\n",
    "ax1=plt.subplot(2,3,1)\n",
    "plt.plot(run_labels, res_df.loc['pv'], '.-', label='PV')\n",
    "plt.title('Present Value'), plt.legend()\n",
    "plt.setp(ax1.get_xticklabels(), visible=False)\n",
    "plt.ticklabel_format(useOffset=False, style='plain', axis='y')\n",
    "\n",
    "ax2=plt.subplot(2,3,2, sharex=ax1)\n",
    "plt.plot(run_labels, res_df.loc['spot_price'], '.-', label='Spot')\n",
    "plt.title('Spot Price'), plt.legend()\n",
    "plt.setp(ax2.get_xticklabels(), visible=False)\n",
    "plt.ticklabel_format(useOffset=False, style='plain', axis='y')\n",
    "\n",
    "ax3=plt.subplot(2,3,3, sharex=ax1)\n",
    "plt.plot(run_labels, res_df.loc['forward_price'], '.-', label='Forward Price')\n",
    "plt.title('Forward Price'), plt.legend()\n",
    "plt.setp(ax3.get_xticklabels(), visible=False)\n",
    "plt.ticklabel_format(useOffset=False, style='plain', axis='y')\n",
    "\n",
    "plt.subplot(2,3,4, sharex=ax1)\n",
    "plt.plot(run_labels, res_df.loc['projection_rate'], '.-', label='Projection Rate')\n",
    "plt.plot(run_labels, res_df.loc['discounting_rate'], '.-', label='Discounting Rate')\n",
    "plt.title('Interest Rates'), plt.legend()\n",
    "plt.ticklabel_format(useOffset=False, style='plain', axis='y')\n",
    "\n",
    "plt.subplot(2,3,5, sharex=ax1)\n",
    "plt.plot(run_labels, res_df.loc['spot_notional'], '.-', label='Spot Notional')\n",
    "plt.title('Spot Notional'), plt.legend()\n",
    "plt.ticklabel_format(useOffset=False, style='plain', axis='y')\n",
    "\n",
    "plt.subplot(2,3,6, sharex=ax1)\n",
    "plt.plot(run_labels, res_df.loc['delta_ccy'], '.-', label='delta (ccy)')\n",
    "plt.title('Delta (ccy)'), plt.legend()\n",
    "plt.ticklabel_format(useOffset=False, style='plain', axis='y')\n",
    "\n",
    "fig.tight_layout()\n",
    "fig.autofmt_xdate()\n",
    "plt.show()"
   ]
  },
  {
   "cell_type": "markdown",
   "id": "5b88bc97",
   "metadata": {},
   "source": [
    "## Option Valuation - Option specified using attributes (strikes, expiry, etc)\n",
    "We constuct the identical option using the attributes of the pre-defined option"
   ]
  },
  {
   "cell_type": "code",
   "execution_count": null,
   "id": "cfa0e5a0",
   "metadata": {},
   "outputs": [],
   "source": [
    "# Replicate the same option using the attributes of the prefeined option earlier\n",
    "demo1_optvals = {}\n",
    "demo1_optvals['predefined'] = demo0_optvals['predefined']\n",
    "demo1_optvals['predefined_replica'] = OptionValuation(\n",
    "    option_valuation_id=str(uuid4()),\n",
    "    qty = demo0_qty, \n",
    "    underlier_asset_id=predefined_option_info['linked_asset_id'],\n",
    "    strike=predefined_option_info['strike_price'],\n",
    "    expiry=predefined_option_info['expiry_datetime'],\n",
    "    option_type=predefined_option_info['option_type'],\n",
    "    option_style=predefined_option_info['option_style'],\n",
    "    contract_size=1)\n",
    "\n",
    "\n",
    "# show option vals\n",
    "convert_object_dict_to_df(demo1_optvals)"
   ]
  },
  {
   "cell_type": "code",
   "execution_count": null,
   "id": "676905df",
   "metadata": {},
   "outputs": [],
   "source": [
    "res_table = run_compute_option_valuations(demo1_optvals)\n",
    "print('Expected Behaviour: Results should be identifical.')\n",
    "res_table\n"
   ]
  },
  {
   "cell_type": "markdown",
   "id": "bd074cee",
   "metadata": {},
   "source": [
    "## With Market Data Overrides"
   ]
  },
  {
   "cell_type": "markdown",
   "id": "02ce2e52",
   "metadata": {},
   "source": [
    "Let's bump market data and see the impact on the present value. \n",
    "To this end, \n",
    "* Pick an option with the default market data as the 'base' case. \n",
    "* Create a collection of new option valuations with market data bumps over a set of bump sizes. \n",
    "* Send the base case and the bumped valuations to API to get the PVs back. \n",
    "\n",
    "To illustrate the results, \n",
    "* Calculate the PV impact of the bumps, i.e. PNL(bumped) = PV(bumped) - PV(base)\n",
    "* Plot PNLs over bumps.\n",
    "* Overlay Taylor approximations using Greeks of the base-case valuation. "
   ]
  },
  {
   "cell_type": "markdown",
   "id": "fe894fd1",
   "metadata": {},
   "source": [
    "### Define a set of option valuations with spot bumps and send them to API"
   ]
  },
  {
   "cell_type": "code",
   "execution_count": null,
   "id": "260f9685",
   "metadata": {},
   "outputs": [],
   "source": [
    "# spot price \n",
    "spot_base = res_table.loc['spot_price'].iloc[0]\n",
    "bumps_in_perc = [-20.0, -10.0, -5.0, -2.5, -1.0, 0.0, +1.0, +2.5, +5.0, +10.0, +20.0]\n",
    "# market data bump\n",
    "spot_bumps = {f'{sb}':spot_base*sb/100 for sb in bumps_in_perc}\n",
    "\n",
    "# pick the base option to bump\n",
    "base_optval = demo1_optvals['predefined_replica'].copy()\n",
    "\n",
    "# dictionary of option valuations with market data bumped\n",
    "spot_bumps_optvals = {}\n",
    "spot_bumps_optvals['base'] = base_optval\n",
    "for sb_key, sb_val in spot_bumps.items():\n",
    "    optval_this = base_optval.copy()\n",
    "    optval_this.option_valuation_id=str(uuid4()) # need a unique id \n",
    "    optval_this.spot_price_override = MarketDataOverride(additive_bump=sb_val)\n",
    "    spot_bumps_optvals[f'spot_bump_{sb_key}%'] = optval_this\n",
    "\n",
    "# show option valuations\n",
    "convert_object_dict_to_df(spot_bumps_optvals)"
   ]
  },
  {
   "cell_type": "code",
   "execution_count": null,
   "id": "cf40e5de",
   "metadata": {},
   "outputs": [],
   "source": [
    "# Run 'compute_option_valuations'\n",
    "res_table = run_compute_option_valuations(spot_bumps_optvals)\n",
    "res_table"
   ]
  },
  {
   "cell_type": "markdown",
   "id": "e2c75e06",
   "metadata": {},
   "source": [
    "Let's plot\n",
    "* The Taylor expansion using the delta (and gamma) from the base option should give a good approximation of the spot bump/revals\n",
    "* At this point, we have some bug to fix (the bug is reported. )"
   ]
  },
  {
   "cell_type": "code",
   "execution_count": null,
   "id": "f68b43d9",
   "metadata": {},
   "outputs": [],
   "source": [
    "qty = demo0_qty\n",
    "result_base = res_table['base']\n",
    "result_bumps = res_table[[c for c in res_table.columns if c!='base']]\n",
    "\n",
    "delta_base = result_base['delta']\n",
    "gamma_base = result_base['gamma']\n",
    "pv_base = result_base['pv']\n",
    "sb_vals = np.array(list(spot_bumps.values()))\n",
    "plt.figure()\n",
    "plt.plot(sb_vals, result_bumps.loc['pv'] - pv_base, '.-', ms=10, label='bump & pv change')\n",
    "plt.plot(sb_vals, qty * delta_base * sb_vals, ':', label='1st-order approximation')\n",
    "plt.plot(sb_vals, qty * (delta_base * sb_vals + 0.5*gamma_base*sb_vals**2), ':', label='2st-order approximation')\n",
    "plt.plot()\n",
    "plt.grid()\n",
    "plt.xlabel('bump'), plt.ylabel('pv change')\n",
    "plt.legend()\n",
    "plt.show()"
   ]
  },
  {
   "cell_type": "markdown",
   "id": "da88443d",
   "metadata": {},
   "source": [
    "### Vol Bumps"
   ]
  },
  {
   "cell_type": "code",
   "execution_count": null,
   "id": "031b84e1",
   "metadata": {},
   "outputs": [],
   "source": [
    "# vol bmps \n",
    "bumps_in_perc = [-20.0, -10.0, -5.0, -2.5, -1.0, 0.0, +1.0, +2.5, +5.0, +10.0, +20.0]\n",
    "# market data bump\n",
    "vol_bumps = {f'{sb}':sb/100 for sb in bumps_in_perc}\n",
    "\n",
    "# pick the base option to bump\n",
    "base_optval = demo1_optvals['predefined_replica'].copy()\n",
    "\n",
    "# dictionary of option valuations with market data bumped\n",
    "vol_bumps_optvals = {}\n",
    "vol_bumps_optvals['base'] = base_optval\n",
    "for sb_key, sb_val in vol_bumps.items():\n",
    "    optval_this = base_optval.copy()\n",
    "    optval_this.option_valuation_id=str(uuid4()) # need a unique id \n",
    "    optval_this.implied_vol_override = MarketDataOverride(additive_bump=sb_val)\n",
    "    vol_bumps_optvals[f'vol_bump_{sb_key}%'] = optval_this\n",
    "\n",
    "# show option valuations\n",
    "convert_object_dict_to_df(vol_bumps_optvals)"
   ]
  },
  {
   "cell_type": "code",
   "execution_count": null,
   "id": "920a67f4",
   "metadata": {},
   "outputs": [],
   "source": [
    "# Run 'compute_option_valuations'\n",
    "res_table = run_compute_option_valuations(vol_bumps_optvals)\n",
    "res_table"
   ]
  },
  {
   "cell_type": "markdown",
   "id": "722f1b47",
   "metadata": {},
   "source": [
    "Let's plot. The PnL profile should be well approximated by the first-order Taylor approximation, i.e. \n",
    "\n",
    "vega(base case) * (vol bump)."
   ]
  },
  {
   "cell_type": "code",
   "execution_count": null,
   "id": "63533e70",
   "metadata": {},
   "outputs": [],
   "source": [
    "qty = demo0_qty\n",
    "result_base = res_table['base']\n",
    "result_bumps = res_table[[c for c in res_table.columns if c!='base']]\n",
    "\n",
    "vega_base = result_base['vega']\n",
    "pv_base = result_base['pv']\n",
    "sb_vals = np.array(list(vol_bumps.values()))\n",
    "plt.figure()\n",
    "plt.plot(sb_vals, result_bumps.loc['pv'] - pv_base, '.-', ms = 10, label='bump & pv change')\n",
    "plt.plot(sb_vals, qty * vega_base * sb_vals, ':', label='1st-order approximation')\n",
    "plt.plot()\n",
    "plt.grid()\n",
    "plt.xlabel('bump'), plt.ylabel('pv change')\n",
    "plt.legend()\n",
    "plt.show()"
   ]
  },
  {
   "cell_type": "markdown",
   "id": "b079ab84",
   "metadata": {},
   "source": [
    "## Options over Expiries\n",
    "\n",
    "So far, we considered an option with a specific expiry datetime and a strike. Now, let's consider 'ATM' options over a set of expiries. Here, ATM in the sense that the strike is the same to the spot price. "
   ]
  },
  {
   "cell_type": "code",
   "execution_count": null,
   "id": "aee6f707",
   "metadata": {},
   "outputs": [],
   "source": [
    "# Expiries\n",
    "\n",
    "t0 = datetime.utcnow()\n",
    "expiry_times = {d:t0 + timedelta(d) for d in [7, 14, 30, 60, 90, 180, 360, 720]}\n",
    "\n",
    "\n",
    "base_optval = demo1_optvals['predefined_replica'].copy()\n",
    "base_optval.strike = spot_base # spot ATM options\n",
    "expiries_optvals = {}\n",
    "for d, ex in expiry_times.items():\n",
    "    optval_this = base_optval.copy()\n",
    "    optval_this.option_valuation_id = str(uuid4())\n",
    "    optval_this.expiry = ex\n",
    "    expiries_optvals[f\"{d}-days\"] = optval_this\n",
    "\n",
    "# show option valuations\n",
    "convert_object_dict_to_df(expiries_optvals)\n"
   ]
  },
  {
   "cell_type": "code",
   "execution_count": null,
   "id": "d0f69c61",
   "metadata": {},
   "outputs": [],
   "source": [
    "# Run 'compute_option_valuations'\n",
    "res_table = run_compute_option_valuations(expiries_optvals)\n",
    "res_table"
   ]
  },
  {
   "cell_type": "markdown",
   "id": "2fe1acf4",
   "metadata": {},
   "source": [
    "Let's plot some fields from the valuation results over expiries"
   ]
  },
  {
   "cell_type": "code",
   "execution_count": null,
   "id": "f45c9a35",
   "metadata": {},
   "outputs": [],
   "source": [
    "# plotting\n",
    "ex_ts = np.array(list(expiry_times.values()))\n",
    "tt_ex = np.array(list(expiry_times.keys()))/365\n",
    "\n",
    "fig = plt.figure(figsize=(14, 6))\n",
    "ax1 = plt.subplot(1,3,1)\n",
    "plt.plot(ex_ts, res_table.loc['pv'], '.-', label='pv')\n",
    "plt.grid()\n",
    "plt.xlabel('expiry datetime'), plt.ylabel('pv')\n",
    "plt.legend()\n",
    "plt.xticks(rotation = 90)\n",
    "\n",
    "ax2 = plt.subplot(1,3,2)\n",
    "p = res_table.loc['projection_rate'].to_numpy(dtype=np.float64)\n",
    "plt.plot(ex_ts, p, '.-', label='projection rate')\n",
    "plt.grid()\n",
    "plt.xlabel('expiry datetime'), plt.ylabel('rate')\n",
    "plt.legend()\n",
    "plt.xticks(rotation = 90)\n",
    "\n",
    "ax2 = plt.subplot(1,3,3)\n",
    "sigma = res_table.loc['iv'].to_numpy(dtype=np.float64)\n",
    "plt.plot(ex_ts, sigma, '.-', label='volatility')\n",
    "plt.grid()\n",
    "plt.xlabel('expiry datetime'), plt.ylabel('volatility')\n",
    "plt.legend()\n",
    "plt.xticks(rotation = 90)\n",
    "\n",
    "fig.tight_layout()\n",
    "plt.show()"
   ]
  },
  {
   "cell_type": "markdown",
   "id": "debe1a8f",
   "metadata": {},
   "source": [
    "# Option Valuation Request overrides"
   ]
  },
  {
   "cell_type": "code",
   "execution_count": null,
   "id": "6bd007e5",
   "metadata": {},
   "outputs": [],
   "source": [
    "# TO BE CONTINUED"
   ]
  },
  {
   "cell_type": "markdown",
   "id": "6b52bc07",
   "metadata": {},
   "source": [
    "# END"
   ]
  },
  {
   "cell_type": "markdown",
   "id": "0c79e727",
   "metadata": {},
   "source": []
  }
 ],
 "metadata": {
  "kernelspec": {
   "display_name": "Python 3.8.13 ('.venv': poetry)",
   "language": "python",
   "name": "python3"
  },
  "language_info": {
   "codemirror_mode": {
    "name": "ipython",
    "version": 3
   },
   "file_extension": ".py",
   "mimetype": "text/x-python",
   "name": "python",
   "nbconvert_exporter": "python",
   "pygments_lexer": "ipython3",
   "version": "3.8.13"
  },
  "vscode": {
   "interpreter": {
    "hash": "a9133bd78629d3cc654928cc351bdc92c5978c16630b1b6e70bc57fa07ab43c7"
   }
  }
 },
 "nbformat": 4,
 "nbformat_minor": 5
}

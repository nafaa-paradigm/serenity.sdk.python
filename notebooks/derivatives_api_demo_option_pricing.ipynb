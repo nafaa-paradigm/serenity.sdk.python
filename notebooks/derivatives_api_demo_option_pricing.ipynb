{
 "cells": [
  {
   "cell_type": "markdown",
   "id": "b90bcbf6-a176-498b-b540-6891830c1bed",
   "metadata": {},
   "source": [
    "# Demo: Serenity Derivatives API - Option Pricing\n",
    "\n",
    "Serenity builds in sophisticated option and rates analytics as part of its core offering, and these functions\n",
    "are all exposed via the API. This notebook shows how you can use it to price European options on BTC, ETH and SOL."
   ]
  },
  {
   "cell_type": "code",
   "execution_count": null,
   "id": "1f81870d-1e41-41b3-acd0-56bc6b13a3e7",
   "metadata": {},
   "outputs": [],
   "source": [
    "%%capture --no-stderr --no-display\n",
    "%load_ext autoreload\n",
    "%autoreload 2\n",
    "#%run -i init_demo.py"
   ]
  },
  {
   "cell_type": "code",
   "execution_count": null,
   "id": "9acc9ba2",
   "metadata": {},
   "outputs": [],
   "source": [
    "from serenity_sdk.renderers.connect_widget import ConnectWidget\n",
    "connect_widget = ConnectWidget('athansor') # to connect automatically, insert the config id"
   ]
  },
  {
   "cell_type": "code",
   "execution_count": null,
   "id": "a51af12a",
   "metadata": {},
   "outputs": [],
   "source": [
    "# create an alias to the api\n",
    "api = connect_widget.get_api()\n",
    "\n",
    "from datetime import datetime, timedelta\n",
    "from uuid import UUID, uuid4\n",
    "import matplotlib.pyplot as plt\n",
    "import numpy as np\n",
    "import pandas as pd\n",
    "from serenity_types.pricing.derivatives.rates.yield_curve import YieldCurveVersion\n",
    "from serenity_types.pricing.derivatives.options.valuation import DiscountingMethod, OptionValuationRequest, OptionValuation\n",
    "\n",
    "# helper modules\n",
    "from serenity_sdk.renderers.derivatives.widget_tools import OptionChooser, YieldCurveVersionTimeChooser, VolatilitySurfaceVersionTimeChooser\n",
    "from serenity_sdk.renderers.derivatives.table_plot import YieldCurveTablePlot, VolatilitySurfaceTablePlot, OptionValuationResultTablePlot\n",
    "from serenity_sdk.renderers.derivatives.converters import convert_object_dict_to_df\n",
    "\n",
    "\n",
    "# plot parameters\n",
    "plt.rcParams['font.size'] = '16'"
   ]
  },
  {
   "cell_type": "markdown",
   "id": "fed8311d",
   "metadata": {},
   "source": [
    "# Load samples of pre-defined option instruments"
   ]
  },
  {
   "cell_type": "markdown",
   "id": "292040e8",
   "metadata": {},
   "source": [
    "## Prepare a mapping from UUID to native symbol (linked asset native symbol)"
   ]
  },
  {
   "cell_type": "code",
   "execution_count": null,
   "id": "79ca8f6d",
   "metadata": {},
   "outputs": [],
   "source": [
    "# Let's first remind that our asset ids are represented using uuids\n",
    "# The mapping between asset id and native symbols are as below:\n",
    "asset_summaries = api.refdata().get_asset_summaries()\n",
    "asset_summaries = [{key: value for key, value in summary.items() if key != 'xrefSymbols'} for summary in asset_summaries]\n",
    "asset_summaries = pd.json_normalize(asset_summaries)[['assetId', 'nativeSymbol']]\n",
    "asset_summaries = asset_summaries[asset_summaries['nativeSymbol'].isin(['BTC','ETH'])]\n",
    "asset_summaries"
   ]
  },
  {
   "cell_type": "markdown",
   "id": "1754a2c4",
   "metadata": {},
   "source": [
    "## Predefined option instruments from a csv file\n",
    "For now, we read from a pre-saved csv file. In future, we plan to support to query predefined option instruments through an API. \n",
    "### Read & parse"
   ]
  },
  {
   "cell_type": "code",
   "execution_count": null,
   "id": "0364d5f1",
   "metadata": {},
   "outputs": [],
   "source": [
    "# Load sample options in the system & merge with the underlying asset id and symbol\n",
    "sample_option_data_file = os.path.join('sample_data', 'list_options_20221202.csv')\n",
    "sample_options = pd.read_csv(sample_option_data_file, parse_dates=['expiry_datetime'])\\\n",
    "    [['linked_asset_id', 'native_symbol', 'asset_id', 'option_type', 'expiry_datetime', 'strike_price','option_style']]\\\n",
    "    .sort_values(['linked_asset_id', 'expiry_datetime', 'strike_price'])\n",
    "sample_options['expiry_datetime'] = sample_options['expiry_datetime'].dt.tz_localize(None)\n",
    "sample_options = pd.merge(sample_options, asset_summaries, how='inner', left_on='linked_asset_id', right_on='assetId')\n",
    "sample_options.drop('assetId', axis=1, inplace=True)\n",
    "sample_options.rename(columns={'nativeSymbol':'linked_asset_native_symbol'}, inplace=True)"
   ]
  },
  {
   "cell_type": "markdown",
   "id": "1d2e7826",
   "metadata": {},
   "source": [
    "### Peak samples of predefined options"
   ]
  },
  {
   "cell_type": "code",
   "execution_count": null,
   "id": "3360a009",
   "metadata": {},
   "outputs": [],
   "source": [
    "sample_options.head(3)"
   ]
  },
  {
   "cell_type": "markdown",
   "id": "70faf1fc",
   "metadata": {},
   "source": [
    "## Select the option to use as a base line"
   ]
  },
  {
   "cell_type": "code",
   "execution_count": null,
   "id": "c1759378",
   "metadata": {},
   "outputs": [],
   "source": [
    "option_chooser = OptionChooser(sample_options)\n",
    "print('Select an option to play with')\n",
    "display(option_chooser.get_widget_to_display())"
   ]
  },
  {
   "cell_type": "code",
   "execution_count": null,
   "id": "6aeb3007",
   "metadata": {},
   "outputs": [],
   "source": [
    "# Show the details of the option selected\n",
    "predefined_option_info = option_chooser.get_selected_option()\n",
    "predefined_option_info"
   ]
  },
  {
   "cell_type": "markdown",
   "id": "7354cd16",
   "metadata": {},
   "source": [
    "# Option Valuation\n",
    "\n",
    "Notes: \n",
    "* API takes a list of option valuations and identified using 'option_valuation_id' UUID.\n",
    "For users' convenience, we create a dictionary with human readable keys. \n",
    "* The 'values' of the diction are passed to the OptionValuationRequest. \n",
    "* Then, we will re-organise the valuation results in terms of the human reable keys"
   ]
  },
  {
   "cell_type": "markdown",
   "id": "deafc81d",
   "metadata": {},
   "source": [
    "## Helper function for 'compute_option_valuations'"
   ]
  },
  {
   "cell_type": "code",
   "execution_count": null,
   "id": "a696f76b",
   "metadata": {},
   "outputs": [],
   "source": [
    "# Function to run 'compute_option_valuations' and put the valuation results into a helper object \n",
    "# to format outputs\n",
    "def run_compute_option_valuations(the_optvals, as_of_time=None):\n",
    "    if as_of_time is None: \n",
    "        request = OptionValuationRequest(options=[v for v in the_optvals.values()])\n",
    "    else:\n",
    "        request = OptionValuationRequest(as_of_time=as_of_time, options=[v for v in the_optvals.values()])\n",
    "    val_results = api.pricer().compute_option_valuations(request)\n",
    "\n",
    "    # use a helper object for output formatting\n",
    "    ovr_tp = OptionValuationResultTablePlot(val_results, the_optvals)\n",
    "    return ovr_tp.results_table"
   ]
  },
  {
   "cell_type": "markdown",
   "id": "ee7526f9",
   "metadata": {},
   "source": [
    "## Using a pre-defined option and its replace\n",
    "* Use the asset_id (uuid) of the pre-defined option to construct a option valuation object\n",
    "* We constuct the identical option using the attributes of the pre-defined option"
   ]
  },
  {
   "cell_type": "markdown",
   "id": "63a83cef",
   "metadata": {},
   "source": [
    "### Define demo option valuations"
   ]
  },
  {
   "cell_type": "code",
   "execution_count": null,
   "id": "1f0aa926",
   "metadata": {},
   "outputs": [],
   "source": [
    "# dictionary of option valuations\n",
    "demo0_optvals = {}\n",
    "demo0_qty = 10\n",
    "# 1. use the predefined option\n",
    "demo0_optvals['predefined'] = OptionValuation(\n",
    "    option_valuation_id=str(uuid4()),\n",
    "    qty = demo0_qty, \n",
    "    option_asset_id=UUID(predefined_option_info['asset_id']),\n",
    "    contract_size=1\n",
    ")\n",
    "\n",
    "# 2. replicate the same option manually\n",
    "demo1_optvals = {}\n",
    "demo1_optvals['predefined'] = demo0_optvals['predefined']\n",
    "demo1_optvals['predefined_replica'] = OptionValuation(\n",
    "    option_valuation_id=str(uuid4()),\n",
    "    qty = demo0_qty, \n",
    "    underlier_asset_id=predefined_option_info['linked_asset_id'],\n",
    "    strike=predefined_option_info['strike_price'],\n",
    "    expiry=predefined_option_info['expiry_datetime'],\n",
    "    option_type=predefined_option_info['option_type'],\n",
    "    option_style=predefined_option_info['option_style'],\n",
    "    contract_size=1)\n",
    "\n",
    "\n",
    "# show option vals\n",
    "convert_object_dict_to_df(demo1_optvals)\n"
   ]
  },
  {
   "cell_type": "markdown",
   "id": "a7ae2daa",
   "metadata": {},
   "source": [
    "### Run 'compute_option_valuations'"
   ]
  },
  {
   "cell_type": "code",
   "execution_count": null,
   "id": "53fe1b99",
   "metadata": {},
   "outputs": [],
   "source": [
    "res_table = run_compute_option_valuations(demo1_optvals)\n",
    "print('Expected Behaviour: They should return the exactly the same results')\n",
    "res_table"
   ]
  },
  {
   "cell_type": "markdown",
   "id": "bd074cee",
   "metadata": {},
   "source": [
    "## With Market Data Overrides"
   ]
  },
  {
   "cell_type": "markdown",
   "id": "02ce2e52",
   "metadata": {},
   "source": [
    "Notes: At the time of producing this notebook. \n",
    "* Market data override implementations are WIP. \n",
    "* A version of spot bumps are there and there are still bugs to fix. \n",
    "\n",
    "This is to demonstrate how bumps would be working"
   ]
  },
  {
   "cell_type": "markdown",
   "id": "fe894fd1",
   "metadata": {},
   "source": [
    "### Define a set of option valuations with spot bumps and send them to API"
   ]
  },
  {
   "cell_type": "code",
   "execution_count": null,
   "id": "260f9685",
   "metadata": {},
   "outputs": [],
   "source": [
    "# market data bump\n",
    "spot_bumps = np.array([-20.0, -10.0, -5.0, -2.5, -1.0, 0.0, +1.0, +2.5, +5.0, +10.0, +20.0])/100.0 + 1.0\n",
    "\n",
    "# pick the base option to bump\n",
    "base_optval = demo1_optvals['predefined_replica'].copy()\n",
    "\n",
    "# dictionary of option valuations with market data bumped\n",
    "spot_bumps_optvals = {}\n",
    "spot_bumps_optvals['base'] = base_optval\n",
    "for sb in spot_bumps:\n",
    "    optval_this = base_optval.copy()\n",
    "    optval_this.option_valuation_id=str(uuid4()) # need a unique id \n",
    "    optval_this.spot_price_bump=sb # set the bump\n",
    "    spot_bumps_optvals[f'spot_bump_{sb}'] = optval_this\n",
    "\n",
    "# show option valuations\n",
    "convert_object_dict_to_df(spot_bumps_optvals)"
   ]
  },
  {
   "cell_type": "markdown",
   "id": "00345a43",
   "metadata": {},
   "source": [
    "### Run 'compute_option_valuations'"
   ]
  },
  {
   "cell_type": "code",
   "execution_count": null,
   "id": "cf40e5de",
   "metadata": {},
   "outputs": [],
   "source": [
    "res_table = run_compute_option_valuations(spot_bumps_optvals)\n",
    "res_table.to_clipboard()"
   ]
  },
  {
   "cell_type": "markdown",
   "id": "e2c75e06",
   "metadata": {},
   "source": [
    "### Plot\n",
    "* The first-order Taylor expansion using the delta from the base option should give a good approximation of the spot bump/revals\n",
    "* At this point, we have some bug to fix. "
   ]
  },
  {
   "cell_type": "code",
   "execution_count": null,
   "id": "f68b43d9",
   "metadata": {},
   "outputs": [],
   "source": [
    "qty = demo0_qty\n",
    "delta_ccy = res_table['base']['delta_ccy']\n",
    "plt.figure()\n",
    "plt.plot(spot_bumps, \n",
    "    res_table[[c for c in res_table.columns if c!='base']].loc['pv']-res_table['base']['pv'],\n",
    "    '.-', label='bump & pv change')\n",
    "plt.plot(spot_bumps, \n",
    "    .2 * qty * res_table['base']['spot_price'] * res_table['base']['delta'] * (spot_bumps-1),\n",
    "    '.-', label='1st-order approx (work-in-progress)')\n",
    "plt.plot()\n",
    "plt.grid()\n",
    "plt.xlabel('bump'), plt.ylabel('pv change')\n",
    "plt.legend()\n",
    "plt.show()"
   ]
  },
  {
   "cell_type": "markdown",
   "id": "8afe65a2",
   "metadata": {},
   "source": [
    "MORE TO COME"
   ]
  },
  {
   "cell_type": "markdown",
   "id": "6b52bc07",
   "metadata": {},
   "source": [
    "# END"
   ]
  },
  {
   "cell_type": "markdown",
   "id": "0c79e727",
   "metadata": {},
   "source": []
  }
 ],
 "metadata": {
  "kernelspec": {
   "display_name": "Python 3.8.13 ('.venv': poetry)",
   "language": "python",
   "name": "python3"
  },
  "language_info": {
   "codemirror_mode": {
    "name": "ipython",
    "version": 3
   },
   "file_extension": ".py",
   "mimetype": "text/x-python",
   "name": "python",
   "nbconvert_exporter": "python",
   "pygments_lexer": "ipython3",
   "version": "3.8.13"
  },
  "vscode": {
   "interpreter": {
    "hash": "a9133bd78629d3cc654928cc351bdc92c5978c16630b1b6e70bc57fa07ab43c7"
   }
  }
 },
 "nbformat": 4,
 "nbformat_minor": 5
}

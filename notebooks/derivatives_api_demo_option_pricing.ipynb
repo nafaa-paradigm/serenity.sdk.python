{
 "cells": [
  {
   "cell_type": "markdown",
   "id": "b90bcbf6-a176-498b-b540-6891830c1bed",
   "metadata": {},
   "source": [
    "# Demo: Serenity Derivatives API - Option Pricing\n",
    "\n",
    "Serenity builds in sophisticated option and rates analytics as part of its core offering, and these functions\n",
    "are all exposed via the API. This notebook shows how you can use it to price European options on BTC, ETH and SOL."
   ]
  },
  {
   "cell_type": "code",
   "execution_count": null,
   "id": "1f81870d-1e41-41b3-acd0-56bc6b13a3e7",
   "metadata": {},
   "outputs": [],
   "source": [
    "%%capture --no-stderr --no-display\n",
    "%load_ext autoreload\n",
    "%autoreload 2\n",
    "#%run -i init_demo.py"
   ]
  },
  {
   "cell_type": "code",
   "execution_count": null,
   "id": "3b92950c",
   "metadata": {},
   "outputs": [],
   "source": [
    "# to change back to run init_demo.py when ready\n",
    "config_id = 'athansor'\n",
    "from serenity_sdk.client import SerenityApiProvider, SerenityClient\n",
    "from serenity_sdk.config import load_local_config\n",
    "config = load_local_config(config_id)\n",
    "client = SerenityClient(config)\n",
    "api = SerenityApiProvider(client)"
   ]
  },
  {
   "cell_type": "code",
   "execution_count": null,
   "id": "a51af12a",
   "metadata": {},
   "outputs": [],
   "source": [
    "from datetime import datetime, timedelta\n",
    "from uuid import UUID, uuid4\n",
    "import matplotlib.pyplot as plt\n",
    "import numpy as np\n",
    "import pandas as pd\n",
    "from serenity_types.pricing.derivatives.rates.yield_curve import YieldCurveVersion\n",
    "from serenity_types.pricing.derivatives.options.valuation import DiscountingMethod, OptionValuationRequest, OptionValuation\n",
    "\n",
    "# helper modules\n",
    "from serenity_sdk.renderers.derivatives.widget_tools import OptionChooser, YieldCurveVersionTimeChooser, VolatilitySurfaceVersionTimeChooser\n",
    "from serenity_sdk.renderers.derivatives.table_plot import YieldCurveTablePlot, VolatilitySurfaceTablePlot, OptionValuationResultTablePlot\n",
    "\n",
    "# plot parameters\n",
    "plt.rcParams['font.size'] = '16'"
   ]
  },
  {
   "cell_type": "code",
   "execution_count": null,
   "id": "c9771995",
   "metadata": {},
   "outputs": [],
   "source": [
    "# Pick a datetime. \n",
    "now_time = datetime.utcnow() - timedelta(hours=3)"
   ]
  },
  {
   "cell_type": "markdown",
   "id": "fed8311d",
   "metadata": {},
   "source": [
    "# Read samples of pre-defined options\n",
    "For now, we read from a csv file. \n",
    "In future, we plan to support an API"
   ]
  },
  {
   "cell_type": "code",
   "execution_count": null,
   "id": "79ca8f6d",
   "metadata": {},
   "outputs": [],
   "source": [
    "# Let's first remind that our asset ids are represented using uuids\n",
    "# The mapping between asset id and native symbols are as below:\n",
    "asset_summaries = api.refdata().get_asset_summaries()\n",
    "asset_summaries = [{key: value for key, value in summary.items() if key != 'xrefSymbols'} for summary in asset_summaries]\n",
    "asset_summaries = pd.json_normalize(asset_summaries)[['assetId', 'nativeSymbol']]\n",
    "asset_summaries = asset_summaries[asset_summaries['nativeSymbol'].isin(['BTC','ETH', 'SOL'])]\n",
    "asset_summaries"
   ]
  },
  {
   "cell_type": "code",
   "execution_count": null,
   "id": "0364d5f1",
   "metadata": {},
   "outputs": [],
   "source": [
    "# Load sample options in the system & merge with the underlying asset id and symbol\n",
    "sample_option_data_file = os.path.join('sample_data', 'list_options_20221202.csv')\n",
    "sample_options = pd.read_csv(sample_option_data_file, parse_dates=['expiry_datetime'])\n",
    "\n",
    "sample_option_data_file = os.path.join('sample_data', 'list_options_20221202.csv')\n",
    "sample_options = pd.read_csv(sample_option_data_file, parse_dates=['expiry_datetime'])\\\n",
    "    [['linked_asset_id', 'native_symbol', 'asset_id', 'option_type', 'expiry_datetime', 'strike_price','option_style']]\\\n",
    "    .sort_values(['linked_asset_id', 'expiry_datetime', 'strike_price'])\n",
    "sample_options['expiry_datetime'] = sample_options['expiry_datetime'].dt.tz_localize(None)\n",
    "sample_options = pd.merge(sample_options, asset_summaries, how='left', left_on='linked_asset_id', right_on='assetId')\n",
    "sample_options.drop('assetId', axis=1, inplace=True)\n",
    "sample_options.rename(columns={'nativeSymbol':'linked_asset_native_symbol'}, inplace=True)"
   ]
  },
  {
   "cell_type": "markdown",
   "id": "1d2e7826",
   "metadata": {},
   "source": [
    "## Peak samples of predefined options"
   ]
  },
  {
   "cell_type": "code",
   "execution_count": null,
   "id": "3360a009",
   "metadata": {},
   "outputs": [],
   "source": [
    "sample_options.head(3)"
   ]
  },
  {
   "cell_type": "markdown",
   "id": "70faf1fc",
   "metadata": {},
   "source": [
    "## Select the option to use as a base line"
   ]
  },
  {
   "cell_type": "code",
   "execution_count": null,
   "id": "c1759378",
   "metadata": {},
   "outputs": [],
   "source": [
    "option_chooser = OptionChooser(sample_options)\n",
    "print('Select an option to play with')\n",
    "display(option_chooser.get_widget_to_display())"
   ]
  },
  {
   "cell_type": "code",
   "execution_count": null,
   "id": "6aeb3007",
   "metadata": {},
   "outputs": [],
   "source": [
    "# Show the details of the option selected\n",
    "predefined_option_info = option_chooser.get_selected_option()\n",
    "predefined_option_info"
   ]
  },
  {
   "cell_type": "markdown",
   "id": "7354cd16",
   "metadata": {},
   "source": [
    "# Option Valuation"
   ]
  },
  {
   "cell_type": "markdown",
   "id": "ee7526f9",
   "metadata": {},
   "source": [
    "## using a pre-defined option and its replace\n",
    "* Use the asset_id (uuid) of the pre-defined option to construct a option valuation object\n",
    "* We constuct the identical option using the attributes of the pre-defined option"
   ]
  },
  {
   "cell_type": "code",
   "execution_count": null,
   "id": "1f0aa926",
   "metadata": {},
   "outputs": [],
   "source": [
    "demo0_optvals = {}\n",
    "demo0_optvals['predefined'] = OptionValuation(\n",
    "    option_valuation_id=str(uuid4()),\n",
    "    qty = 10, \n",
    "    option_asset_id=UUID(predefined_option_info['asset_id']),\n",
    "    contract_size=1\n",
    ")\n",
    "\n",
    "demo1_optvals = {}\n",
    "demo1_optvals['predefined'] = demo0_optvals['predefined']\n",
    "demo1_optvals['predefined_replica'] = OptionValuation(\n",
    "    option_valuation_id=str(uuid4()),\n",
    "    qty = 10, \n",
    "    underlier_asset_id=predefined_option_info['linked_asset_id'],\n",
    "    strike=predefined_option_info['strike_price'],\n",
    "    expiry=predefined_option_info['expiry_datetime'],\n",
    "    option_type=predefined_option_info['option_type'],\n",
    "    option_style=predefined_option_info['option_style'],\n",
    "    contract_size=1)\n"
   ]
  },
  {
   "cell_type": "code",
   "execution_count": null,
   "id": "8685abfd",
   "metadata": {},
   "outputs": [],
   "source": [
    "def run_compute_option_valuations(the_optvals, as_of_time=None):\n",
    "    if as_of_time is None: \n",
    "        request = OptionValuationRequest(options=[v for v in the_optvals.values()])\n",
    "    else:\n",
    "        request = OptionValuationRequest(as_of_time=as_of_time, options=[v for v in the_optvals.values()])\n",
    "    val_results = api.pricer().compute_option_valuations(request)\n",
    "\n",
    "    # use a helper object to format output\n",
    "    ovr_tp = OptionValuationResultTablePlot(val_results, the_optvals)\n",
    "    return ovr_tp.results_table"
   ]
  },
  {
   "cell_type": "code",
   "execution_count": null,
   "id": "53fe1b99",
   "metadata": {},
   "outputs": [],
   "source": [
    "res_table = run_compute_option_valuations(demo1_optvals, now_time)\n",
    "res_table"
   ]
  },
  {
   "cell_type": "markdown",
   "id": "bd074cee",
   "metadata": {},
   "source": [
    "## Market Data Overrides"
   ]
  },
  {
   "cell_type": "code",
   "execution_count": null,
   "id": "260f9685",
   "metadata": {},
   "outputs": [],
   "source": [
    "# market data bump\n",
    "\n",
    "spot_bumps = np.array([-20.0, -10.0, -5.0, -2.5, -1.0, 0.0, +1.0, +2.5, +5.0, +10.0, +20.0])/100.0 + 1.0\n",
    "\n",
    "base_optval = demo1_optvals['predefined_replica'].copy()\n",
    "spot_bumps_optvals = {}\n",
    "spot_bumps_optvals['base'] = base_optval\n",
    "for sb in spot_bumps:\n",
    "    optval_this = base_optval.copy()\n",
    "    optval_this.option_valuation_id=str(uuid4())\n",
    "    optval_this.spot_price_bump=sb\n",
    "    spot_bumps_optvals[f'spot_bump_{sb}'] = optval_this"
   ]
  },
  {
   "cell_type": "code",
   "execution_count": null,
   "id": "cf40e5de",
   "metadata": {},
   "outputs": [],
   "source": [
    "res_table = run_compute_option_valuations(spot_bumps_optvals, now_time)\n",
    "res_table.to_clipboard()"
   ]
  },
  {
   "cell_type": "code",
   "execution_count": null,
   "id": "142ca49c",
   "metadata": {},
   "outputs": [],
   "source": [
    "base_res = res_table['base']\n",
    "qty = base_res['spot_notional']/base_res['spot_price']\n",
    "print(f'quantity: {qty}')"
   ]
  },
  {
   "cell_type": "code",
   "execution_count": null,
   "id": "d127cc03",
   "metadata": {},
   "outputs": [],
   "source": []
  },
  {
   "cell_type": "code",
   "execution_count": null,
   "id": "f68b43d9",
   "metadata": {},
   "outputs": [],
   "source": [
    "delta_ccy = res_table['base']['delta_ccy']\n",
    "plt.figure()\n",
    "plt.plot(spot_bumps, res_table[[c for c in res_table.columns if c!='base']].loc['pv']-res_table['base']['pv'])\n",
    "plt.plot(spot_bumps, .2 * qty * res_table['base']['spot_price'] * res_table['base']['delta'] * (spot_bumps-1))\n",
    "plt.plot()\n",
    "plt.grid()\n",
    "plt.show()"
   ]
  },
  {
   "cell_type": "markdown",
   "id": "6b52bc07",
   "metadata": {},
   "source": [
    "# END"
   ]
  },
  {
   "cell_type": "markdown",
   "id": "0c79e727",
   "metadata": {},
   "source": []
  }
 ],
 "metadata": {
  "kernelspec": {
   "display_name": "Python 3.8.13 ('.venv': poetry)",
   "language": "python",
   "name": "python3"
  },
  "language_info": {
   "codemirror_mode": {
    "name": "ipython",
    "version": 3
   },
   "file_extension": ".py",
   "mimetype": "text/x-python",
   "name": "python",
   "nbconvert_exporter": "python",
   "pygments_lexer": "ipython3",
   "version": "3.8.13"
  },
  "vscode": {
   "interpreter": {
    "hash": "a9133bd78629d3cc654928cc351bdc92c5978c16630b1b6e70bc57fa07ab43c7"
   }
  }
 },
 "nbformat": 4,
 "nbformat_minor": 5
}

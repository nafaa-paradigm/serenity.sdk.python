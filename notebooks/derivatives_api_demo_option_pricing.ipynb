{
 "cells": [
  {
   "attachments": {},
   "cell_type": "markdown",
   "id": "b90bcbf6-a176-498b-b540-6891830c1bed",
   "metadata": {},
   "source": [
    "# Demo: Serenity Derivatives API - Option Pricing\n",
    "\n",
    "Serenity builds in sophisticated option and rates analytics as part of its core offering, and these functions\n",
    "are all exposed via the API. This notebook shows how you can use it to price European options on BTC and ETH."
   ]
  },
  {
   "cell_type": "code",
   "execution_count": null,
   "id": "1f81870d-1e41-41b3-acd0-56bc6b13a3e7",
   "metadata": {},
   "outputs": [],
   "source": [
    "%%capture --no-stderr --no-display\n",
    "%load_ext autoreload\n",
    "%autoreload 2"
   ]
  },
  {
   "cell_type": "code",
   "execution_count": null,
   "id": "4876a0d4",
   "metadata": {},
   "outputs": [],
   "source": [
    "from os import getenv\n",
    "from serenity_sdk.widgets import ConnectWidget\n",
    "\n",
    "# if you want to auto-connect, set this environment variable to your desired default\n",
    "connect_widget = ConnectWidget(getenv('SERENITY_CONFIG_ID', None))"
   ]
  },
  {
   "cell_type": "code",
   "execution_count": null,
   "id": "a51af12a",
   "metadata": {},
   "outputs": [],
   "source": [
    "from datetime import datetime, timedelta\n",
    "from typing import List, Dict\n",
    "from uuid import UUID, uuid4\n",
    "\n",
    "from time import sleep\n",
    "import matplotlib.pyplot as plt\n",
    "import numpy as np\n",
    "import pandas as pd\n",
    "import itertools\n",
    "\n",
    "from serenity_types.pricing.derivatives.rates.yield_curve import YieldCurveVersion\n",
    "from serenity_types.pricing.derivatives.options.valuation import (\n",
    "    DiscountingMethod, \n",
    "    MarketDataOverride, \n",
    "    YieldCurveOverride,\n",
    "    OptionValuationRequest, \n",
    "    OptionValuation)\n",
    "from serenity_types.pricing.derivatives.options.volsurface import (\n",
    "    InterpolatedVolatilitySurface, VolModel, DiscountingMethod, ProjectionMethod\n",
    ")\n",
    "\n",
    "from serenity_sdk.renderers.derivatives.request_helpers import (\n",
    "    run_compute_option_valuations, \n",
    "    run_multiple_option_valuation_requests\n",
    ")\n",
    "from serenity_sdk.renderers.derivatives.widget_tools import OptionChooser\n",
    "from serenity_sdk.renderers.derivatives.table_plot import (\n",
    "    YieldCurveTablePlot, \n",
    "    VolatilitySurfaceTablePlot, \n",
    "    OptionValuationResultTablePlot, \n",
    "    plot_valuation_results,\n",
    "    plot_bumped_pv\n",
    ")\n",
    "from serenity_sdk.renderers.derivatives.overrides import apply_option_valuation_overrides\n",
    "from serenity_sdk.renderers.derivatives.converters import convert_object_dict_to_df, convert_object_list_to_df\n",
    "\n",
    "# set default plot parameters\n",
    "plt.rcParams['font.size'] = '16'\n",
    "\n",
    "# create an alias to the api\n",
    "api = connect_widget.get_api()"
   ]
  },
  {
   "cell_type": "markdown",
   "id": "fed8311d",
   "metadata": {},
   "source": [
    "# Load samples of pre-defined option instruments"
   ]
  },
  {
   "attachments": {},
   "cell_type": "markdown",
   "id": "1d2e7826",
   "metadata": {},
   "source": [
    "### Load & peek at samples of predefined options\n",
    "\n",
    "OptionChooser is a helper function. It wraps \n",
    "\n",
    "* `api.pricer().get_supported_underliers()`: get the supported underlier information (i.e. BTC and ETH)\n",
    "* `api.pricer().get_supported_options()`: get a list of pre-defined options from Deribit. "
   ]
  },
  {
   "cell_type": "code",
   "execution_count": null,
   "id": "3360a009",
   "metadata": {},
   "outputs": [],
   "source": [
    "option_chooser = OptionChooser(api)\n",
    "option_chooser.data.head(3)"
   ]
  },
  {
   "cell_type": "markdown",
   "id": "70faf1fc",
   "metadata": {},
   "source": [
    "## Select the option to use as a base line"
   ]
  },
  {
   "cell_type": "code",
   "execution_count": null,
   "id": "c1759378",
   "metadata": {},
   "outputs": [],
   "source": [
    "print('Select an option to play with')\n",
    "display(option_chooser.get_widget_to_display())"
   ]
  },
  {
   "cell_type": "code",
   "execution_count": null,
   "id": "6aeb3007",
   "metadata": {},
   "outputs": [],
   "source": [
    "# Show the details of the option selected\n",
    "the_default_option_info = option_chooser.get_selected_option()\n",
    "pd.Series(the_default_option_info)"
   ]
  },
  {
   "attachments": {},
   "cell_type": "markdown",
   "id": "7354cd16",
   "metadata": {},
   "source": [
    "# Option Valuation\n",
    "\n",
    "Helper functions: Throughout this notebook, we use the following two helper functions that wraps `api.pricer().compute_option_valuations` to help displaying valuation results. \n",
    "* `run_compute_option_valuations`\n",
    "* `run_multiple_option_valuation_requests`\n",
    "\n",
    "For example, API's `compute_option_valuations` take an array of option valuations. Each option valuation is identified using a unique uuid. To help visualising option valuation results, `run_compute_option_valuations` wraps `compute_option_valuations` and takes a dictionary of option valuations with keys set by users. The valuation results are unpacked and put into a Pandas dataframe with columns corresponding to the keys. "
   ]
  },
  {
   "attachments": {},
   "cell_type": "markdown",
   "id": "63a83cef",
   "metadata": {},
   "source": [
    "## Define demo option valuations\n",
    "\n",
    "* Use the asset_id (uuid) of the pre-defined option to construct a option valuation object\n",
    "* Also, create its replica using option attributues\n"
   ]
  },
  {
   "cell_type": "code",
   "execution_count": null,
   "id": "f3503f0d",
   "metadata": {},
   "outputs": [],
   "source": [
    "# The default option valuation object\n",
    "the_default_optval = OptionValuation(\n",
    "    option_valuation_id=str(uuid4()),\n",
    "    qty = 10, \n",
    "    option_asset_id=the_default_option_info['asset_id'])\n",
    "\n",
    "# Replicate the same option using the attributes of the prefeined option earlier\n",
    "the_replica_optval = OptionValuation(\n",
    "    option_valuation_id=str(uuid4()),\n",
    "    qty = the_default_optval.qty,  # use the qty from the default option\n",
    "    underlier_asset_id=the_default_option_info['underlier_asset_id'],\n",
    "    strike=the_default_option_info['strike_price'],\n",
    "    expiry=the_default_option_info['expiry_datetime'],\n",
    "    option_type=the_default_option_info['option_type'],\n",
    "    option_style=the_default_option_info['option_style'],\n",
    "    contract_size=the_default_option_info['contract_size']\n",
    "    )"
   ]
  },
  {
   "cell_type": "code",
   "execution_count": null,
   "id": "1f0aa926",
   "metadata": {},
   "outputs": [],
   "source": [
    "# use the predefined option (default option)\n",
    "demo0_optvals = {'predefined': the_default_optval}\n",
    "convert_object_dict_to_df(demo0_optvals)"
   ]
  },
  {
   "attachments": {},
   "cell_type": "markdown",
   "id": "a7ae2daa",
   "metadata": {},
   "source": [
    "## Real-time and Historical valuation modes\n",
    "\n",
    "1. Real-time valuation model: With `as_of_time` left empty. \n",
    "1. Historical valuation mode: With `as_of_time` specified. "
   ]
  },
  {
   "attachments": {},
   "cell_type": "markdown",
   "id": "e2baadd0",
   "metadata": {},
   "source": [
    "### Real-time Valuation Model: Leave `as_of_time`` as empty."
   ]
  },
  {
   "cell_type": "code",
   "execution_count": null,
   "id": "53fe1b99",
   "metadata": {},
   "outputs": [],
   "source": [
    "# Run several times, sleep a few seconds after each run. \n",
    "a_res = {}\n",
    "num_calls, sleep_sec= 5, 1\n",
    "print(f\"Start making {num_calls} calls, {sleep_sec} seconds apart. Please, wait at least {num_calls * sleep_sec} seconds.\")\n",
    "for j in range(num_calls):\n",
    "    now_ts = datetime.utcnow()\n",
    "    res_table = run_compute_option_valuations(api, demo0_optvals)\n",
    "    a_res[now_ts] = res_table.iloc[:,0]\n",
    "    if j < num_calls-1:\n",
    "        sleep(sleep_sec)\n",
    "\n",
    "print('Expected Behaviour: Results should change over time.')\n",
    "res_df = pd.DataFrame(a_res)\n",
    "res_df"
   ]
  },
  {
   "cell_type": "code",
   "execution_count": null,
   "id": "cadfdf40",
   "metadata": {},
   "outputs": [],
   "source": [
    "# Let's plot some key values\n",
    "plot_valuation_results(res_df)"
   ]
  },
  {
   "attachments": {},
   "cell_type": "markdown",
   "id": "41be3ed6",
   "metadata": {},
   "source": [
    "### Historical Valuation Mode: Specify `as_of_time`"
   ]
  },
  {
   "cell_type": "code",
   "execution_count": null,
   "id": "1f0761cb",
   "metadata": {},
   "outputs": [],
   "source": [
    "# Run several times, separated by a few second\n",
    "# We should get the same results. \n",
    "\n",
    "as_of_time = datetime.utcnow()\n",
    "a_res = {}\n",
    "num_calls, sleep_sec = 2, 2.5\n",
    "for j in range(num_calls):\n",
    "    res_table = run_compute_option_valuations(api, demo0_optvals, as_of_time=as_of_time)\n",
    "    a_res[f\"run_{j}\"] = res_table.iloc[:,0]\n",
    "    if j < num_calls-1:\n",
    "        print(f'sleeping {sleep_sec} seconds.'), sleep(sleep_sec)\n",
    "\n",
    "print('Expected Behaviour: They should return the exactly the same results since \"as_of_time\" is specified.')\n",
    "\n",
    "pd.DataFrame(a_res)"
   ]
  },
  {
   "attachments": {},
   "cell_type": "markdown",
   "id": "045c001c",
   "metadata": {},
   "source": [
    "## Different Valuation Modes\n",
    "In addition to real-time and historical modes, we allow other modes by specifying `projection_method` and `discounting_method`. \n",
    "\n",
    "At this point, some of the supported combinations are demonstrated below. "
   ]
  },
  {
   "cell_type": "code",
   "execution_count": null,
   "id": "fa569bef",
   "metadata": {},
   "outputs": [],
   "source": [
    "my_options = [the_default_optval]\n",
    "as_of_time = datetime.utcnow()\n",
    "\n",
    "val_requests = {\n",
    "    'real-time (default)': OptionValuationRequest(options=my_options), \n",
    "    'historical (default)' : OptionValuationRequest(options=my_options, as_of_time=as_of_time),\n",
    "    'real-time (PM=F/DM=S)': OptionValuationRequest(options=my_options, projection_method=ProjectionMethod.FUTURES, discounting_method=DiscountingMethod.SELF_DISCOUNTING),\n",
    "    'historical (PM=C/DM=S)': OptionValuationRequest(options=my_options, as_of_time=as_of_time, projection_method=ProjectionMethod.CURVE, discounting_method=DiscountingMethod.SELF_DISCOUNTING),\n",
    "    'historical (PM=C/DM=C)': OptionValuationRequest(options=my_options, as_of_time=as_of_time, projection_method=ProjectionMethod.CURVE, discounting_method=DiscountingMethod.CURVE)\n",
    "}\n",
    "\n",
    "res_table, _, _ = run_multiple_option_valuation_requests(api, val_requests)\n",
    "res_table"
   ]
  },
  {
   "attachments": {},
   "cell_type": "markdown",
   "id": "5b88bc97",
   "metadata": {},
   "source": [
    "## Option Valuation using attributes (strikes, expiry, etc)\n",
    "Consider the predefined option and its replica using the same attributes"
   ]
  },
  {
   "cell_type": "code",
   "execution_count": null,
   "id": "cfa0e5a0",
   "metadata": {},
   "outputs": [],
   "source": [
    "demo1_optvals = {'predefined':the_default_optval, 'predefined_replica':the_replica_optval}\n",
    "\n",
    "# show option vals\n",
    "convert_object_dict_to_df(demo1_optvals)"
   ]
  },
  {
   "cell_type": "code",
   "execution_count": null,
   "id": "676905df",
   "metadata": {},
   "outputs": [],
   "source": [
    "res_table = run_compute_option_valuations(api, demo1_optvals)\n",
    "print('Expected Behaviour: Results should be identifical.')\n",
    "res_table\n"
   ]
  },
  {
   "attachments": {},
   "cell_type": "markdown",
   "id": "bd074cee",
   "metadata": {},
   "source": [
    "## With Market Data Overrides"
   ]
  },
  {
   "attachments": {},
   "cell_type": "markdown",
   "id": "02ce2e52",
   "metadata": {},
   "source": [
    "Let's override market data and see the impact on the present value. \n",
    "To this end, \n",
    "* Pick an option with the default market data as the 'base' case. \n",
    "* Create a collection of new option valuations with market data bumps over a set of bump sizes. \n",
    "* Send the base case and the bumped valuations to API to get the PVs back. \n",
    "\n",
    "To illustrate the results, \n",
    "* Calculate the PV impact of the bumps, i.e. PNL(bumped) = PV(bumped) - PV(base)\n",
    "* Plot PNLs over bumps.\n",
    "* Overlay Taylor approximations using Greeks of the base-case valuation. "
   ]
  },
  {
   "attachments": {},
   "cell_type": "markdown",
   "id": "65361b90",
   "metadata": {},
   "source": [
    "### Keep spot & vol base values\n",
    "For realistic demos below, let's keep the spot & vol level"
   ]
  },
  {
   "cell_type": "code",
   "execution_count": null,
   "id": "27b73616",
   "metadata": {},
   "outputs": [],
   "source": [
    "spot_base = res_table.loc['spot_price'].iloc[0]  # get a hint on the spot price level from the previous run\n",
    "vol_base = res_table.loc['iv'].iloc[0]"
   ]
  },
  {
   "cell_type": "markdown",
   "id": "fe894fd1",
   "metadata": {},
   "source": [
    "### Define a set of option valuations with spot bumps and send them to API"
   ]
  },
  {
   "cell_type": "code",
   "execution_count": null,
   "id": "260f9685",
   "metadata": {},
   "outputs": [],
   "source": [
    "# spot price dumpbs\n",
    "bumps_in_perc_multiplicative = [-20.0, -10.0, -5.0, -2.5, -1.0, 0.0, +1.0, +2.5, +5.0, +10.0, +20.0]\n",
    "# market data bump\n",
    "spot_bumps = {f'{sb}':spot_base*sb/100 for sb in bumps_in_perc_multiplicative}\n",
    "\n",
    "# pick the base option to bump\n",
    "base_optval = the_replica_optval.copy()\n",
    "\n",
    "# dictionary of option valuations with market data bumped\n",
    "spot_bumps_optvals = {'base': base_optval}\n",
    "for sb_key, sb_val in spot_bumps.items():\n",
    "    spot_bumps_optvals[f'spot_bump_{sb_key}%'] = apply_option_valuation_overrides(base_optval, spot_override=sb_val)\n",
    "\n",
    "# show option valuations\n",
    "convert_object_dict_to_df(spot_bumps_optvals)"
   ]
  },
  {
   "cell_type": "code",
   "execution_count": null,
   "id": "cf40e5de",
   "metadata": {},
   "outputs": [],
   "source": [
    "# Run 'compute_option_valuations'\n",
    "res_table = run_compute_option_valuations(api, spot_bumps_optvals)\n",
    "res_table"
   ]
  },
  {
   "cell_type": "markdown",
   "id": "e2c75e06",
   "metadata": {},
   "source": [
    "Let's plot. The Taylor expansion using the delta (and gamma) from the base option should give a good approximation of the spot bump/revals"
   ]
  },
  {
   "cell_type": "code",
   "execution_count": null,
   "id": "153e355b",
   "metadata": {},
   "outputs": [],
   "source": [
    "plot_bumped_pv(res_table, the_replica_optval.qty, spot_bumps, 'spot', 'delta', 'gamma')"
   ]
  },
  {
   "cell_type": "markdown",
   "id": "da88443d",
   "metadata": {},
   "source": [
    "### Vol Bumps"
   ]
  },
  {
   "cell_type": "code",
   "execution_count": null,
   "id": "031b84e1",
   "metadata": {},
   "outputs": [],
   "source": [
    "# vol bmps \n",
    "bumps_in_perc = [-20.0, -10.0, -5.0, -2.5, -1.0, 0.0, +1.0, +2.5, +5.0, +10.0, +20.0]\n",
    "# market data bump\n",
    "vol_bumps = {f'{sb}':sb/100 for sb in bumps_in_perc}\n",
    "\n",
    "# pick the base option to bump\n",
    "base_optval = the_replica_optval.copy()\n",
    "\n",
    "# dictionary of option valuations with market data bumped\n",
    "vol_bumps_optvals = {'base': base_optval}\n",
    "for sb_key, sb_val in vol_bumps.items():\n",
    "    vol_bumps_optvals[f'vol_bump_{sb_key}%'] = apply_option_valuation_overrides(base_optval, vol_override=sb_val)\n",
    "\n",
    "# show option valuations\n",
    "convert_object_dict_to_df(vol_bumps_optvals)"
   ]
  },
  {
   "cell_type": "code",
   "execution_count": null,
   "id": "920a67f4",
   "metadata": {},
   "outputs": [],
   "source": [
    "# Run 'compute_option_valuations'\n",
    "res_table = run_compute_option_valuations(api, vol_bumps_optvals)\n",
    "res_table"
   ]
  },
  {
   "cell_type": "markdown",
   "id": "722f1b47",
   "metadata": {},
   "source": [
    "Let's plot. The PnL profile should be well approximated by the first-order Taylor approximation, i.e. \n",
    "\n",
    "vega(base case) * (vol bump)."
   ]
  },
  {
   "cell_type": "code",
   "execution_count": null,
   "id": "78ce6066",
   "metadata": {},
   "outputs": [],
   "source": [
    "plot_bumped_pv(res_table, the_replica_optval.qty, vol_bumps, 'vol', 'vega')"
   ]
  },
  {
   "attachments": {},
   "cell_type": "markdown",
   "id": "13275990",
   "metadata": {},
   "source": [
    "## Replacements"
   ]
  },
  {
   "cell_type": "code",
   "execution_count": null,
   "id": "4b676a59",
   "metadata": {},
   "outputs": [],
   "source": [
    "spot_replacement = spot_base * 1.2\n",
    "vol_replacement = vol_base * 1.3\n",
    "\n",
    "my_optval = apply_option_valuation_overrides(the_replica_optval, \n",
    "    spot_override=spot_replacement, \n",
    "    spot_is_bump=False, \n",
    "    vol_override=vol_replacement,\n",
    "    vol_is_bump=False)\n",
    "replacement_optvals = {'base': the_replica_optval, 'replacement': my_optval}\n",
    "convert_object_dict_to_df(replacement_optvals)"
   ]
  },
  {
   "cell_type": "code",
   "execution_count": null,
   "id": "cbdc2e99",
   "metadata": {},
   "outputs": [],
   "source": [
    "# Run 'compute_option_valuations'\n",
    "res_table = run_compute_option_valuations(api, replacement_optvals)\n",
    "print('Expected Result: spot_price and iv are replaced as specified.')\n",
    "res_table"
   ]
  },
  {
   "cell_type": "markdown",
   "id": "b079ab84",
   "metadata": {},
   "source": [
    "## Options over Expiries\n",
    "\n",
    "So far, we considered an option with a specific expiry datetime and a strike. Now, let's consider 'ATM' options over a set of expiries. Here, ATM in the sense that the strike is the same to the spot price. "
   ]
  },
  {
   "cell_type": "code",
   "execution_count": null,
   "id": "aee6f707",
   "metadata": {},
   "outputs": [],
   "source": [
    "# Expiries\n",
    "expiry_times = {d:datetime.utcnow() + timedelta(d) for d in [7, 14, 30, 60, 90, 180, 360, 720]} # in days\n",
    "\n",
    "base_optval = the_replica_optval.copy()\n",
    "expiries_optvals = {}\n",
    "for d, ex in expiry_times.items():\n",
    "    expiries_optvals[f\"{d}-days\"] = apply_option_valuation_overrides(base_optval, strike_override=spot_base, expiry_override=ex)\n",
    "\n",
    "# show option valuations\n",
    "convert_object_dict_to_df(expiries_optvals)\n"
   ]
  },
  {
   "cell_type": "code",
   "execution_count": null,
   "id": "d0f69c61",
   "metadata": {},
   "outputs": [],
   "source": [
    "# Run 'compute_option_valuations'\n",
    "res_table = run_compute_option_valuations(api, expiries_optvals)\n",
    "res_table"
   ]
  },
  {
   "cell_type": "markdown",
   "id": "2fe1acf4",
   "metadata": {},
   "source": [
    "Let's plot some fields from the valuation results over expiries"
   ]
  },
  {
   "cell_type": "code",
   "execution_count": null,
   "id": "66f1a7b9",
   "metadata": {},
   "outputs": [],
   "source": [
    "plot_valuation_results(res_table, expiry_times.values())"
   ]
  },
  {
   "cell_type": "markdown",
   "id": "6b52bc07",
   "metadata": {},
   "source": [
    "# END"
   ]
  },
  {
   "cell_type": "markdown",
   "id": "0c79e727",
   "metadata": {},
   "source": []
  }
 ],
 "metadata": {
  "kernelspec": {
   "display_name": "Python 3.8.13 ('.venv': poetry)",
   "language": "python",
   "name": "python3"
  },
  "language_info": {
   "codemirror_mode": {
    "name": "ipython",
    "version": 3
   },
   "file_extension": ".py",
   "mimetype": "text/x-python",
   "name": "python",
   "nbconvert_exporter": "python",
   "pygments_lexer": "ipython3",
   "version": "3.8.13"
  },
  "vscode": {
   "interpreter": {
    "hash": "a9133bd78629d3cc654928cc351bdc92c5978c16630b1b6e70bc57fa07ab43c7"
   }
  }
 },
 "nbformat": 4,
 "nbformat_minor": 5
}

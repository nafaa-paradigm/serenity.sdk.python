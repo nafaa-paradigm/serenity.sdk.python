{
 "cells": [
  {
   "cell_type": "markdown",
   "id": "b90bcbf6-a176-498b-b540-6891830c1bed",
   "metadata": {},
   "source": [
    "# Demo: Serenity Model Metadata API\n",
    "\n",
    "One of Serenity's strengths is it is a multi-model platform: over time we will be adding more and more models that you can access\n",
    "either via the front-end or via API. Although we will provide reasonable defaults, you may wish to target a specific version of\n",
    "a particular model for risk attribution, scenarios or other functionality. For instance, you may wish to run risk attribution\n",
    "at multiple time horizons. In order ot do this you need to use different _model configurations_. The Model Metadata API lets \n",
    "you look up the model configuration ID's by name, and so is essential. Note in the coming release of the Serenity front-end we\n",
    "will be adding a visual model browser for interactive use."
   ]
  },
  {
   "cell_type": "code",
   "execution_count": 1,
   "id": "1f81870d-1e41-41b3-acd0-56bc6b13a3e7",
   "metadata": {},
   "outputs": [],
   "source": [
    "import datetime\n",
    "import pandas as pd\n",
    "\n",
    "from serenity_sdk.client import load_local_config\n",
    "from serenity_sdk.client import Environment, Region, SerenityApiProvider, SerenityClient\n",
    "\n",
    "%load_ext autoreload\n",
    "%autoreload 2\n",
    "\n",
    "# Use your own config_id here; set up in the API Management app as per the User Guide\n",
    "config_id = 'athansor'  \n",
    "config = load_local_config(config_id)\n",
    "\n",
    "# in general you will want to use Environment.PRODUCTION and Region.GLOBAL, the defaults\n",
    "client = SerenityClient(config, env=Environment.DEV, region=Region.EASTUS_2)\n",
    "api = SerenityApiProvider(client)"
   ]
  },
  {
   "cell_type": "code",
   "execution_count": null,
   "id": "5a95540f-0956-40f4-ba34-6ed793a4dc18",
   "metadata": {},
   "outputs": [],
   "source": []
  }
 ],
 "metadata": {
  "kernelspec": {
   "display_name": "Python 3 (ipykernel)",
   "language": "python",
   "name": "python3"
  },
  "language_info": {
   "codemirror_mode": {
    "name": "ipython",
    "version": 3
   },
   "file_extension": ".py",
   "mimetype": "text/x-python",
   "name": "python",
   "nbconvert_exporter": "python",
   "pygments_lexer": "ipython3",
   "version": "3.10.5"
  }
 },
 "nbformat": 4,
 "nbformat_minor": 5
}

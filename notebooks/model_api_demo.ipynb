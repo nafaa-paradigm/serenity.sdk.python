{
 "cells": [
  {
   "cell_type": "markdown",
   "id": "b90bcbf6-a176-498b-b540-6891830c1bed",
   "metadata": {},
   "source": [
    "# Demo: Serenity Model Metadata API\n",
    "\n",
    "One of Serenity's strengths is it is a multi-model platform: over time we will be adding more and more models that you can access\n",
    "either via the front-end or via API. Although we will provide reasonable defaults, you may wish to target a specific version of\n",
    "a particular model for risk attribution, scenarios or other functionality. For instance, you may wish to run risk attribution\n",
    "at multiple time horizons. In order ot do this you need to use different _model configurations_. The Model Metadata API lets \n",
    "you look up the model configuration ID's by name, and so is essential. Note in the coming release of the Serenity front-end we\n",
    "will be adding a visual model browser for interactive use."
   ]
  },
  {
   "cell_type": "code",
   "execution_count": 2,
   "id": "1f81870d-1e41-41b3-acd0-56bc6b13a3e7",
   "metadata": {},
   "outputs": [
    {
     "data": {
      "application/vnd.jupyter.widget-view+json": {
       "model_id": "1d6ce285dca24c068e47941860b9b92d",
       "version_major": 2,
       "version_minor": 0
      },
      "text/plain": [
       "VBox(children=(HBox(children=(Combobox(value='pgi', description='API Config:', ensure_option=True, options=('a…"
      ]
     },
     "metadata": {},
     "output_type": "display_data"
    }
   ],
   "source": [
    "%%capture --no-stderr --no-display\n",
    "%load_ext autoreload\n",
    "%autoreload 2\n",
    "%run -i init_demo.py"
   ]
  },
  {
   "cell_type": "markdown",
   "id": "13afb384-78d2-4a0c-a1fc-014d3cc50348",
   "metadata": {},
   "source": [
    "The easiest way to work with the Model Metadata API is just to load all the metadata into memory:"
   ]
  },
  {
   "cell_type": "code",
   "execution_count": 3,
   "id": "650991b9-4185-4ef3-b812-6a9d04358dc3",
   "metadata": {},
   "outputs": [],
   "source": [
    "model_meta = api.model().load_model_metadata(datetime.date.today())"
   ]
  },
  {
   "cell_type": "markdown",
   "id": "57932cec-b7e7-4596-b57d-90f88cb575a9",
   "metadata": {},
   "source": [
    "You can list the model classes currently available:"
   ]
  },
  {
   "cell_type": "code",
   "execution_count": 11,
   "id": "c2e94b1e-cc6d-4ff7-a76e-0eecaf3c6167",
   "metadata": {},
   "outputs": [
    {
     "data": {
      "text/plain": [
       "['Value at Risk (VaR)', 'Market Risk']"
      ]
     },
     "metadata": {},
     "output_type": "display_data"
    }
   ],
   "source": [
    "model_classes = model_meta.get_model_class_names()\n",
    "print(model_classes)"
   ]
  },
  {
   "cell_type": "markdown",
   "id": "ddd6bcc1-2f83-4249-89a5-fbcc4fac11c8",
   "metadata": {},
   "source": [
    "And then the model implementations:"
   ]
  },
  {
   "cell_type": "code",
   "execution_count": 13,
   "id": "a2ab71f8-24d6-4f54-9a85-3c7a4801f43c",
   "metadata": {},
   "outputs": [
    {
     "name": "stdout",
     "output_type": "stream",
     "text": [
      "['Normal Parametric VaR', 'Serenity Factor Risk Model', 'Historical VaR']\n"
     ]
    }
   ],
   "source": [
    "models = model_meta.get_model_names()\n",
    "print(models)"
   ]
  },
  {
   "cell_type": "markdown",
   "id": "eb95ca61-c0f5-4f2e-8011-6f249d523f9f",
   "metadata": {},
   "source": [
    "If you want to view all the supported configurations for lookup, you can get the short ID and description easily:"
   ]
  },
  {
   "cell_type": "code",
   "execution_count": 4,
   "id": "5a95540f-0956-40f4-ba34-6ed793a4dc18",
   "metadata": {},
   "outputs": [
    {
     "data": {
      "text/html": [
       "<div>\n",
       "<style scoped>\n",
       "    .dataframe tbody tr th:only-of-type {\n",
       "        vertical-align: middle;\n",
       "    }\n",
       "\n",
       "    .dataframe tbody tr th {\n",
       "        vertical-align: top;\n",
       "    }\n",
       "\n",
       "    .dataframe thead th {\n",
       "        text-align: right;\n",
       "    }\n",
       "</style>\n",
       "<table border=\"1\" class=\"dataframe\">\n",
       "  <thead>\n",
       "    <tr style=\"text-align: right;\">\n",
       "      <th></th>\n",
       "      <th>Short ID</th>\n",
       "      <th>Description</th>\n",
       "    </tr>\n",
       "  </thead>\n",
       "  <tbody>\n",
       "    <tr>\n",
       "      <th>0</th>\n",
       "      <td>risk.var.parametric.normal</td>\n",
       "      <td>Normal Parametric VaR (Standard Configuration)</td>\n",
       "    </tr>\n",
       "    <tr>\n",
       "      <th>1</th>\n",
       "      <td>risk.factor.regression.SLM.MT</td>\n",
       "      <td>SFRM Linear Model (Medium Time Horizon)</td>\n",
       "    </tr>\n",
       "    <tr>\n",
       "      <th>2</th>\n",
       "      <td>risk.var.historical</td>\n",
       "      <td>Historical VaR (Standard Configuration)</td>\n",
       "    </tr>\n",
       "  </tbody>\n",
       "</table>\n",
       "</div>"
      ],
      "text/plain": [
       "                        Short ID  \\\n",
       "0     risk.var.parametric.normal   \n",
       "1  risk.factor.regression.SLM.MT   \n",
       "2            risk.var.historical   \n",
       "\n",
       "                                      Description  \n",
       "0  Normal Parametric VaR (Standard Configuration)  \n",
       "1         SFRM Linear Model (Medium Time Horizon)  \n",
       "2         Historical VaR (Standard Configuration)  "
      ]
     },
     "execution_count": 4,
     "metadata": {},
     "output_type": "execute_result"
    }
   ],
   "source": [
    "configs = model_meta.get_model_configurations()\n",
    "pd.DataFrame.from_dict(configs, orient='index', columns=['Description']).reset_index().rename(columns={'index': 'Short ID'})"
   ]
  },
  {
   "cell_type": "markdown",
   "id": "6fdb4463-76c4-435b-97b7-9d5f9966a4ed",
   "metadata": {},
   "source": [
    "From here you can look up the UUID for use in the risk tools:"
   ]
  },
  {
   "cell_type": "code",
   "execution_count": 7,
   "id": "5f06e768-5c55-4005-8d02-e50659bf0cff",
   "metadata": {},
   "outputs": [
    {
     "data": {
      "text/plain": [
       "UUID('4a083583-cfa5-4806-b998-a27f8ac03c2b')"
      ]
     },
     "metadata": {},
     "output_type": "display_data"
    }
   ],
   "source": [
    "model_config_id = model_meta.get_model_configuration_id('risk.var.historical')\n",
    "print(model_config_id)"
   ]
  }
 ],
 "metadata": {
  "kernelspec": {
   "display_name": "Python 3 (ipykernel)",
   "language": "python",
   "name": "python3"
  },
  "language_info": {
   "codemirror_mode": {
    "name": "ipython",
    "version": 3
   },
   "file_extension": ".py",
   "mimetype": "text/x-python",
   "name": "python",
   "nbconvert_exporter": "python",
   "pygments_lexer": "ipython3",
   "version": "3.10.5"
  }
 },
 "nbformat": 4,
 "nbformat_minor": 5
}

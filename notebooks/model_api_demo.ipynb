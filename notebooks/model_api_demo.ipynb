{
 "cells": [
  {
   "cell_type": "markdown",
   "id": "b90bcbf6-a176-498b-b540-6891830c1bed",
   "metadata": {},
   "source": [
    "# Demo: Serenity Model Metadata API\n",
    "\n",
    "One of Serenity's strengths is it is a multi-model platform: over time we will be adding more and more models that you can access\n",
    "either via the front-end or via API. Although we will provide reasonable defaults, you may wish to target a specific version of\n",
    "a particular model for risk attribution, scenarios or other functionality. For instance, you may wish to run risk attribution\n",
    "at multiple time horizons. In order ot do this you need to use different _model configurations_. The Model Metadata API lets \n",
    "you look up the model configuration ID's by name, and so is essential. Note in the coming release of the Serenity front-end we\n",
    "will be adding a visual model browser for interactive use."
   ]
  },
  {
   "cell_type": "code",
   "execution_count": null,
   "id": "1f81870d-1e41-41b3-acd0-56bc6b13a3e7",
   "metadata": {},
   "outputs": [],
   "source": [
    "%%capture --no-stderr --no-display\n",
    "%load_ext autoreload\n",
    "%autoreload 2"
   ]
  },
  {
   "cell_type": "code",
   "execution_count": null,
   "id": "42ee0245",
   "metadata": {},
   "outputs": [],
   "source": [
    "from os import getenv\n",
    "from serenity_sdk.widgets import ConnectWidget\n",
    "\n",
    "# if you want to auto-connect, set this environment variable to your desired default\n",
    "connect_widget = ConnectWidget(getenv('SERENITY_CONFIG_ID', None))"
   ]
  },
  {
   "cell_type": "code",
   "execution_count": null,
   "id": "2aa95c6e",
   "metadata": {},
   "outputs": [],
   "source": [
    "import datetime\n",
    "\n",
    "import pandas as pd\n",
    "\n",
    "# create an alias to the api\n",
    "api = connect_widget.get_api()"
   ]
  },
  {
   "cell_type": "markdown",
   "id": "13afb384-78d2-4a0c-a1fc-014d3cc50348",
   "metadata": {},
   "source": [
    "The easiest way to work with the Model Metadata API is just to load all the metadata into memory:"
   ]
  },
  {
   "cell_type": "code",
   "execution_count": null,
   "id": "650991b9-4185-4ef3-b812-6a9d04358dc3",
   "metadata": {},
   "outputs": [],
   "source": [
    "model_meta = api.model().load_model_metadata(datetime.date.today())"
   ]
  },
  {
   "cell_type": "markdown",
   "id": "57932cec-b7e7-4596-b57d-90f88cb575a9",
   "metadata": {},
   "source": [
    "You can list the model classes currently available:"
   ]
  },
  {
   "cell_type": "code",
   "execution_count": null,
   "id": "c2e94b1e-cc6d-4ff7-a76e-0eecaf3c6167",
   "metadata": {},
   "outputs": [],
   "source": [
    "model_classes = model_meta.get_model_class_names()\n",
    "print(model_classes)"
   ]
  },
  {
   "cell_type": "markdown",
   "id": "ddd6bcc1-2f83-4249-89a5-fbcc4fac11c8",
   "metadata": {},
   "source": [
    "And then the model implementations:"
   ]
  },
  {
   "cell_type": "code",
   "execution_count": null,
   "id": "a2ab71f8-24d6-4f54-9a85-3c7a4801f43c",
   "metadata": {},
   "outputs": [],
   "source": [
    "models = model_meta.get_model_names()\n",
    "print(models)"
   ]
  },
  {
   "cell_type": "markdown",
   "id": "eb95ca61-c0f5-4f2e-8011-6f249d523f9f",
   "metadata": {},
   "source": [
    "If you want to view all the supported configurations for lookup, you can get the short ID and description easily:"
   ]
  },
  {
   "cell_type": "code",
   "execution_count": null,
   "id": "5a95540f-0956-40f4-ba34-6ed793a4dc18",
   "metadata": {},
   "outputs": [],
   "source": [
    "configs = model_meta.get_model_configurations()\n",
    "pd.DataFrame.from_dict(configs, orient='index', columns=['Description']).reset_index().rename(columns={'index': 'Short ID'})"
   ]
  },
  {
   "cell_type": "markdown",
   "id": "6fdb4463-76c4-435b-97b7-9d5f9966a4ed",
   "metadata": {},
   "source": [
    "From here you can look up the UUID for use in the risk tools:"
   ]
  },
  {
   "cell_type": "code",
   "execution_count": null,
   "id": "5f06e768-5c55-4005-8d02-e50659bf0cff",
   "metadata": {},
   "outputs": [],
   "source": [
    "model_config_id = model_meta.get_model_configuration_id('risk.var.historical')\n",
    "print(model_config_id)"
   ]
  }
 ],
 "metadata": {
  "kernelspec": {
   "display_name": ".venv",
   "language": "python",
   "name": "python3"
  },
  "language_info": {
   "codemirror_mode": {
    "name": "ipython",
    "version": 3
   },
   "file_extension": ".py",
   "mimetype": "text/x-python",
   "name": "python",
   "nbconvert_exporter": "python",
   "pygments_lexer": "ipython3",
   "version": "3.9.15"
  },
  "vscode": {
   "interpreter": {
    "hash": "da01d933f08a19496ff2bc47bee57d1aad5a98d2dadc2d94c49482637001ed3b"
   }
  }
 },
 "nbformat": 4,
 "nbformat_minor": 5
}

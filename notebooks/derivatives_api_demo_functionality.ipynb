{
 "cells": [
  {
   "attachments": {},
   "cell_type": "markdown",
   "id": "b90bcbf6-a176-498b-b540-6891830c1bed",
   "metadata": {},
   "source": [
    "# Demo: Serenity Derivatives API Function Showcase\n",
    "\n",
    "Serenity builds in sophisticated option and rates analytics as part of its core offering, and these functions\n",
    "are all exposed via the API. This notebook shows how to use API functions."
   ]
  },
  {
   "cell_type": "code",
   "execution_count": null,
   "id": "1f81870d-1e41-41b3-acd0-56bc6b13a3e7",
   "metadata": {},
   "outputs": [],
   "source": [
    "%%capture --no-stderr --no-display\n",
    "%load_ext autoreload\n",
    "%autoreload 2"
   ]
  },
  {
   "cell_type": "code",
   "execution_count": null,
   "id": "3b92950c",
   "metadata": {},
   "outputs": [],
   "source": [
    "from os import getenv\n",
    "from serenity_sdk.widgets import ConnectWidget\n",
    "\n",
    "# if you want to auto-connect, set this environment variable to your desired default\n",
    "connect_widget = ConnectWidget(getenv('SERENITY_CONFIG_ID', None))"
   ]
  },
  {
   "cell_type": "code",
   "execution_count": null,
   "id": "a51af12a",
   "metadata": {},
   "outputs": [],
   "source": [
    "from datetime import datetime, timedelta\n",
    "from uuid import UUID, uuid4\n",
    "import matplotlib.pyplot as plt\n",
    "\n",
    "import numpy as np\n",
    "import pandas as pd\n",
    "import random\n",
    "\n",
    "from serenity_types.pricing.derivatives.rates.yield_curve import (\n",
    "    CurveUsage, \n",
    "    YieldCurveVersion, InterpolatedYieldCurve, \n",
    "    InterpolationMethod, YieldCurveDefinition)\n",
    "from serenity_types.pricing.derivatives.options.valuation import (\n",
    "    DiscountingMethod, \n",
    "    MarketDataOverride, \n",
    "    YieldCurveOverride,\n",
    "    OptionValuationRequest, \n",
    "    OptionValuation\n",
    "    )\n",
    "from serenity_types.pricing.derivatives.options.volsurface import (\n",
    "    StrikeType, VolatilitySurfaceDefinition,\n",
    "    InterpolatedVolatilitySurface, VolModel, DiscountingMethod, ProjectionMethod\n",
    ")\n",
    "\n",
    "import serenity_sdk.renderers.derivatives.converters as rcvtr\n",
    "\n",
    "# plot parameters\n",
    "plt.rcParams['font.size'] = '16'\n",
    "\n",
    "# create an alias to the api\n",
    "api = connect_widget.get_api()"
   ]
  },
  {
   "attachments": {},
   "cell_type": "markdown",
   "id": "6e15af51",
   "metadata": {},
   "source": [
    "# Select underlier asset and option\n",
    "Select an underlier asset and an option to use in the rest of this notebook."
   ]
  },
  {
   "cell_type": "code",
   "execution_count": null,
   "id": "8aa9b5ad",
   "metadata": {},
   "outputs": [],
   "source": [
    "# Get all supported underlier assets\n",
    "api.pricer().get_supported_underliers()"
   ]
  },
  {
   "cell_type": "code",
   "execution_count": null,
   "id": "451990c0",
   "metadata": {},
   "outputs": [],
   "source": [
    "# Let's pick a underlier to use below. \n",
    "underlier_asset_uuid = UUID('78e2e8e2-419d-4515-9b6a-3d5ff1448e89') # BTC uuid"
   ]
  },
  {
   "cell_type": "code",
   "execution_count": null,
   "id": "2b8851c1",
   "metadata": {},
   "outputs": [],
   "source": [
    "# get all supported options o f the selected underlier\n",
    "supported_options = api.pricer().get_supported_options(underlier_asset_id=underlier_asset_uuid)\n",
    "print('Showing a sample supported option: ')\n",
    "supported_options[-1]"
   ]
  },
  {
   "cell_type": "code",
   "execution_count": null,
   "id": "6ba640b8",
   "metadata": {},
   "outputs": [],
   "source": [
    "# Let's pickk an option to use below. \n",
    "selected_option_uuid = UUID('18e9996d-1681-5111-be8f-39704c11126e')\n",
    "selected_option = [so for so in supported_options if so.asset_id == selected_option_uuid][0]\n",
    "selected_option"
   ]
  },
  {
   "attachments": {},
   "cell_type": "markdown",
   "id": "d63101cb",
   "metadata": {},
   "source": [
    "# Available yield curves"
   ]
  },
  {
   "cell_type": "code",
   "execution_count": null,
   "id": "d1a9d57c",
   "metadata": {},
   "outputs": [],
   "source": [
    "start_dt, end_dt = (datetime.utcnow() - timedelta(hours=5)), datetime.utcnow()"
   ]
  },
  {
   "cell_type": "code",
   "execution_count": null,
   "id": "2084f7e2",
   "metadata": {},
   "outputs": [],
   "source": [
    "# as of the latest, without UUID, show all curves\n",
    "versions = api.pricer().get_available_yield_curve_versions()\n",
    "print(f\"# of versions: {len(versions)}\")\n",
    "print(versions)\n",
    "\n",
    "#### Let's keep the relevant curves for option valuations later in this notebook\n",
    "yc_proj_version = [v for v in versions if v.definition.underlier_asset_id==underlier_asset_uuid][0]\n",
    "yc_disc_version = [v for v in versions if v.definition.curve_usage==CurveUsage.DISCOUNTING][0]\n",
    "disc_underlier_uuid = yc_disc_version.definition.underlier_asset_id"
   ]
  },
  {
   "cell_type": "code",
   "execution_count": null,
   "id": "808c770b",
   "metadata": {},
   "outputs": [],
   "source": [
    "# as of the latest, with UUID\n",
    "data_id = versions[0].definition.yield_curve_id\n",
    "versions = api.pricer().get_available_yield_curve_versions(yield_curve_id=data_id)\n",
    "print(f\"With UUID = {data_id}, # of versions: {len(versions)}\")\n",
    "versions"
   ]
  },
  {
   "cell_type": "code",
   "execution_count": null,
   "id": "c42e759f",
   "metadata": {},
   "outputs": [],
   "source": [
    "# with the time period\n",
    "versions = api.pricer().get_available_yield_curve_versions(start_datetime=start_dt, end_datetime=end_dt)\n",
    "versions = api.pricer().get_available_yield_curve_versions(yield_curve_id = data_id, start_datetime=start_dt, end_datetime=end_dt)"
   ]
  },
  {
   "attachments": {},
   "cell_type": "markdown",
   "id": "350bb140",
   "metadata": {},
   "source": [
    "# Available volatlity surfaces"
   ]
  },
  {
   "cell_type": "code",
   "execution_count": null,
   "id": "85c22f87",
   "metadata": {},
   "outputs": [],
   "source": [
    "# as of the latest, without UUID, show all vol surface\n",
    "versions = api.pricer().get_available_volatility_surface_versions()\n",
    "print(f\"# of versions: {len(versions)}\")\n",
    "print(versions)\n",
    "\n",
    "#### Let's keep the relevant volatility surface for option valuations later in this notebook\n",
    "vol_surf_version = [v for v in versions if v.definition.underlier_asset_id==underlier_asset_uuid and v.definition.strike_type==StrikeType.LOG_MONEYNESS][0]"
   ]
  },
  {
   "cell_type": "code",
   "execution_count": null,
   "id": "12c628bf",
   "metadata": {},
   "outputs": [],
   "source": [
    "# as of the latest, with UUID\n",
    "data_id = versions[0].definition.vol_surface_id\n",
    "versions = api.pricer().get_available_volatility_surface_versions(vol_surface_id=data_id)\n",
    "print(f\"With UUID = {data_id}, # of versions: {len(versions)}\")\n",
    "versions\n"
   ]
  },
  {
   "cell_type": "code",
   "execution_count": null,
   "id": "9039c17e",
   "metadata": {},
   "outputs": [],
   "source": [
    "# with the time period\n",
    "versions = api.pricer().get_available_volatility_surface_versions(start_datetime=start_dt, end_datetime=end_dt)\n",
    "versions = api.pricer().get_available_volatility_surface_versions(vol_surface_id=data_id, start_datetime=start_dt, end_datetime=end_dt)"
   ]
  },
  {
   "attachments": {},
   "cell_type": "markdown",
   "id": "c7c0986c",
   "metadata": {},
   "source": [
    "# Option valuation"
   ]
  },
  {
   "cell_type": "code",
   "execution_count": null,
   "id": "cf13b4a1",
   "metadata": {},
   "outputs": [],
   "source": [
    "# selected option valuation using the default option\n",
    "opt_val = OptionValuation(option_valuation_id=str(uuid4()),option_asset_id=selected_option_uuid)"
   ]
  },
  {
   "attachments": {},
   "cell_type": "markdown",
   "id": "55a230f3",
   "metadata": {},
   "source": [
    "## Run different valuation modes\n",
    "Users can choose to run in \n",
    "* Real-time mode: Leave `as_of_time` empty.\n",
    "* Historical mode: Set `as_of_time`\n",
    "And, set the different combinatiions of projection & discounting methods"
   ]
  },
  {
   "cell_type": "code",
   "execution_count": null,
   "id": "4072ec18",
   "metadata": {},
   "outputs": [],
   "source": [
    "results = {}\n",
    "utc_now = datetime.utcnow()\n",
    "results['Real,P(C),D(S)'] = api.pricer().compute_option_valuations(request=OptionValuationRequest(\n",
    "    options=[opt_val], \n",
    "    projection_method=ProjectionMethod.CURVE,\n",
    "    discounting_method=DiscountingMethod.SELF_DISCOUNTING))\n",
    "results['Real,P(C),D(C)'] = api.pricer().compute_option_valuations(request=OptionValuationRequest(\n",
    "    options=[opt_val], \n",
    "    projection_method=ProjectionMethod.CURVE,\n",
    "    discounting_method=DiscountingMethod.CURVE))\n",
    "results['Real,P(F),D(S)'] = api.pricer().compute_option_valuations(request=OptionValuationRequest(\n",
    "    options=[opt_val], \n",
    "    projection_method=ProjectionMethod.FUTURES,\n",
    "    discounting_method=DiscountingMethod.SELF_DISCOUNTING))\n",
    "results['Real,P(F),D(C)'] = api.pricer().compute_option_valuations(request=OptionValuationRequest(\n",
    "    options=[opt_val], \n",
    "    projection_method=ProjectionMethod.FUTURES,\n",
    "    discounting_method=DiscountingMethod.CURVE))\n",
    "results['Hist,P(C),D(S)'] = api.pricer().compute_option_valuations(request=OptionValuationRequest(\n",
    "    as_of_time=utc_now,\n",
    "    options=[opt_val], \n",
    "    projection_method=ProjectionMethod.CURVE,\n",
    "    discounting_method=DiscountingMethod.SELF_DISCOUNTING))\n",
    "results['Hist,P(C),D(C)'] = api.pricer().compute_option_valuations(request=OptionValuationRequest(\n",
    "    as_of_time=utc_now,\n",
    "    options=[opt_val], \n",
    "    projection_method=ProjectionMethod.CURVE,\n",
    "    discounting_method=DiscountingMethod.CURVE))\n",
    "\n",
    "rcvtr.convert_object_dict_to_df({k:v[0] for k,v in results.items()})"
   ]
  },
  {
   "attachments": {},
   "cell_type": "markdown",
   "id": "cc5c4d5d",
   "metadata": {},
   "source": [
    "## Specify curve and vol surface with UUIDs\n",
    "\n",
    "Users cann specify curve and volatility UUIDs"
   ]
  },
  {
   "cell_type": "code",
   "execution_count": null,
   "id": "63e35d7b",
   "metadata": {},
   "outputs": [],
   "source": [
    "api.pricer().compute_option_valuations(request=OptionValuationRequest(\n",
    "    options=[opt_val], \n",
    "    projection_method=ProjectionMethod.CURVE,\n",
    "    discounting_method=DiscountingMethod.CURVE,\n",
    "    projection_curve_override=YieldCurveOverride(yield_curve_id=yc_proj_version.definition.yield_curve_id),\n",
    "    discounting_curve_override=YieldCurveOverride(yield_curve_id=yc_disc_version.definition.yield_curve_id),\n",
    "    vol_surface_id=vol_surf_version.definition.vol_surface_id\n",
    "    ))"
   ]
  },
  {
   "attachments": {},
   "cell_type": "markdown",
   "id": "050050d6",
   "metadata": {},
   "source": [
    "## Use an own volatility surface\n",
    "\n",
    "Users can construct their own volatilty surfaces using SVI parameters"
   ]
  },
  {
   "cell_type": "code",
   "execution_count": null,
   "id": "868e78f1",
   "metadata": {},
   "outputs": [],
   "source": [
    "# Set up vol surface. For demonstration purpose, we set up a flat volatility surface\n",
    "vol_level = 0.5\n",
    "calibration_params={tte: {'a': vol_level**2*tte, 'b': 0.0, 'rho': 0.0, 'm':0.0, 's': 0.0}\n",
    "    for tte in [0.1, 0.5, 1.0]}\n",
    "\n",
    "my_vs_def = VolatilitySurfaceDefinition(\n",
    "    vol_surface_id=str(uuid4()), vol_model=VolModel.SVI, \n",
    "    strike_type=StrikeType.LOG_MONEYNESS, underlier_asset_id=underlier_asset_uuid,\n",
    "    display_name='My VS')\n",
    "my_interp_vs = InterpolatedVolatilitySurface(definition=my_vs_def,calibration_params=calibration_params,\n",
    "        strikes=[0,1],time_to_expiries=[0,1],vols=[0,0,0,0],input_params={})\n",
    "\n",
    "api.pricer().compute_option_valuations(request=OptionValuationRequest(options=[opt_val], vol_surface=my_interp_vs))   "
   ]
  },
  {
   "attachments": {},
   "cell_type": "markdown",
   "id": "6e2c85f3",
   "metadata": {},
   "source": [
    "## Spot and Volatillity Overrides\n",
    "\n",
    "Users can bump/replace spot and volatility"
   ]
  },
  {
   "cell_type": "code",
   "execution_count": null,
   "id": "f4eebe30",
   "metadata": {},
   "outputs": [],
   "source": [
    "opt_val_with_overrides = OptionValuation(option_valuation_id=str(uuid4()), option_asset_id=selected_option_uuid, \n",
    "    spot_price_override=MarketDataOverride(additive_bump=1000), implied_vol_override=MarketDataOverride(replacement=0.1))\n",
    "\n",
    "api.pricer().compute_option_valuations(request=OptionValuationRequest(options=[opt_val_with_overrides]))   "
   ]
  },
  {
   "cell_type": "markdown",
   "id": "7aa0914a",
   "metadata": {},
   "source": [
    "# END"
   ]
  }
 ],
 "metadata": {
  "kernelspec": {
   "display_name": ".venv",
   "language": "python",
   "name": "python3"
  },
  "language_info": {
   "codemirror_mode": {
    "name": "ipython",
    "version": 3
   },
   "file_extension": ".py",
   "mimetype": "text/x-python",
   "name": "python",
   "nbconvert_exporter": "python",
   "pygments_lexer": "ipython3",
   "version": "3.8.10"
  },
  "vscode": {
   "interpreter": {
    "hash": "a9133bd78629d3cc654928cc351bdc92c5978c16630b1b6e70bc57fa07ab43c7"
   }
  }
 },
 "nbformat": 4,
 "nbformat_minor": 5
}

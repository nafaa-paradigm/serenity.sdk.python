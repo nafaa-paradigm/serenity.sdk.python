{
 "cells": [
  {
   "cell_type": "markdown",
   "id": "611c0e34-6774-43d8-8cb2-c6392eae95f6",
   "metadata": {},
   "source": [
    "# Demo: Serenity Reference Data API\n",
    "\n",
    "Serenity has its own asset master containing the system-specific and asset metadata that you need to use the other features.\n",
    "This notebook demonstrates how to use it to query the system for reference data."
   ]
  },
  {
   "cell_type": "code",
   "execution_count": null,
   "id": "b5ec6a17-9178-4e67-b6cc-43585d61cba4",
   "metadata": {},
   "outputs": [],
   "source": [
    "%%capture --no-stderr --no-display\n",
    "%load_ext autoreload\n",
    "%autoreload 2"
   ]
  },
  {
   "cell_type": "code",
   "execution_count": null,
   "id": "74172c3d",
   "metadata": {},
   "outputs": [],
   "source": [
    "from os import getenv\n",
    "from serenity_sdk.widgets import ConnectWidget\n",
    "\n",
    "# if you want to auto-connect, set this environment variable to your desired default\n",
    "connect_widget = ConnectWidget(getenv('SERENITY_CONFIG_ID', None))"
   ]
  },
  {
   "cell_type": "code",
   "execution_count": null,
   "id": "d4795650",
   "metadata": {},
   "outputs": [],
   "source": [
    "import datetime\n",
    "\n",
    "import pandas as pd\n",
    "\n",
    "# create an alias to the api\n",
    "api = connect_widget.get_api()"
   ]
  },
  {
   "attachments": {},
   "cell_type": "markdown",
   "id": "aca0c44b",
   "metadata": {},
   "source": [
    "## Core Reference Data"
   ]
  },
  {
   "cell_type": "markdown",
   "id": "82fe82cf-e3fa-4b0e-b509-9178b4995c02",
   "metadata": {},
   "source": [
    "Serenity supports multiple asset types to encompass instruments like tokens, fiat currency and derivatives. You can get a simple mapping of the type names and their descriptions via the API:"
   ]
  },
  {
   "cell_type": "code",
   "execution_count": null,
   "id": "445dd111-8c99-45d9-ae3b-2965b757c825",
   "metadata": {},
   "outputs": [],
   "source": [
    "asset_types = api.refdata().get_asset_types()\n",
    "pd.DataFrame.from_dict(asset_types, orient='index', columns=['Description']).reset_index().rename(columns={'index': 'Short ID'})"
   ]
  },
  {
   "cell_type": "markdown",
   "id": "7c9b0a8a-36cd-4dd0-8fc7-ad79d92e20a7",
   "metadata": {},
   "source": [
    "A symbol authority is an organization that defines a symbology, a universe of symbols for assets. You can use different authorities like DAR or KAIKO for symbols, and then map them into symbols. This API call lets you get their names and descriptions:"
   ]
  },
  {
   "cell_type": "code",
   "execution_count": null,
   "id": "ca2e5b5f-4a08-42ea-9b8d-eae384ce0650",
   "metadata": {},
   "outputs": [],
   "source": [
    "authorities = api.refdata().get_symbol_authorities()\n",
    "pd.DataFrame.from_dict(authorities, orient='index', columns=['Description']).reset_index().rename(columns={'index': 'Short ID'})"
   ]
  },
  {
   "cell_type": "markdown",
   "id": "d7abacf2-47ca-4e48-85ec-92edb91fcba2",
   "metadata": {},
   "source": [
    "Serenity's risk attribution and other tools can use sector taxonomies to create hierarchies of assets. Because this is extensible, they each have unique identifiers. This call lets you get you those identifiers by name, e.g. DATS:"
   ]
  },
  {
   "cell_type": "code",
   "execution_count": null,
   "id": "72d7666e-d081-4f63-9d79-90490eeb8b33",
   "metadata": {},
   "outputs": [],
   "source": [
    "sector_taxonomies = api.refdata().get_sector_taxonomies()\n",
    "pd.DataFrame.from_dict(sector_taxonomies, orient='index', columns=['Short ID']).reset_index().rename(columns={'index': 'UUID'})"
   ]
  },
  {
   "cell_type": "markdown",
   "id": "04350e7c-fec1-4236-add3-8d7ece0ae4e5",
   "metadata": {},
   "source": [
    "If you just want to browse the asset catalog, you can use this call to get all the asset records (in JSON format):"
   ]
  },
  {
   "cell_type": "code",
   "execution_count": null,
   "id": "4137c1db-362f-4e28-a7a9-23e9f83194ad",
   "metadata": {},
   "outputs": [],
   "source": [
    "asset_summaries = api.refdata().get_asset_summaries()\n",
    "asset_summaries = [{key: value for key, value in summary.items() if key != 'xrefSymbols'} for summary in asset_summaries]\n",
    "pd.json_normalize(asset_summaries)"
   ]
  },
  {
   "cell_type": "markdown",
   "id": "35beca83-40da-4346-8129-90c23211e39b",
   "metadata": {},
   "source": [
    "Finally, the most common use for reference data is to map from your own system's identifiers to Serenity's identifiers. There is a helper class that does this for you called AssetMaster. Here are three different mappings using different symbologies:"
   ]
  },
  {
   "cell_type": "code",
   "execution_count": null,
   "id": "d3117535-f4cc-46cd-8183-1cfa20831a0f",
   "metadata": {},
   "outputs": [],
   "source": [
    "asset_master = api.refdata().load_asset_master()\n",
    "\n",
    "portfolio_raw = {\n",
    "    'BTC': 100,\n",
    "    'ETH': 1000\n",
    "}\n",
    "portfolio = asset_master.create_portfolio(portfolio_raw, symbology='NATIVE')\n",
    "positions = portfolio.to_asset_positions()\n",
    "pd.json_normalize(positions)"
   ]
  },
  {
   "cell_type": "code",
   "execution_count": null,
   "id": "d7635514-aeba-421f-ba09-87bd1e3d30cd",
   "metadata": {},
   "outputs": [],
   "source": [
    "portfolio_raw = {\n",
    "    'tok.btc.bitcoin': 100,\n",
    "    'tok.eth.ethereum': 1000\n",
    "}\n",
    "portfolio = asset_master.create_portfolio(portfolio_raw, symbology='SERENITY')\n",
    "positions = portfolio.to_asset_positions()\n",
    "pd.json_normalize(positions)"
   ]
  },
  {
   "cell_type": "code",
   "execution_count": null,
   "id": "5f6f6804-4b14-4b9e-8316-6e62072ffd80",
   "metadata": {},
   "outputs": [],
   "source": [
    "portfolio_raw = {\n",
    "    'bitcoin': 100,\n",
    "    'ethereum': 1000\n",
    "}\n",
    "portfolio = asset_master.create_portfolio(portfolio_raw, symbology='COINGECKO')\n",
    "positions = portfolio.to_asset_positions()\n",
    "pd.json_normalize(positions)"
   ]
  },
  {
   "attachments": {},
   "cell_type": "markdown",
   "id": "e33ed448",
   "metadata": {},
   "source": [
    "## Derivatives Reference Data\n",
    "\n",
    "In 2023 we will be redoing our reference data API to more efficiently handle the tens of thousands of derivatives contracts in our database, but as a tactical measure the new Pricer API for options\n",
    "offers supporting methods to use in combination with that API's inputs and outputs. At this time all it offers in BTC and ETH options and futures on Deribit. NOTE: at this time though we have expired\n",
    "options, the as_of_date parameter only supports latest date; this will also be addressed in early 2023."
   ]
  },
  {
   "attachments": {},
   "cell_type": "markdown",
   "id": "8a7b0fae",
   "metadata": {},
   "source": [
    "We support USD as a base currency:"
   ]
  },
  {
   "cell_type": "code",
   "execution_count": null,
   "id": "a25b429d",
   "metadata": {},
   "outputs": [],
   "source": [
    "api.pricer().get_supported_currencies()"
   ]
  },
  {
   "attachments": {},
   "cell_type": "markdown",
   "id": "a83c7d62",
   "metadata": {},
   "source": [
    "Bitcoin and Ethereum as underliers:"
   ]
  },
  {
   "cell_type": "code",
   "execution_count": null,
   "id": "ff346e64",
   "metadata": {},
   "outputs": [],
   "source": [
    "underliers = api.pricer().get_supported_underliers()\n",
    "print(underliers)"
   ]
  },
  {
   "attachments": {},
   "cell_type": "markdown",
   "id": "bc844d65",
   "metadata": {},
   "source": [
    "All live futures and options on those underliers on Deribit:"
   ]
  },
  {
   "cell_type": "code",
   "execution_count": null,
   "id": "aee360f0",
   "metadata": {},
   "outputs": [],
   "source": [
    "for underlier in underliers:\n",
    "    display(f\"Currently {len(api.pricer().get_supported_futures(underlier_asset_id=underlier.asset_id))} Deribit futures on {underlier.native_symbol}\")\n",
    "    display(f\"Currently {len(api.pricer().get_supported_options(underlier_asset_id=underlier.asset_id))} Deribit options on {underlier.native_symbol}\")"
   ]
  }
 ],
 "metadata": {
  "kernelspec": {
   "display_name": ".venv",
   "language": "python",
   "name": "python3"
  },
  "language_info": {
   "codemirror_mode": {
    "name": "ipython",
    "version": 3
   },
   "file_extension": ".py",
   "mimetype": "text/x-python",
   "name": "python",
   "nbconvert_exporter": "python",
   "pygments_lexer": "ipython3",
   "version": "3.9.16"
  },
  "vscode": {
   "interpreter": {
    "hash": "da01d933f08a19496ff2bc47bee57d1aad5a98d2dadc2d94c49482637001ed3b"
   }
  }
 },
 "nbformat": 4,
 "nbformat_minor": 5
}

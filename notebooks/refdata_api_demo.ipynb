{
 "cells": [
  {
   "cell_type": "code",
   "execution_count": null,
   "id": "b5ec6a17-9178-4e67-b6cc-43585d61cba4",
   "metadata": {},
   "outputs": [],
   "source": [
    "import pandas as pd\n",
    "\n",
    "from serenity_sdk.client import load_local_config\n",
    "from serenity_sdk.client import SerenityApiProvider, SerenityClient\n",
    "\n",
    "%load_ext autoreload\n",
    "%autoreload 2\n",
    "\n",
    "config_id = 'athansor'  # Use your own `config_id`\n",
    "config = load_local_config(config_id)\n",
    "\n",
    "client = SerenityClient(config)\n",
    "api = SerenityApiProvider(client)"
   ]
  },
  {
   "cell_type": "markdown",
   "id": "82fe82cf-e3fa-4b0e-b509-9178b4995c02",
   "metadata": {},
   "source": [
    "Serenity supports multiple asset types to encompass instruments like tokens, fiat currency and derivatives. You can get a simple mapping of the type names and their descriptions via the API:"
   ]
  },
  {
   "cell_type": "code",
   "execution_count": null,
   "id": "445dd111-8c99-45d9-ae3b-2965b757c825",
   "metadata": {},
   "outputs": [],
   "source": [
    "asset_types = api.refdata().get_asset_types()\n",
    "pd.DataFrame.from_dict(asset_types, orient='index', columns=['Description'])"
   ]
  },
  {
   "cell_type": "markdown",
   "id": "7c9b0a8a-36cd-4dd0-8fc7-ad79d92e20a7",
   "metadata": {},
   "source": [
    "A symbol authority is an organization that defines a symbology, a universe of symbols for assets. You can use different authorities like DAR or KAIKO for symbols, and then map them into symbols. This API call lets you get their names and descriptions:"
   ]
  },
  {
   "cell_type": "code",
   "execution_count": null,
   "id": "ca2e5b5f-4a08-42ea-9b8d-eae384ce0650",
   "metadata": {},
   "outputs": [],
   "source": [
    "authorities = api.refdata().get_symbol_authorities()\n",
    "pd.DataFrame.from_dict(authorities, orient='index', columns=['Description'])"
   ]
  },
  {
   "cell_type": "markdown",
   "id": "d7abacf2-47ca-4e48-85ec-92edb91fcba2",
   "metadata": {},
   "source": [
    "Serenity's risk attribution and other tools can use sector taxonomies to create hierarchies of assets. Because this is extensible, they each have unique identifiers. This call lets you get you those identifiers by name, e.g. DATS:"
   ]
  },
  {
   "cell_type": "code",
   "execution_count": null,
   "id": "72d7666e-d081-4f63-9d79-90490eeb8b33",
   "metadata": {},
   "outputs": [],
   "source": [
    "sector_taxonomies = api.refdata().get_sector_taxonomies()\n",
    "pd.DataFrame.from_dict(sector_taxonomies, orient='index', columns=['ID'])"
   ]
  },
  {
   "cell_type": "markdown",
   "id": "04350e7c-fec1-4236-add3-8d7ece0ae4e5",
   "metadata": {},
   "source": [
    "If you just want to browse the asset catalog, you can use this call to get all the asset records (in JSON format):"
   ]
  },
  {
   "cell_type": "code",
   "execution_count": null,
   "id": "4137c1db-362f-4e28-a7a9-23e9f83194ad",
   "metadata": {},
   "outputs": [],
   "source": [
    "asset_summaries = api.refdata().get_asset_summaries()\n",
    "asset_summaries = [{key: value for key, value in summary.items() if key != 'xrefSymbols'} for summary in asset_summaries]\n",
    "pd.json_normalize(asset_summaries)"
   ]
  },
  {
   "cell_type": "markdown",
   "id": "35beca83-40da-4346-8129-90c23211e39b",
   "metadata": {},
   "source": [
    "Finally, the most common use for reference data is to map from your own system's identifiers to Serenity's identifiers. There is a helper class that does this for you called AssetMaster. Here are three different mappings using different symbologies:"
   ]
  },
  {
   "cell_type": "code",
   "execution_count": 53,
   "id": "d3117535-f4cc-46cd-8183-1cfa20831a0f",
   "metadata": {},
   "outputs": [
    {
     "data": {
      "text/html": [
       "<div>\n",
       "<style scoped>\n",
       "    .dataframe tbody tr th:only-of-type {\n",
       "        vertical-align: middle;\n",
       "    }\n",
       "\n",
       "    .dataframe tbody tr th {\n",
       "        vertical-align: top;\n",
       "    }\n",
       "\n",
       "    .dataframe thead th {\n",
       "        text-align: right;\n",
       "    }\n",
       "</style>\n",
       "<table border=\"1\" class=\"dataframe\">\n",
       "  <thead>\n",
       "    <tr style=\"text-align: right;\">\n",
       "      <th></th>\n",
       "      <th>assetId</th>\n",
       "      <th>quantity</th>\n",
       "    </tr>\n",
       "  </thead>\n",
       "  <tbody>\n",
       "    <tr>\n",
       "      <th>0</th>\n",
       "      <td>78e2e8e2-419d-4515-9b6a-3d5ff1448e89</td>\n",
       "      <td>100</td>\n",
       "    </tr>\n",
       "    <tr>\n",
       "      <th>1</th>\n",
       "      <td>95b89dfd-c5f6-41d6-83c6-a9d97e0ac361</td>\n",
       "      <td>1000</td>\n",
       "    </tr>\n",
       "  </tbody>\n",
       "</table>\n",
       "</div>"
      ],
      "text/plain": [
       "                                assetId  quantity\n",
       "0  78e2e8e2-419d-4515-9b6a-3d5ff1448e89       100\n",
       "1  95b89dfd-c5f6-41d6-83c6-a9d97e0ac361      1000"
      ]
     },
     "execution_count": 53,
     "metadata": {},
     "output_type": "execute_result"
    }
   ],
   "source": [
    "asset_master = api.refdata().load_asset_master()\n",
    "\n",
    "portfolio_raw = {\n",
    "    'BTC': 100,\n",
    "    'ETH': 1000\n",
    "}\n",
    "portfolio = asset_master.create_portfolio(portfolio_raw, symbology='NATIVE')\n",
    "positions = portfolio.to_asset_positions()\n",
    "pd.json_normalize(positions)"
   ]
  },
  {
   "cell_type": "code",
   "execution_count": 51,
   "id": "d7635514-aeba-421f-ba09-87bd1e3d30cd",
   "metadata": {},
   "outputs": [
    {
     "data": {
      "text/html": [
       "<div>\n",
       "<style scoped>\n",
       "    .dataframe tbody tr th:only-of-type {\n",
       "        vertical-align: middle;\n",
       "    }\n",
       "\n",
       "    .dataframe tbody tr th {\n",
       "        vertical-align: top;\n",
       "    }\n",
       "\n",
       "    .dataframe thead th {\n",
       "        text-align: right;\n",
       "    }\n",
       "</style>\n",
       "<table border=\"1\" class=\"dataframe\">\n",
       "  <thead>\n",
       "    <tr style=\"text-align: right;\">\n",
       "      <th></th>\n",
       "      <th>assetId</th>\n",
       "      <th>quantity</th>\n",
       "    </tr>\n",
       "  </thead>\n",
       "  <tbody>\n",
       "    <tr>\n",
       "      <th>0</th>\n",
       "      <td>78e2e8e2-419d-4515-9b6a-3d5ff1448e89</td>\n",
       "      <td>100</td>\n",
       "    </tr>\n",
       "    <tr>\n",
       "      <th>1</th>\n",
       "      <td>95b89dfd-c5f6-41d6-83c6-a9d97e0ac361</td>\n",
       "      <td>1000</td>\n",
       "    </tr>\n",
       "  </tbody>\n",
       "</table>\n",
       "</div>"
      ],
      "text/plain": [
       "                                assetId  quantity\n",
       "0  78e2e8e2-419d-4515-9b6a-3d5ff1448e89       100\n",
       "1  95b89dfd-c5f6-41d6-83c6-a9d97e0ac361      1000"
      ]
     },
     "execution_count": 51,
     "metadata": {},
     "output_type": "execute_result"
    }
   ],
   "source": [
    "portfolio_raw = {\n",
    "    'tok.btc.bitcoin': 100,\n",
    "    'tok.eth.ethereum': 1000\n",
    "}\n",
    "portfolio = asset_master.create_portfolio(portfolio_raw, symbology='SERENITY')\n",
    "positions = portfolio.to_asset_positions()\n",
    "pd.json_normalize(positions)"
   ]
  },
  {
   "cell_type": "code",
   "execution_count": 52,
   "id": "5f6f6804-4b14-4b9e-8316-6e62072ffd80",
   "metadata": {},
   "outputs": [
    {
     "data": {
      "text/html": [
       "<div>\n",
       "<style scoped>\n",
       "    .dataframe tbody tr th:only-of-type {\n",
       "        vertical-align: middle;\n",
       "    }\n",
       "\n",
       "    .dataframe tbody tr th {\n",
       "        vertical-align: top;\n",
       "    }\n",
       "\n",
       "    .dataframe thead th {\n",
       "        text-align: right;\n",
       "    }\n",
       "</style>\n",
       "<table border=\"1\" class=\"dataframe\">\n",
       "  <thead>\n",
       "    <tr style=\"text-align: right;\">\n",
       "      <th></th>\n",
       "      <th>assetId</th>\n",
       "      <th>quantity</th>\n",
       "    </tr>\n",
       "  </thead>\n",
       "  <tbody>\n",
       "    <tr>\n",
       "      <th>0</th>\n",
       "      <td>78e2e8e2-419d-4515-9b6a-3d5ff1448e89</td>\n",
       "      <td>100</td>\n",
       "    </tr>\n",
       "    <tr>\n",
       "      <th>1</th>\n",
       "      <td>95b89dfd-c5f6-41d6-83c6-a9d97e0ac361</td>\n",
       "      <td>1000</td>\n",
       "    </tr>\n",
       "  </tbody>\n",
       "</table>\n",
       "</div>"
      ],
      "text/plain": [
       "                                assetId  quantity\n",
       "0  78e2e8e2-419d-4515-9b6a-3d5ff1448e89       100\n",
       "1  95b89dfd-c5f6-41d6-83c6-a9d97e0ac361      1000"
      ]
     },
     "execution_count": 52,
     "metadata": {},
     "output_type": "execute_result"
    }
   ],
   "source": [
    "portfolio_raw = {\n",
    "    'bitcoin': 100,\n",
    "    'ethereum': 1000\n",
    "}\n",
    "portfolio = asset_master.create_portfolio(portfolio_raw, symbology='COINGECKO')\n",
    "positions = portfolio.to_asset_positions()\n",
    "pd.json_normalize(positions)"
   ]
  }
 ],
 "metadata": {
  "kernelspec": {
   "display_name": "Python 3 (ipykernel)",
   "language": "python",
   "name": "python3"
  },
  "language_info": {
   "codemirror_mode": {
    "name": "ipython",
    "version": 3
   },
   "file_extension": ".py",
   "mimetype": "text/x-python",
   "name": "python",
   "nbconvert_exporter": "python",
   "pygments_lexer": "ipython3",
   "version": "3.10.5"
  }
 },
 "nbformat": 4,
 "nbformat_minor": 5
}

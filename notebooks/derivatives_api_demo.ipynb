{
 "cells": [
  {
   "cell_type": "markdown",
   "id": "b90bcbf6-a176-498b-b540-6891830c1bed",
   "metadata": {},
   "source": [
    "# Demo: Serenity Derivatives API\n",
    "\n",
    "Serenity builds in sophisticated option and rates analytics as part of its core offering, and these functions\n",
    "are all exposed via the API. This notebook shows how you can use it to fetch yield curves and volatility\n",
    "surfaces, and price European options on BTC, ETH and SOL."
   ]
  },
  {
   "cell_type": "code",
   "execution_count": 1,
   "id": "1f81870d-1e41-41b3-acd0-56bc6b13a3e7",
   "metadata": {},
   "outputs": [
    {
     "data": {
      "application/vnd.jupyter.widget-view+json": {
       "model_id": "7a053e51927945ffa9028037d2452337",
       "version_major": 2,
       "version_minor": 0
      },
      "text/plain": [
       "VBox(children=(HBox(children=(Text(value='', description='API Config:'),)), Button(description='Connect', icon…"
      ]
     },
     "metadata": {},
     "output_type": "display_data"
    },
    {
     "data": {
      "application/vnd.jupyter.widget-view+json": {
       "model_id": "2b38a8fa5fb54a4ca98bc872922319fd",
       "version_major": 2,
       "version_minor": 0
      },
      "text/plain": [
       "Output()"
      ]
     },
     "metadata": {},
     "output_type": "display_data"
    }
   ],
   "source": [
    "%%capture --no-stderr --no-display\n",
    "%load_ext autoreload\n",
    "%autoreload 2\n",
    "%run -i init_demo.py"
   ]
  },
  {
   "cell_type": "code",
   "execution_count": null,
   "id": "5faf532d",
   "metadata": {},
   "outputs": [],
   "source": [
    "from datetime import datetime\n",
    "\n",
    "from serenity_types.pricing.derivatives.options.valuation import OptionValuationRequest\n",
    "\n",
    "request = OptionValuationRequest(as_of_time=datetime.now(), options=[])\n",
    "api.pricer().compute_option_valuations(request)"
   ]
  },
  {
   "cell_type": "code",
   "execution_count": null,
   "id": "d8d5ab4b",
   "metadata": {},
   "outputs": [],
   "source": [
    "api.pricer().get_available_volatility_surface_versions()"
   ]
  },
  {
   "cell_type": "code",
   "execution_count": 6,
   "id": "11bcab43",
   "metadata": {},
   "outputs": [
    {
     "ename": "SerenityError",
     "evalue": "Generic API error: no Route matched with those values",
     "output_type": "error",
     "traceback": [
      "\u001b[0;31m---------------------------------------------------------------------------\u001b[0m",
      "\u001b[0;31mSerenityError\u001b[0m                             Traceback (most recent call last)",
      "Cell \u001b[0;32mIn [6], line 1\u001b[0m\n\u001b[0;32m----> 1\u001b[0m api\u001b[39m.\u001b[39;49mpricer()\u001b[39m.\u001b[39;49mget_volatility_surface_version(\u001b[39mNone\u001b[39;49;00m)\n",
      "File \u001b[0;32m~/dev/shadows/serenity.sdk.python/src/python/serenity_sdk/client.py:694\u001b[0m, in \u001b[0;36mPricerApi.get_volatility_surface_version\u001b[0;34m(self, vol_surface_id, as_of_time)\u001b[0m\n\u001b[1;32m    685\u001b[0m \u001b[39m\"\"\"\u001b[39;00m\n\u001b[1;32m    686\u001b[0m \u001b[39mGets the volsurface given a unique identifier for the parameter set and an as-of time to pick\u001b[39;00m\n\u001b[1;32m    687\u001b[0m \u001b[39mup the most recent version as of that date/time. These JSON objects can be very large, so in general the\u001b[39;00m\n\u001b[0;32m   (...)\u001b[0m\n\u001b[1;32m    691\u001b[0m \u001b[39m:return: the raw and interpolated VS as of the given time for the given set of parameters\u001b[39;00m\n\u001b[1;32m    692\u001b[0m \u001b[39m\"\"\"\u001b[39;00m\n\u001b[1;32m    693\u001b[0m params \u001b[39m=\u001b[39m {}\n\u001b[0;32m--> 694\u001b[0m raw_json \u001b[39m=\u001b[39m \u001b[39mself\u001b[39;49m\u001b[39m.\u001b[39;49m_call_api(\u001b[39mf\u001b[39;49m\u001b[39m'\u001b[39;49m\u001b[39m/derivatives/options/volsurfaces/\u001b[39;49m\u001b[39m{\u001b[39;49;00m\u001b[39mstr\u001b[39;49m(vol_surface_id)\u001b[39m}\u001b[39;49;00m\u001b[39m'\u001b[39;49m, params)\n\u001b[1;32m    695\u001b[0m \u001b[39mreturn\u001b[39;00m raw_json\n",
      "File \u001b[0;32m~/dev/shadows/serenity.sdk.python/src/python/serenity_sdk/client.py:261\u001b[0m, in \u001b[0;36mSerenityApi._call_api\u001b[0;34m(self, api_path, params, body_json, call_type)\u001b[0m\n\u001b[1;32m    251\u001b[0m \u001b[39mdef\u001b[39;00m \u001b[39m_call_api\u001b[39m(\u001b[39mself\u001b[39m, api_path: \u001b[39mstr\u001b[39m, params: Dict[\u001b[39mstr\u001b[39m, \u001b[39mstr\u001b[39m] \u001b[39m=\u001b[39m {}, body_json: Any \u001b[39m=\u001b[39m \u001b[39mNone\u001b[39;00m,\n\u001b[1;32m    252\u001b[0m               call_type: CallType \u001b[39m=\u001b[39m CallType\u001b[39m.\u001b[39mGET) \u001b[39m-\u001b[39m\u001b[39m>\u001b[39m Any:\n\u001b[1;32m    253\u001b[0m     \u001b[39m\"\"\"\u001b[39;00m\n\u001b[1;32m    254\u001b[0m \u001b[39m    Helper method for derived classes that calls a target API in the supported API group.\u001b[39;00m\n\u001b[1;32m    255\u001b[0m \n\u001b[0;32m   (...)\u001b[0m\n\u001b[1;32m    259\u001b[0m \u001b[39m    :return: the raw JSON response object\u001b[39;00m\n\u001b[1;32m    260\u001b[0m \u001b[39m    \"\"\"\u001b[39;00m\n\u001b[0;32m--> 261\u001b[0m     \u001b[39mreturn\u001b[39;00m \u001b[39mself\u001b[39;49m\u001b[39m.\u001b[39;49mclient\u001b[39m.\u001b[39;49mcall_api(\u001b[39mself\u001b[39;49m\u001b[39m.\u001b[39;49mapi_group, api_path, params, body_json, call_type)\n",
      "File \u001b[0;32m~/dev/shadows/serenity.sdk.python/src/python/serenity_sdk/client.py:221\u001b[0m, in \u001b[0;36mSerenityClient.call_api\u001b[0;34m(self, api_group, api_path, params, body_json, call_type)\u001b[0m\n\u001b[1;32m    218\u001b[0m \u001b[39melse\u001b[39;00m:\n\u001b[1;32m    219\u001b[0m     \u001b[39mraise\u001b[39;00m \u001b[39mValueError\u001b[39;00m(\u001b[39mf\u001b[39m\u001b[39m'\u001b[39m\u001b[39m{\u001b[39;00mfull_api_path\u001b[39m}\u001b[39;00m\u001b[39m call type is \u001b[39m\u001b[39m{\u001b[39;00mcall_type\u001b[39m}\u001b[39;00m\u001b[39m, which is not yet supported\u001b[39m\u001b[39m'\u001b[39m)\n\u001b[0;32m--> 221\u001b[0m \u001b[39mreturn\u001b[39;00m SerenityClient\u001b[39m.\u001b[39;49m_check_response(response_json)\n",
      "File \u001b[0;32m~/dev/shadows/serenity.sdk.python/src/python/serenity_sdk/client.py:233\u001b[0m, in \u001b[0;36mSerenityClient._check_response\u001b[0;34m(response_json)\u001b[0m\n\u001b[1;32m    231\u001b[0m     \u001b[39mraise\u001b[39;00m SerenityError(response_json[\u001b[39m'\u001b[39m\u001b[39mdetail\u001b[39m\u001b[39m'\u001b[39m])\n\u001b[1;32m    232\u001b[0m \u001b[39melif\u001b[39;00m \u001b[39m'\u001b[39m\u001b[39mmessage\u001b[39m\u001b[39m'\u001b[39m \u001b[39min\u001b[39;00m response_json:\n\u001b[0;32m--> 233\u001b[0m     \u001b[39mraise\u001b[39;00m SerenityError(response_json[\u001b[39m'\u001b[39m\u001b[39mmessage\u001b[39m\u001b[39m'\u001b[39m])\n\u001b[1;32m    234\u001b[0m \u001b[39melse\u001b[39;00m:\n\u001b[1;32m    235\u001b[0m     \u001b[39mreturn\u001b[39;00m response_json\n",
      "\u001b[0;31mSerenityError\u001b[0m: Generic API error: no Route matched with those values"
     ]
    }
   ],
   "source": [
    "api.pricer().get_volatility_surface_version(None)"
   ]
  },
  {
   "cell_type": "code",
   "execution_count": null,
   "id": "90daff06",
   "metadata": {},
   "outputs": [],
   "source": [
    "api.pricer().get_available_yield_curve_versions()"
   ]
  },
  {
   "cell_type": "code",
   "execution_count": 7,
   "id": "f5ec1413",
   "metadata": {},
   "outputs": [
    {
     "ename": "SerenityError",
     "evalue": "Generic API error: no Route matched with those values",
     "output_type": "error",
     "traceback": [
      "\u001b[0;31m---------------------------------------------------------------------------\u001b[0m",
      "\u001b[0;31mSerenityError\u001b[0m                             Traceback (most recent call last)",
      "Cell \u001b[0;32mIn [7], line 1\u001b[0m\n\u001b[0;32m----> 1\u001b[0m api\u001b[39m.\u001b[39;49mpricer()\u001b[39m.\u001b[39;49mget_yield_curve_version(\u001b[39mNone\u001b[39;49;00m)\n",
      "File \u001b[0;32m~/dev/shadows/serenity.sdk.python/src/python/serenity_sdk/client.py:726\u001b[0m, in \u001b[0;36mPricerApi.get_yield_curve_version\u001b[0;34m(self, yield_curve_id, as_of_time)\u001b[0m\n\u001b[1;32m    717\u001b[0m \u001b[39m\"\"\"\u001b[39;00m\n\u001b[1;32m    718\u001b[0m \u001b[39mGets the yield curve given a unique identifier. These JSON objects can be very large so\u001b[39;00m\n\u001b[1;32m    719\u001b[0m \u001b[39min general the protocol should be to list what's available for a time range and then retrieve each one.\u001b[39;00m\n\u001b[0;32m   (...)\u001b[0m\n\u001b[1;32m    723\u001b[0m \u001b[39m:return: the raw and interpolated YC as of the given time for the given set of parameters\u001b[39;00m\n\u001b[1;32m    724\u001b[0m \u001b[39m\"\"\"\u001b[39;00m\n\u001b[1;32m    725\u001b[0m params \u001b[39m=\u001b[39m {}\n\u001b[0;32m--> 726\u001b[0m raw_json \u001b[39m=\u001b[39m \u001b[39mself\u001b[39;49m\u001b[39m.\u001b[39;49m_call_api(\u001b[39mf\u001b[39;49m\u001b[39m'\u001b[39;49m\u001b[39m/derivatives/rates/yield_curves/\u001b[39;49m\u001b[39m{\u001b[39;49;00m\u001b[39mstr\u001b[39;49m(yield_curve_id)\u001b[39m}\u001b[39;49;00m\u001b[39m'\u001b[39;49m, params)\n\u001b[1;32m    727\u001b[0m \u001b[39mreturn\u001b[39;00m raw_json\n",
      "File \u001b[0;32m~/dev/shadows/serenity.sdk.python/src/python/serenity_sdk/client.py:261\u001b[0m, in \u001b[0;36mSerenityApi._call_api\u001b[0;34m(self, api_path, params, body_json, call_type)\u001b[0m\n\u001b[1;32m    251\u001b[0m \u001b[39mdef\u001b[39;00m \u001b[39m_call_api\u001b[39m(\u001b[39mself\u001b[39m, api_path: \u001b[39mstr\u001b[39m, params: Dict[\u001b[39mstr\u001b[39m, \u001b[39mstr\u001b[39m] \u001b[39m=\u001b[39m {}, body_json: Any \u001b[39m=\u001b[39m \u001b[39mNone\u001b[39;00m,\n\u001b[1;32m    252\u001b[0m               call_type: CallType \u001b[39m=\u001b[39m CallType\u001b[39m.\u001b[39mGET) \u001b[39m-\u001b[39m\u001b[39m>\u001b[39m Any:\n\u001b[1;32m    253\u001b[0m     \u001b[39m\"\"\"\u001b[39;00m\n\u001b[1;32m    254\u001b[0m \u001b[39m    Helper method for derived classes that calls a target API in the supported API group.\u001b[39;00m\n\u001b[1;32m    255\u001b[0m \n\u001b[0;32m   (...)\u001b[0m\n\u001b[1;32m    259\u001b[0m \u001b[39m    :return: the raw JSON response object\u001b[39;00m\n\u001b[1;32m    260\u001b[0m \u001b[39m    \"\"\"\u001b[39;00m\n\u001b[0;32m--> 261\u001b[0m     \u001b[39mreturn\u001b[39;00m \u001b[39mself\u001b[39;49m\u001b[39m.\u001b[39;49mclient\u001b[39m.\u001b[39;49mcall_api(\u001b[39mself\u001b[39;49m\u001b[39m.\u001b[39;49mapi_group, api_path, params, body_json, call_type)\n",
      "File \u001b[0;32m~/dev/shadows/serenity.sdk.python/src/python/serenity_sdk/client.py:221\u001b[0m, in \u001b[0;36mSerenityClient.call_api\u001b[0;34m(self, api_group, api_path, params, body_json, call_type)\u001b[0m\n\u001b[1;32m    218\u001b[0m \u001b[39melse\u001b[39;00m:\n\u001b[1;32m    219\u001b[0m     \u001b[39mraise\u001b[39;00m \u001b[39mValueError\u001b[39;00m(\u001b[39mf\u001b[39m\u001b[39m'\u001b[39m\u001b[39m{\u001b[39;00mfull_api_path\u001b[39m}\u001b[39;00m\u001b[39m call type is \u001b[39m\u001b[39m{\u001b[39;00mcall_type\u001b[39m}\u001b[39;00m\u001b[39m, which is not yet supported\u001b[39m\u001b[39m'\u001b[39m)\n\u001b[0;32m--> 221\u001b[0m \u001b[39mreturn\u001b[39;00m SerenityClient\u001b[39m.\u001b[39;49m_check_response(response_json)\n",
      "File \u001b[0;32m~/dev/shadows/serenity.sdk.python/src/python/serenity_sdk/client.py:233\u001b[0m, in \u001b[0;36mSerenityClient._check_response\u001b[0;34m(response_json)\u001b[0m\n\u001b[1;32m    231\u001b[0m     \u001b[39mraise\u001b[39;00m SerenityError(response_json[\u001b[39m'\u001b[39m\u001b[39mdetail\u001b[39m\u001b[39m'\u001b[39m])\n\u001b[1;32m    232\u001b[0m \u001b[39melif\u001b[39;00m \u001b[39m'\u001b[39m\u001b[39mmessage\u001b[39m\u001b[39m'\u001b[39m \u001b[39min\u001b[39;00m response_json:\n\u001b[0;32m--> 233\u001b[0m     \u001b[39mraise\u001b[39;00m SerenityError(response_json[\u001b[39m'\u001b[39m\u001b[39mmessage\u001b[39m\u001b[39m'\u001b[39m])\n\u001b[1;32m    234\u001b[0m \u001b[39melse\u001b[39;00m:\n\u001b[1;32m    235\u001b[0m     \u001b[39mreturn\u001b[39;00m response_json\n",
      "\u001b[0;31mSerenityError\u001b[0m: Generic API error: no Route matched with those values"
     ]
    }
   ],
   "source": [
    "api.pricer().get_yield_curve_version(None)"
   ]
  }
 ],
 "metadata": {
  "kernelspec": {
   "display_name": "Python 3.10.6 ('.venv': poetry)",
   "language": "python",
   "name": "python3"
  },
  "language_info": {
   "codemirror_mode": {
    "name": "ipython",
    "version": 3
   },
   "file_extension": ".py",
   "mimetype": "text/x-python",
   "name": "python",
   "nbconvert_exporter": "python",
   "pygments_lexer": "ipython3",
   "version": "3.10.6"
  },
  "vscode": {
   "interpreter": {
    "hash": "f3aa3a76c036392393d06cadc89e4625c04c6b5098937dc7daae5882adc20ab0"
   }
  }
 },
 "nbformat": 4,
 "nbformat_minor": 5
}

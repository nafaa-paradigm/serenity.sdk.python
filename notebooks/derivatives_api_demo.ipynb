{
 "cells": [
  {
   "cell_type": "markdown",
   "id": "b90bcbf6-a176-498b-b540-6891830c1bed",
   "metadata": {},
   "source": [
    "# Demo: Serenity Derivatives API\n",
    "\n",
    "Serenity builds in sophisticated option and rates analytics as part of its core offering, and these functions\n",
    "are all exposed via the API. This notebook shows how you can use it to fetch yield curves and volatility\n",
    "surfaces, and price European options on BTC, ETH and SOL."
   ]
  },
  {
   "cell_type": "code",
   "execution_count": null,
   "id": "1f81870d-1e41-41b3-acd0-56bc6b13a3e7",
   "metadata": {},
   "outputs": [],
   "source": [
    "%%capture --no-stderr --no-display\n",
    "%load_ext autoreload\n",
    "%autoreload 2\n",
    "%run -i init_demo.py"
   ]
  },
  {
   "cell_type": "code",
   "execution_count": null,
   "id": "5faf532d",
   "metadata": {},
   "outputs": [],
   "source": [
    "from datetime import datetime\n",
    "from uuid import UUID, uuid4\n",
    "\n",
    "from serenity_types.pricing.derivatives.options.valuation import DiscountingMethod, OptionValuationRequest, OptionValuation\n",
    "\n",
    "options = [\n",
    "    OptionValuation(option_valuation_id=str(uuid4()), option_asset_id=UUID('56f4a9e0-562f-5790-8152-ab640716d901'))\n",
    "]\n",
    "request = OptionValuationRequest(as_of_time=datetime.now(), options=options)\n",
    "api.pricer().compute_option_valuations(request)"
   ]
  },
  {
   "cell_type": "code",
   "execution_count": null,
   "id": "d8d5ab4b",
   "metadata": {},
   "outputs": [],
   "source": [
    "versions = api.pricer().get_available_volatility_surface_versions()\n",
    "for version in versions:\n",
    "    for as_of_time in version.as_of_times:\n",
    "        as_of_time = as_of_time.replace(tzinfo=None)\n",
    "        api.pricer().get_volatility_surface_version(version.definition.vol_surface_id, as_of_time)"
   ]
  },
  {
   "cell_type": "code",
   "execution_count": null,
   "id": "90daff06",
   "metadata": {},
   "outputs": [],
   "source": [
    "versions = api.pricer().get_available_yield_curve_versions()\n",
    "for version in versions:\n",
    "    for as_of_time in version.as_of_times:\n",
    "        as_of_time = as_of_time.replace(tzinfo=None)\n",
    "        api.pricer().get_yield_curve_version(version.definition.yield_curve_id, as_of_time)"
   ]
  }
 ],
 "metadata": {
  "kernelspec": {
   "display_name": "Python 3.9.15 ('.venv': poetry)",
   "language": "python",
   "name": "python3"
  },
  "language_info": {
   "codemirror_mode": {
    "name": "ipython",
    "version": 3
   },
   "file_extension": ".py",
   "mimetype": "text/x-python",
   "name": "python",
   "nbconvert_exporter": "python",
   "pygments_lexer": "ipython3",
   "version": "3.9.15"
  },
  "vscode": {
   "interpreter": {
    "hash": "da01d933f08a19496ff2bc47bee57d1aad5a98d2dadc2d94c49482637001ed3b"
   }
  }
 },
 "nbformat": 4,
 "nbformat_minor": 5
}

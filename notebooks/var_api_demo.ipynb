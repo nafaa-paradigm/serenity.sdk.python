{
 "cells": [
  {
   "cell_type": "markdown",
   "id": "b90bcbf6-a176-498b-b540-6891830c1bed",
   "metadata": {},
   "source": [
    "# Demo: Serenity VaR Calculation API\n",
    "\n",
    "In addition to supporting risk attribution, the latest version of Serenity also supports running VaR calculations\n",
    "and backtesting those VaR models with your portfolio. This notebook will show you how to select a VaR model and\n",
    "use it to compute Value at Risk (VaR) for a portfolio constructed from the Serenity security master."
   ]
  },
  {
   "cell_type": "code",
   "execution_count": 1,
   "id": "1f81870d-1e41-41b3-acd0-56bc6b13a3e7",
   "metadata": {},
   "outputs": [],
   "source": [
    "%%capture --no-stderr --no-display\n",
    "%load_ext autoreload\n",
    "%autoreload 2\n",
    "%run -i init_demo.py"
   ]
  },
  {
   "cell_type": "code",
   "execution_count": null,
   "id": "9d54e044-3202-4f20-9ecf-f60e185c60a2",
   "metadata": {},
   "outputs": [],
   "source": []
  }
 ],
 "metadata": {
  "kernelspec": {
   "display_name": "Python 3 (ipykernel)",
   "language": "python",
   "name": "python3"
  },
  "language_info": {
   "codemirror_mode": {
    "name": "ipython",
    "version": 3
   },
   "file_extension": ".py",
   "mimetype": "text/x-python",
   "name": "python",
   "nbconvert_exporter": "python",
   "pygments_lexer": "ipython3",
   "version": "3.10.5"
  }
 },
 "nbformat": 4,
 "nbformat_minor": 5
}

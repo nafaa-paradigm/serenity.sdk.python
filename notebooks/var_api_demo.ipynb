{
 "cells": [
  {
   "cell_type": "markdown",
   "id": "b90bcbf6-a176-498b-b540-6891830c1bed",
   "metadata": {},
   "source": [
    "# Demo: Serenity VaR Calculation API\n",
    "\n",
    "In addition to supporting risk attribution, the latest version of Serenity also supports running VaR calculations\n",
    "and backtesting those VaR models with your portfolio. This notebook will show you how to select a VaR model and\n",
    "use it to compute Value at Risk (VaR) for a portfolio constructed from the Serenity security master."
   ]
  },
  {
   "cell_type": "code",
   "execution_count": null,
   "id": "1f81870d-1e41-41b3-acd0-56bc6b13a3e7",
   "metadata": {},
   "outputs": [],
   "source": [
    "%%capture --no-stderr --no-display\n",
    "%load_ext autoreload\n",
    "%autoreload 2\n",
    "%run -i init_demo.py"
   ]
  },
  {
   "cell_type": "markdown",
   "id": "700774b0-45ed-4045-91b5-0476b1ef9d47",
   "metadata": {},
   "source": [
    "To run a VaR calculation the first thing we need is a portfolio:"
   ]
  },
  {
   "cell_type": "code",
   "execution_count": null,
   "id": "9d54e044-3202-4f20-9ecf-f60e185c60a2",
   "metadata": {},
   "outputs": [],
   "source": [
    "asset_master = api.refdata().load_asset_master()\n",
    "\n",
    "portfolio_raw = {\n",
    "    'BTC': 100,\n",
    "    'ETH': 1000,\n",
    "    'SOL': 10000,\n",
    "    'BNB': 50000\n",
    "}\n",
    "portfolio = asset_master.create_portfolio(portfolio_raw, symbology='NATIVE')"
   ]
  },
  {
   "cell_type": "markdown",
   "id": "a79b33fb-2a06-4ea8-a0a0-0e3158f75d95",
   "metadata": {},
   "source": [
    "The next thing we need is a model configuration. IMPORTANT: this feature is not yet supported in production, but we are including it here because this is the pattern you will need to follow going forward:"
   ]
  },
  {
   "cell_type": "code",
   "execution_count": null,
   "id": "109695c6-dec6-4a2c-a3b8-93f77d67381f",
   "metadata": {},
   "outputs": [],
   "source": [
    "from serenity_sdk.types import CalculationContext\n",
    "\n",
    "model_short_name = 'risk.var.parametric.normal'  \n",
    "model_meta = api.model().load_model_metadata(datetime.date.today())\n",
    "model_config_id = model_meta.get_model_configuration_id(model_short_name)"
   ]
  },
  {
   "cell_type": "markdown",
   "id": "8948c59c-baf8-4a31-ad6e-1d9bf398653d",
   "metadata": {},
   "source": [
    "Now that we have it we can create the `CalculationContext`, the same as with risk attribution. We will set an as-of-date and pass our parametric VaR model configuration ID. We then run VaR for a given date:"
   ]
  },
  {
   "cell_type": "code",
   "execution_count": null,
   "id": "dbf718d9-3d29-4afe-8106-04b6dce90e3e",
   "metadata": {},
   "outputs": [],
   "source": [
    "from datetime import date\n",
    "\n",
    "# construct the input parameters for VaR\n",
    "ctx = CalculationContext(as_of_date=date(2020, 5, 1), model_config_id=model_config_id)\n",
    "\n",
    "# run the VaR calc\n",
    "result = api.risk().compute_var(ctx, portfolio)\n",
    "result"
   ]
  },
  {
   "cell_type": "markdown",
   "id": "91a4f21d-88a7-44f5-ada7-1d5afb1718af",
   "metadata": {},
   "source": [
    "We can also run a backtest:"
   ]
  },
  {
   "cell_type": "code",
   "execution_count": null,
   "id": "2e38dcd7-3ee4-4a9d-95f4-47adb75a4756",
   "metadata": {},
   "outputs": [],
   "source": [
    "result = api.risk().compute_var_backtest(ctx, portfolio, date(2020, 5, 1), date(2022, 5, 1), quantiles=[1, 5, 95, 99])"
   ]
  },
  {
   "cell_type": "code",
   "execution_count": null,
   "id": "600335f7-71d8-4511-976d-211b3383f219",
   "metadata": {},
   "outputs": [],
   "source": [
    "rows = [{\n",
    "    'runDate': result.run_date,\n",
    "    'baseline': result.baseline,\n",
    "    'varAbsolute': result.quantiles[3].var_absolute,\n",
    "    'varRelative': result.quantiles[3].var_relative\n",
    "} for result in result.results]\n",
    "backtest_df = pd.DataFrame(rows)\n",
    "backtest_df.set_index('runDate', inplace=True)\n",
    "\n",
    "loss_fmt = lambda val: f'${val:,.2f}' if val >= 0 else f'(${abs(val):,.2f})'\n",
    "pct_fmt = lambda val: f'({abs(val):,.1%})' if val < 0 else f'{abs(val):,.1%}'\n",
    "backtest_df.head().style.format({\n",
    "  'baseline': loss_fmt,\n",
    "  'varAbsolute': loss_fmt,\n",
    "  'varRelative': pct_fmt\n",
    "}).applymap(lambda val: 'color: red', subset=['varRelative'])"
   ]
  },
  {
   "cell_type": "markdown",
   "id": "cd4eb582-0a6d-4e7f-bca2-b1636170b5ee",
   "metadata": {},
   "source": [
    "And we can identify the breach dates:"
   ]
  },
  {
   "cell_type": "code",
   "execution_count": null,
   "id": "8ec5b09b-0403-4207-9134-70c34b3e4430",
   "metadata": {},
   "outputs": [],
   "source": [
    "rows = []\n",
    "for breach in result.breaches:\n",
    "  for quantile in breach.quantiles:\n",
    "    if quantile.quantile in [95, 99]:\n",
    "      rows.append({\n",
    "          'breachDate': breach.breach_date.date(),\n",
    "          'portfolioLossAbsolute': breach.portfolio_loss_absolute,\n",
    "          'portfolioLossRelative': breach.portfolio_loss_relative,\n",
    "          'quantile': quantile.quantile / 100.0,\n",
    "          'varLevelAbsolute': quantile.var_absolute,\n",
    "          'varLevelRelative': quantile.var_relative,\n",
    "      })\n",
    "breach_df = pd.DataFrame(rows)\n",
    "breach_df.style.format({\n",
    "  'portfolioLossAbsolute': loss_fmt,\n",
    "  'portfolioLossRelative': pct_fmt,\n",
    "  'quantile': pct_fmt,\n",
    "  'varLevelAbsolute': loss_fmt,\n",
    "  'varLevelRelative': pct_fmt\n",
    "}).applymap(lambda val: 'color: red', subset=['portfolioLossAbsolute', 'portfolioLossRelative', 'varLevelAbsolute', 'varLevelRelative'])"
   ]
  },
  {
   "cell_type": "markdown",
   "id": "2b40ada4-8d86-44c9-a2e5-2bde24e08b3d",
   "metadata": {},
   "source": [
    "Now let's do some charting with the backtest data; this is a sneak peek at the kinds of visualizations we will be offering in the Serenity front-end at the end of 2022:"
   ]
  },
  {
   "cell_type": "code",
   "execution_count": null,
   "id": "bf6cfd44-3eca-4bf1-a1d6-34f5bcfa4af2",
   "metadata": {},
   "outputs": [],
   "source": [
    "import matplotlib.pyplot as plt\n",
    "import pandas as pd\n",
    "\n",
    "kind = \"Historical Sim\"\n",
    "rows = [{\n",
    "    'runDate': result.run_date,\n",
    "    'baseline': result.baseline,\n",
    "    'VaR_01': result.quantiles[0].var_absolute,\n",
    "    'VaR_05': result.quantiles[1].var_absolute,\n",
    "    'VaR_95': result.quantiles[2].var_absolute,\n",
    "    'VaR_99': result.quantiles[3].var_absolute,\n",
    "} for result in result.results]\n",
    "df = pd.DataFrame(rows)\n",
    "df.set_index('runDate', inplace=True)\n",
    "\n",
    "fig, ax = plt.subplots(1, 1, figsize=(14, 10))\n",
    "ax.set_title(f\"VaR Backtest ({kind})\")\n",
    "ax.set_ylabel(\"Price ($)\")\n",
    "ax.set_xlabel(\"Date\")\n",
    "# convert to pd.Timestamp to date time to ease plotting\n",
    "df.index = pd.to_datetime(df.index)\n",
    "ax.plot(df.index, df.baseline, \"-\", color=\"purple\", label=\"baseline\")\n",
    "ax.fill_between(\n",
    "    df.index, df.VaR_99, df.VaR_95, alpha=0.5, color=\"royalblue\", label=\"95%-99%\"\n",
    ")\n",
    "ax.fill_between(\n",
    "    df.index,\n",
    "    df.VaR_95,\n",
    "    df.VaR_05,\n",
    "    alpha=0.5,\n",
    "    color=\"lightsteelblue\",\n",
    "    label=\"05%-95%\",\n",
    ")\n",
    "ax.fill_between(\n",
    "    df.index, df.VaR_05, df.VaR_01, alpha=0.5, color=\"royalblue\", label=\"01%-05%\"\n",
    ")\n",
    "df[(df.VaR_01 > df.baseline)][\"baseline\"].plot(\n",
    "    ax=ax, style=\"o\", color=\"yellow\", label=\"01% Breach\"\n",
    ")\n",
    "ax.plot()\n",
    "ax.legend()"
   ]
  }
 ],
 "metadata": {
  "kernelspec": {
   "display_name": "Python 3.10.6 ('.venv': poetry)",
   "language": "python",
   "name": "python3"
  },
  "language_info": {
   "codemirror_mode": {
    "name": "ipython",
    "version": 3
   },
   "file_extension": ".py",
   "mimetype": "text/x-python",
   "name": "python",
   "nbconvert_exporter": "python",
   "pygments_lexer": "ipython3",
   "version": "3.10.6"
  },
  "vscode": {
   "interpreter": {
    "hash": "f3aa3a76c036392393d06cadc89e4625c04c6b5098937dc7daae5882adc20ab0"
   }
  }
 },
 "nbformat": 4,
 "nbformat_minor": 5
}

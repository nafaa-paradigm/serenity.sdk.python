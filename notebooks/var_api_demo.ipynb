{
 "cells": [
  {
   "cell_type": "markdown",
   "id": "b90bcbf6-a176-498b-b540-6891830c1bed",
   "metadata": {},
   "source": [
    "# Demo: Serenity VaR Calculation API\n",
    "\n",
    "In addition to supporting risk attribution, the latest version of Serenity also supports running VaR calculations\n",
    "and backtesting those VaR models with your portfolio. This notebook will show you how to select a VaR model and\n",
    "use it to compute Value at Risk (VaR) for a portfolio constructed from the Serenity security master."
   ]
  },
  {
   "cell_type": "code",
   "execution_count": null,
   "id": "1f81870d-1e41-41b3-acd0-56bc6b13a3e7",
   "metadata": {},
   "outputs": [],
   "source": [
    "%%capture --no-stderr --no-display\n",
    "%load_ext autoreload\n",
    "%autoreload 2\n",
    "%run -i init_demo.py"
   ]
  },
  {
   "cell_type": "markdown",
   "id": "700774b0-45ed-4045-91b5-0476b1ef9d47",
   "metadata": {},
   "source": [
    "To run a VaR calculation the first thing we need is a portfolio:"
   ]
  },
  {
   "cell_type": "code",
   "execution_count": null,
   "id": "9d54e044-3202-4f20-9ecf-f60e185c60a2",
   "metadata": {},
   "outputs": [],
   "source": [
    "asset_master = api.refdata().load_asset_master()\n",
    "\n",
    "portfolio_raw = {\n",
    "    'BTC': 100,\n",
    "    'ETH': 1000,\n",
    "    'SOL': 10000,\n",
    "    'BNB': 50000\n",
    "}\n",
    "portfolio = asset_master.create_portfolio(portfolio_raw, symbology='NATIVE')"
   ]
  },
  {
   "cell_type": "markdown",
   "id": "a79b33fb-2a06-4ea8-a0a0-0e3158f75d95",
   "metadata": {},
   "source": [
    "The next thing we need is a model configuration:"
   ]
  },
  {
   "cell_type": "code",
   "execution_count": null,
   "id": "109695c6-dec6-4a2c-a3b8-93f77d67381f",
   "metadata": {},
   "outputs": [],
   "source": [
    "from serenity_sdk.types.common import CalculationContext\n",
    "\n",
    "model_short_name = 'risk.var.parametric.normal'  \n",
    "model_meta = api.model().load_model_metadata(datetime.date.today())\n",
    "model_config_id = model_meta.get_model_configuration_id(model_short_name)"
   ]
  },
  {
   "cell_type": "markdown",
   "id": "8948c59c-baf8-4a31-ad6e-1d9bf398653d",
   "metadata": {},
   "source": [
    "Now that we have it we can create the `CalculationContext`, the same as with risk attribution. We will set an as-of-date and pass our parametric VaR model configuration ID. We then run VaR for a given date:"
   ]
  },
  {
   "cell_type": "code",
   "execution_count": null,
   "id": "dbf718d9-3d29-4afe-8106-04b6dce90e3e",
   "metadata": {},
   "outputs": [],
   "source": [
    "from datetime import date\n",
    "\n",
    "# construct the input parameters for VaR\n",
    "ctx = CalculationContext(as_of_date=date(2020, 5, 1), model_config_id=model_config_id)\n",
    "\n",
    "# run the VaR calc\n",
    "result = api.risk().compute_var(ctx, portfolio)\n",
    "result"
   ]
  },
  {
   "cell_type": "markdown",
   "id": "91a4f21d-88a7-44f5-ada7-1d5afb1718af",
   "metadata": {},
   "source": [
    "We can also run a backtest:"
   ]
  },
  {
   "cell_type": "code",
   "execution_count": null,
   "id": "2e38dcd7-3ee4-4a9d-95f4-47adb75a4756",
   "metadata": {},
   "outputs": [],
   "source": [
    "bt_quantiles = [1, 5, 95, 99]\n",
    "result = api.risk().compute_var_backtest(ctx, portfolio, date(2020, 5, 1), date(2022, 5, 1), quantiles=bt_quantiles)"
   ]
  },
  {
   "cell_type": "code",
   "execution_count": null,
   "id": "0528aba4",
   "metadata": {},
   "outputs": [],
   "source": [
    "from serenity_sdk.renderers.table import VaRBacktestTables\n",
    "\n",
    "breach_count_period = 365\n",
    "var_tables = VaRBacktestTables(result, bt_quantiles, breach_count_period)\n",
    "\n",
    "baselines = var_tables.get_baselines()\n",
    "vars_abs_by_qs = var_tables.get_absolute_var_by_quantiles()\n",
    "vars_rel_by_qs = var_tables.get_relative_var_by_quantiles()\n",
    "pnls_abs = var_tables.get_absolute_pnl()\n",
    "pnls_rel = var_tables.get_relative_pnl()\n",
    "var_breaches = var_tables.get_var_breaches()\n",
    "rolling_breaches = var_tables.get_rolling_breaches()"
   ]
  },
  {
   "cell_type": "markdown",
   "id": "785e4645",
   "metadata": {},
   "source": [
    "# Summarize VaR Backtest\n",
    "\n",
    "We can see all the breaches over this period:"
   ]
  },
  {
   "cell_type": "code",
   "execution_count": null,
   "id": "6723918d",
   "metadata": {},
   "outputs": [],
   "source": [
    "breaches_df = var_tables.get_breaches_summary()\n",
    "display(breaches_df)"
   ]
  },
  {
   "cell_type": "markdown",
   "id": "512a3758",
   "metadata": {},
   "source": [
    "Now let's do some charting with the backtest data; this is a sneak peek at the kinds of visualizations we will be offering in the Serenity front-end at the end of 2022:"
   ]
  },
  {
   "cell_type": "code",
   "execution_count": null,
   "id": "8bc7ccd9",
   "metadata": {},
   "outputs": [],
   "source": [
    "from serenity_sdk.renderers.plot import create_traffic_light_report\n",
    "\n",
    "create_traffic_light_report(var_tables)"
   ]
  }
 ],
 "metadata": {
  "kernelspec": {
   "display_name": "Python 3.10.6 ('.venv': poetry)",
   "language": "python",
   "name": "python3"
  },
  "language_info": {
   "codemirror_mode": {
    "name": "ipython",
    "version": 3
   },
   "file_extension": ".py",
   "mimetype": "text/x-python",
   "name": "python",
   "nbconvert_exporter": "python",
   "pygments_lexer": "ipython3",
   "version": "3.10.6"
  },
  "vscode": {
   "interpreter": {
    "hash": "f3aa3a76c036392393d06cadc89e4625c04c6b5098937dc7daae5882adc20ab0"
   }
  }
 },
 "nbformat": 4,
 "nbformat_minor": 5
}

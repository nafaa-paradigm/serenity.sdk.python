{
 "cells": [
  {
   "cell_type": "markdown",
   "id": "b90bcbf6-a176-498b-b540-6891830c1bed",
   "metadata": {},
   "source": [
    "# Demo: Serenity VaR Calculation API\n",
    "\n",
    "In addition to supporting risk attribution, the latest version of Serenity also supports running VaR calculations\n",
    "and backtesting those VaR models with your portfolio. This notebook will show you how to select a VaR model and\n",
    "use it to compute Value at Risk (VaR) for a portfolio constructed from the Serenity security master."
   ]
  },
  {
   "cell_type": "code",
   "execution_count": null,
   "id": "1f81870d-1e41-41b3-acd0-56bc6b13a3e7",
   "metadata": {},
   "outputs": [],
   "source": [
    "%%capture --no-stderr --no-display\n",
    "%load_ext autoreload\n",
    "%autoreload 2\n",
    "%run var_api_helper.py\n",
    "%run -i init_demo.py "
   ]
  },
  {
   "cell_type": "markdown",
   "id": "700774b0-45ed-4045-91b5-0476b1ef9d47",
   "metadata": {},
   "source": [
    "To run a VaR calculation the first thing we need is a portfolio:"
   ]
  },
  {
   "cell_type": "code",
   "execution_count": null,
   "id": "9d54e044-3202-4f20-9ecf-f60e185c60a2",
   "metadata": {},
   "outputs": [],
   "source": [
    "asset_master = api.refdata().load_asset_master()\n",
    "\n",
    "portfolio_raw = {\n",
    "    'BTC': 100,\n",
    "    'ETH': 1000,\n",
    "    'SOL': 10000,\n",
    "    'BNB': 50000\n",
    "}\n",
    "portfolio = asset_master.create_portfolio(portfolio_raw, symbology='NATIVE')"
   ]
  },
  {
   "cell_type": "markdown",
   "id": "a79b33fb-2a06-4ea8-a0a0-0e3158f75d95",
   "metadata": {},
   "source": [
    "The next thing we need is a model configuration. IMPORTANT: this feature is not yet supported in production, but we are including it here because this is the pattern you will need to follow going forward:"
   ]
  },
  {
   "cell_type": "code",
   "execution_count": null,
   "id": "109695c6-dec6-4a2c-a3b8-93f77d67381f",
   "metadata": {},
   "outputs": [],
   "source": [
    "from serenity_sdk.types import CalculationContext\n",
    "\n",
    "model_short_name = 'risk.var.parametric.normal'  \n",
    "model_meta = api.model().load_model_metadata(datetime.date.today())\n",
    "model_config_id = model_meta.get_model_configuration_id(model_short_name)"
   ]
  },
  {
   "cell_type": "markdown",
   "id": "8948c59c-baf8-4a31-ad6e-1d9bf398653d",
   "metadata": {},
   "source": [
    "Now that we have it we can create the `CalculationContext`, the same as with risk attribution. We will set an as-of-date and pass our parametric VaR model configuration ID. We then run VaR for a given date:"
   ]
  },
  {
   "cell_type": "code",
   "execution_count": null,
   "id": "dbf718d9-3d29-4afe-8106-04b6dce90e3e",
   "metadata": {},
   "outputs": [],
   "source": [
    "from datetime import date\n",
    "\n",
    "# construct the input parameters for VaR\n",
    "ctx = CalculationContext(as_of_date=date(2020, 5, 1), model_config_id=model_config_id)\n",
    "\n",
    "# run the VaR calc\n",
    "result = api.risk().compute_var(ctx, portfolio)\n",
    "result"
   ]
  },
  {
   "cell_type": "markdown",
   "id": "91a4f21d-88a7-44f5-ada7-1d5afb1718af",
   "metadata": {},
   "source": [
    "We can also run a backtest:"
   ]
  },
  {
   "cell_type": "code",
   "execution_count": null,
   "id": "2e38dcd7-3ee4-4a9d-95f4-47adb75a4756",
   "metadata": {},
   "outputs": [],
   "source": [
    "bt_quantiles = [1, 5, 95, 99]\n",
    "result = api.risk().compute_var_backtest(ctx, portfolio, date(2020, 5, 1), date(2022, 5, 1), quantiles=bt_quantiles)"
   ]
  },
  {
   "cell_type": "code",
   "execution_count": null,
   "id": "0528aba4",
   "metadata": {},
   "outputs": [],
   "source": [
    "# unpack into time series so that it is easier to work with\n",
    "breach_count_period = 365\n",
    "(baselines, \n",
    "vars_abs_by_qs, vars_rel_by_qs, \n",
    "pnls_abs, pnls_rel, \n",
    "var_breaches, rolling_breaches) = convert_to_timeseries(result, bt_quantiles, breach_count_period)"
   ]
  },
  {
   "cell_type": "markdown",
   "id": "785e4645",
   "metadata": {},
   "source": [
    "# Peeking at results"
   ]
  },
  {
   "cell_type": "code",
   "execution_count": null,
   "id": "6723918d",
   "metadata": {},
   "outputs": [],
   "source": [
    "# Select quantile\n",
    "q = 99\n",
    "\n",
    "run_date_col = 'run date'\n",
    "base_line_col = 'baseline'\n",
    "var_col = f'{q}%-VaR'\n",
    "var_rel_col = f'{q}%-VaR (relative)'\n",
    "pnl_col = 'P&L'\n",
    "breach_col = 'Breach'\n",
    "backtest_df = pd.DataFrame({\n",
    "    run_date_col: pd.to_datetime(baselines.index), \n",
    "    base_line_col: baselines, \n",
    "    var_col: vars_abs_by_qs[q], \n",
    "    var_rel_col: vars_rel_by_qs[q], \n",
    "    pnl_col: pnls_abs, \n",
    "    breach_col: var_breaches[q]\n",
    "}).set_index(run_date_col)\n",
    "\n",
    "\n",
    "loss_fmt = lambda val: f'${val:,.2f}' if val >= 0 else f'(${abs(val):,.2f})'\n",
    "pct_fmt = lambda val: f'({abs(val):,.1%})' if val < 0 else f'{abs(val):,.1%}'\n",
    "\n",
    "red_blue_formatter = lambda val: 'color: blue' if val > 0 else 'color: red'\n",
    "backtest_df.head().style.format({\n",
    "  base_line_col: loss_fmt,\n",
    "  var_col: loss_fmt,\n",
    "  var_rel_col: pct_fmt,\n",
    "  pnl_col: loss_fmt\n",
    "}).applymap(red_blue_formatter, subset=[pnl_col])"
   ]
  },
  {
   "cell_type": "markdown",
   "id": "b074b926",
   "metadata": {},
   "source": [
    "# Breaches\n",
    "And we can identify the breach dates:"
   ]
  },
  {
   "cell_type": "code",
   "execution_count": null,
   "id": "eb0677a5",
   "metadata": {},
   "outputs": [],
   "source": [
    "backtest_df[backtest_df[breach_col]].head().style.format({\n",
    "  base_line_col: loss_fmt,\n",
    "  var_col: loss_fmt,\n",
    "  var_rel_col: pct_fmt,\n",
    "  pnl_col: loss_fmt\n",
    "}).applymap(red_blue_formatter, subset=[pnl_col])"
   ]
  },
  {
   "cell_type": "markdown",
   "id": "512a3758",
   "metadata": {},
   "source": [
    "Now let's do some charting with the backtest data; this is a sneak peek at the kinds of visualizations we will be offering in the Serenity front-end at the end of 2022:"
   ]
  },
  {
   "cell_type": "code",
   "execution_count": null,
   "id": "8bc7ccd9",
   "metadata": {},
   "outputs": [],
   "source": [
    "import matplotlib.pyplot as plt\n",
    "import numpy as np\n",
    "import pandas as pd\n",
    "from scipy.stats import binom\n",
    "\n",
    "kind = \"Historical Sim\"\n",
    "\n",
    "scale_unit, scale = 'mil', 1e-6\n",
    "\n",
    "# convert to pd.Timestamp to date time to ease plotting\n",
    "dt_index = pd.to_datetime(baselines.index)\n",
    "\n",
    "fig, axs = plt.subplots(3, 1, figsize=(14, 10), gridspec_kw={'height_ratios': [1, 2, 1]}, sharex=True)\n",
    "\n",
    "## Portfolio Value Profile\n",
    "ax0 = axs[0]\n",
    "ax0.set_title(f\"Portfolio Value\")\n",
    "ax0.set_ylabel(f\"Value ($) in {scale_unit}\")\n",
    "ax0.plot(dt_index, scale * baselines)\n",
    "ax0.xaxis.set_tick_params(labelbottom=True)\n",
    "\n",
    "\n",
    "# VaR & PnL profiles\n",
    "# Plot in P&L terms. So, VaR will be on the negative side. \n",
    "ax1 = axs[1]\n",
    "\n",
    "nvars_ws = scale * vars_abs_by_qs\n",
    "pnls_abs_ws = scale * pnls_abs\n",
    "\n",
    "ax1.set_title(f\"VaR Backtest ({kind})\")\n",
    "ax1.set_ylabel(f\"PnLs ($) in {scale_unit}\")\n",
    "\n",
    "ax1.bar(dt_index, pnls_abs_ws, lw = 0.5, color=\"purple\", label=\"realised PnL\")\n",
    "ax1.fill_between(dt_index, nvars_ws[99], nvars_ws[95], alpha=0.5, color=\"royalblue\", label=\"95%-99%\")\n",
    "ax1.fill_between(dt_index, nvars_ws[95], nvars_ws[5], alpha=0.5, color=\"lightsteelblue\", label=\"05%-95%\")\n",
    "ax1.fill_between(dt_index, nvars_ws[5], nvars_ws[1], alpha=0.5, color=\"royalblue\", label=\"01%-05%\")\n",
    "\n",
    "for q in bt_quantiles:\n",
    "    q_breaches = var_breaches[q]\n",
    "    color = 'r' if q in [1,99] else 'orange'\n",
    "    ax1.plot(dt_index[q_breaches], pnls_abs_ws[q_breaches], '.', color=color) #, markersize=5)\n",
    "\n",
    "ax1.plot()\n",
    "ax1.legend()\n",
    "ax1.xaxis.set_tick_params(labelbottom=True)\n",
    "\n",
    "## Now, traffic light\n",
    "ax2 = axs[2]\n",
    "ax2.set_title('Traffic Light Test')\n",
    "ax2.set_ylabel('Rolling breach counts')\n",
    "\n",
    "q_rolling = 99\n",
    "for q in [q_rolling]: #[100-q_rolling, q_rolling]:\n",
    "    line_style = '-' if q > 50 else '--'\n",
    "    ax2.plot(dt_index, rolling_breaches[q], ls = line_style, color = 'purple', label=f'{q}%-VaR')\n",
    "ax2.legend()\n",
    "\n",
    "x = np.arange(0, breach_count_period)\n",
    "green_amber, amber_red = [np.min(x[1 - binom.cdf(x, breach_count_period, 1.0-q_rolling/100.) < cf]) for cf in [0.05, 0.0001]]\n",
    "y_max = amber_red + (amber_red - green_amber)\n",
    "ax2.fill_between(dt_index, 0.0, green_amber + .4, color='g', alpha=0.1)\n",
    "ax2.fill_between(dt_index, green_amber + .8, amber_red + .4, color='y', alpha=0.1)\n",
    "ax2.fill_between(dt_index, amber_red + .8, y_max, color='r', alpha=0.1)\n",
    "ax2.set_ylim([0.0, y_max])\n",
    "\n",
    "plt.tight_layout()\n",
    "plt.show()"
   ]
  }
 ],
 "metadata": {
  "kernelspec": {
   "display_name": "Python 3.10.6 ('.venv': poetry)",
   "language": "python",
   "name": "python3"
  },
  "language_info": {
   "codemirror_mode": {
    "name": "ipython",
    "version": 3
   },
   "file_extension": ".py",
   "mimetype": "text/x-python",
   "name": "python",
   "nbconvert_exporter": "python",
   "pygments_lexer": "ipython3",
   "version": "3.10.6"
  },
  "vscode": {
   "interpreter": {
    "hash": "f3aa3a76c036392393d06cadc89e4625c04c6b5098937dc7daae5882adc20ab0"
   }
  }
 },
 "nbformat": 4,
 "nbformat_minor": 5
}

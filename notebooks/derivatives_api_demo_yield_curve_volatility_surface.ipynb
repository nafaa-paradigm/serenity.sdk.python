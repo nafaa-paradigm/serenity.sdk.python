{
 "cells": [
  {
   "cell_type": "markdown",
   "id": "b90bcbf6-a176-498b-b540-6891830c1bed",
   "metadata": {},
   "source": [
    "# Demo: Serenity Derivatives API - Yield Curve and Vol Surface\n",
    "\n",
    "Serenity builds in sophisticated option and rates analytics as part of its core offering, and these functions\n",
    "are all exposed via the API. This notebook shows how you can use it to fetch yield curves and volatility\n",
    "surfaces."
   ]
  },
  {
   "cell_type": "code",
   "execution_count": null,
   "id": "1f81870d-1e41-41b3-acd0-56bc6b13a3e7",
   "metadata": {},
   "outputs": [],
   "source": [
    "%%capture --no-stderr --no-display\n",
    "%load_ext autoreload\n",
    "%autoreload 2"
   ]
  },
  {
   "cell_type": "code",
   "execution_count": null,
   "id": "3b92950c",
   "metadata": {},
   "outputs": [],
   "source": [
    "from os import getenv\n",
    "from serenity_sdk.widgets import ConnectWidget\n",
    "\n",
    "# if you want to auto-connect, set this environment variable to your desired default\n",
    "connect_widget = ConnectWidget(getenv('SERENITY_CONFIG_ID', None))"
   ]
  },
  {
   "cell_type": "code",
   "execution_count": null,
   "id": "a51af12a",
   "metadata": {},
   "outputs": [],
   "source": [
    "from datetime import datetime, timedelta\n",
    "from uuid import UUID, uuid4\n",
    "import matplotlib.pyplot as plt\n",
    "import plotly.graph_objects as go\n",
    "\n",
    "import numpy as np\n",
    "import pandas as pd\n",
    "\n",
    "from serenity_sdk.renderers.derivatives.widget_tools import YieldCurveVersionTimeChooser, VolatilitySurfaceVersionTimeChooser\n",
    "from serenity_sdk.renderers.derivatives.table_plot import YieldCurveTablePlot, VolatilitySurfaceTablePlot\n",
    "from serenity_types.pricing.derivatives.rates.yield_curve import YieldCurveVersion\n",
    "\n",
    "# plot parameters\n",
    "plt.rcParams['font.size'] = '16'\n",
    "\n",
    "# create an alias to the api\n",
    "api = connect_widget.get_api()"
   ]
  },
  {
   "cell_type": "code",
   "execution_count": null,
   "id": "c9771995",
   "metadata": {},
   "outputs": [],
   "source": [
    "# Pick a datetime.\n",
    "# WIP: need to give some buffer on the end_datetime at the time of writing this notebook\n",
    "import pytz\n",
    "end_dt =datetime.utcnow() - timedelta(hours=3)\n",
    "start_dt = end_dt - timedelta(days=2)"
   ]
  },
  {
   "cell_type": "markdown",
   "id": "189a9a75",
   "metadata": {},
   "source": [
    "# Yield Curves"
   ]
  },
  {
   "cell_type": "markdown",
   "id": "287863cd",
   "metadata": {},
   "source": [
    "## Pick Version\n",
    "There are multiple type of market data built on multiple datetimes (e.g. hourly, daily). \n",
    "Pick the version to show and plot. "
   ]
  },
  {
   "cell_type": "code",
   "execution_count": null,
   "id": "b0a7cd30",
   "metadata": {},
   "outputs": [],
   "source": [
    "versions = api.pricer().get_available_yield_curve_versions()"
   ]
  },
  {
   "cell_type": "code",
   "execution_count": null,
   "id": "6fc65b4c",
   "metadata": {},
   "outputs": [],
   "source": [
    "versions = api.pricer().get_available_yield_curve_versions(\n",
    "    start_datetime=start_dt, end_datetime=end_dt)\n",
    "vtc_yc = YieldCurveVersionTimeChooser(versions)\n",
    "\n",
    "print('Pick the curve and as-of-time from the drop-down menus')\n",
    "display(vtc_yc.get_widget_to_display())"
   ]
  },
  {
   "cell_type": "markdown",
   "id": "76b32b70",
   "metadata": {},
   "source": [
    "## Now, load the selected version"
   ]
  },
  {
   "cell_type": "code",
   "execution_count": null,
   "id": "393db9bd",
   "metadata": {},
   "outputs": [],
   "source": [
    "from serenity_sdk.renderers.derivatives.converters import convert_object_list_to_df"
   ]
  },
  {
   "cell_type": "code",
   "execution_count": null,
   "id": "796234f2",
   "metadata": {},
   "outputs": [],
   "source": [
    "# load the version through API\n",
    "id_selected, as_of_time_selected = vtc_yc.get_id_as_of_time()\n",
    "yc_selected = api.pricer().get_yield_curve_version(id_selected, as_of_time_selected)\n",
    "print(f'Loaded id={id_selected}, as-of-time={as_of_time_selected}')\n",
    "\n",
    "# use a helper object to show the content\n",
    "yc_tp = YieldCurveTablePlot(yc_selected)"
   ]
  },
  {
   "cell_type": "markdown",
   "id": "c7f324c0",
   "metadata": {},
   "source": [
    "### Peeking data"
   ]
  },
  {
   "cell_type": "code",
   "execution_count": null,
   "id": "6aeb0b46",
   "metadata": {},
   "outputs": [],
   "source": [
    "# peeking raw data\n",
    "yc_tp.raw_pts.head(2)"
   ]
  },
  {
   "cell_type": "code",
   "execution_count": null,
   "id": "5eb7ffb5",
   "metadata": {},
   "outputs": [],
   "source": [
    "# peeking interpolated data\n",
    "yc_tp.interpolated_curve.head(2)"
   ]
  },
  {
   "cell_type": "markdown",
   "id": "6a50be84",
   "metadata": {},
   "source": [
    "## Plotting\n",
    "* Top: future prices and corresponding index (underlying) spot price. \n",
    "* Middle: The flat-forward interpolation method is used to get the interpolated points.\n",
    "* Bottom: It is equivalent to the log-linear interpolation in the discount factor."
   ]
  },
  {
   "cell_type": "code",
   "execution_count": null,
   "id": "1590e413",
   "metadata": {},
   "outputs": [],
   "source": [
    "print('There are small variations in mark price spot across expiries - probably due to timing of the market data collection')\n",
    "yc_tp.plot()\n",
    "plt.show()"
   ]
  },
  {
   "cell_type": "markdown",
   "id": "e24b9cc2",
   "metadata": {},
   "source": [
    "# Volatility Surfaces"
   ]
  },
  {
   "cell_type": "markdown",
   "id": "42ed30f3",
   "metadata": {},
   "source": [
    "## Pick Version\n",
    "There are multiple type of market data built on multiple datetimes (e.g. hourly, daily). \n",
    "Pick the version to show and plot. "
   ]
  },
  {
   "cell_type": "code",
   "execution_count": null,
   "id": "50c471a8",
   "metadata": {},
   "outputs": [],
   "source": [
    "# Load available vol surfaces\n",
    "versions = api.pricer().get_available_volatility_surface_versions(\n",
    "    start_datetime=start_dt, end_datetime=end_dt)\n",
    "vtc_vol =  VolatilitySurfaceVersionTimeChooser(versions)\n",
    "\n",
    "print('Pick the vol surface and build time from the drop-down menus')\n",
    "vtc_vol.widget_name.value = vtc_vol.widget_name.options[1] # choose the log_money version\n",
    "display(vtc_vol.get_widget_to_display())"
   ]
  },
  {
   "cell_type": "markdown",
   "id": "34cfdfe9",
   "metadata": {},
   "source": [
    "## Now, load the selected version"
   ]
  },
  {
   "cell_type": "code",
   "execution_count": null,
   "id": "60e937a7",
   "metadata": {},
   "outputs": [],
   "source": [
    "# load the version through API\n",
    "id_selected, as_of_time_selected = vtc_vol.get_id_as_of_time()\n",
    "vs_selected = api.pricer().get_volatility_surface_version(id_selected, as_of_time_selected)\n",
    "print(f'Loaded id={id_selected}, as-of-time={as_of_time_selected}')\n",
    "\n",
    "\n",
    "# use a helper object to show the content \n",
    "vs_tp = VolatilitySurfaceTablePlot(vs_selected)"
   ]
  },
  {
   "cell_type": "markdown",
   "id": "340dcb8b",
   "metadata": {},
   "source": [
    "### Peeking data"
   ]
  },
  {
   "cell_type": "code",
   "execution_count": null,
   "id": "d4978fe4",
   "metadata": {},
   "outputs": [],
   "source": [
    "# showing available expiries\n",
    "vs_tp.time_to_expiries"
   ]
  },
  {
   "cell_type": "code",
   "execution_count": null,
   "id": "a182f0e8",
   "metadata": {},
   "outputs": [],
   "source": [
    "# peeking raw data\n",
    "vs_tp.raw_pts.head(2)"
   ]
  },
  {
   "cell_type": "code",
   "execution_count": null,
   "id": "21a6135b",
   "metadata": {},
   "outputs": [],
   "source": [
    "# peeking interpolated data\n",
    "vs_tp.interpolated_surface.head(2)"
   ]
  },
  {
   "cell_type": "code",
   "execution_count": null,
   "id": "91092132",
   "metadata": {},
   "outputs": [],
   "source": [
    "# show calibration SVI parameters\n",
    "df = pd.DataFrame(vs_tp.vs.interpolated.calibration_params).T\n",
    "df.index.name = 'time-to-expiry'\n",
    "df"
   ]
  },
  {
   "cell_type": "markdown",
   "id": "0e68fbfa",
   "metadata": {},
   "source": [
    "## Plotting\n",
    "For each expiries, show a smile curve with input data (dots)"
   ]
  },
  {
   "cell_type": "code",
   "execution_count": null,
   "id": "cb72fce3",
   "metadata": {},
   "outputs": [],
   "source": [
    "vs_tp.plot()"
   ]
  },
  {
   "cell_type": "markdown",
   "id": "b6e81965",
   "metadata": {},
   "source": [
    "# 3D interactive plot"
   ]
  },
  {
   "cell_type": "code",
   "execution_count": null,
   "id": "a78bf58e",
   "metadata": {},
   "outputs": [],
   "source": [
    "# interpolated surface\n",
    "ivs = vs_selected.interpolated\n",
    "interpolated_df = pd.DataFrame(\n",
    "    {\n",
    "        'expiry':ivs.time_to_expiries,\n",
    "        'strike':ivs.strikes,\n",
    "        'vol':ivs.vols\n",
    "    })\n",
    "interpolated_df = interpolated_df.groupby(['expiry', 'strike'])['vol'].mean().unstack()\n",
    "T, K, sigma = interpolated_df.index.values, interpolated_df.columns.values, interpolated_df.values.T\n",
    "\n",
    "raw_df = convert_object_list_to_df(vs_selected.raw.vol_points)\n",
    "T_raw, K_raw, sigma_raw = (raw_df[c] for c in ['time_to_expiry', 'strike_value', 'iv'])\n",
    "\n",
    "# 3D plot\n",
    "fig = go.Figure(data=[\n",
    "    go.Surface(z=sigma, x=T, y=K, opacity=0.75, name='interpolated'),\n",
    "    go.Scatter3d(x=T_raw, y=K_raw, z=sigma_raw, mode='markers', marker=dict(size=2, color=np.log(T_raw)), name='raw')\n",
    "    ])\n",
    "\n",
    "fig.update_layout(\n",
    "    title='implied volatility', \n",
    "    scene = dict(\n",
    "        xaxis_title='x:expiry',\n",
    "        yaxis_title='y:strike',\n",
    "        zaxis_title='z:implied volatility'\n",
    "        ),\n",
    "    width=800, height=800, autosize=False,\n",
    "    margin=dict(l=65, r=50, b=65, t=90))\n",
    "fig.show()\n",
    "\n"
   ]
  },
  {
   "cell_type": "markdown",
   "id": "6b52bc07",
   "metadata": {},
   "source": [
    "# END"
   ]
  },
  {
   "cell_type": "markdown",
   "id": "0c79e727",
   "metadata": {},
   "source": []
  }
 ],
 "metadata": {
  "kernelspec": {
   "display_name": "Python 3.8.13 ('.venv': poetry)",
   "language": "python",
   "name": "python3"
  },
  "language_info": {
   "codemirror_mode": {
    "name": "ipython",
    "version": 3
   },
   "file_extension": ".py",
   "mimetype": "text/x-python",
   "name": "python",
   "nbconvert_exporter": "python",
   "pygments_lexer": "ipython3",
   "version": "3.8.13"
  },
  "vscode": {
   "interpreter": {
    "hash": "a9133bd78629d3cc654928cc351bdc92c5978c16630b1b6e70bc57fa07ab43c7"
   }
  }
 },
 "nbformat": 4,
 "nbformat_minor": 5
}

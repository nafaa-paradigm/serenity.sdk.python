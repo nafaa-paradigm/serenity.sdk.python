{
 "cells": [
  {
   "cell_type": "markdown",
   "id": "b90bcbf6-a176-498b-b540-6891830c1bed",
   "metadata": {},
   "source": [
    "# Demo: Serenity Scenario API\n",
    "\n",
    "Serenity lets you run stress tests on linear products -- portfolios of digital asset tokens -- in its current version. You can run scenarios that you create yourself, called custom scenarios, or you can use canned or predefined scenarios packaged with the Serenity platform. The API lets you manage your custom scenarios, execute scenario runs and retrieve run results programmatically, so if you wish to develop your own suite of regular scenarios to run against your portfolio you can easily script them."
   ]
  },
  {
   "cell_type": "code",
   "execution_count": null,
   "id": "1f81870d-1e41-41b3-acd0-56bc6b13a3e7",
   "metadata": {},
   "outputs": [],
   "source": [
    "%%capture --no-stderr --no-display\n",
    "%load_ext autoreload\n",
    "%autoreload 2"
   ]
  },
  {
   "cell_type": "code",
   "execution_count": null,
   "id": "ce95d33a",
   "metadata": {},
   "outputs": [],
   "source": [
    "from os import getenv\n",
    "from serenity_sdk.widgets import ConnectWidget\n",
    "\n",
    "# if you want to auto-connect, set this environment variable to your desired default\n",
    "connect_widget = ConnectWidget(getenv('SERENITY_CONFIG_ID', None))"
   ]
  },
  {
   "cell_type": "code",
   "execution_count": null,
   "id": "8b08ec4e",
   "metadata": {},
   "outputs": [],
   "source": [
    "import datetime\n",
    "import re\n",
    "\n",
    "from datetime import date\n",
    "from uuid import UUID, uuid4\n",
    "\n",
    "import pandas as pd\n",
    "\n",
    "# create an alias to the api\n",
    "api = connect_widget.get_api()"
   ]
  },
  {
   "attachments": {},
   "cell_type": "markdown",
   "id": "700774b0-45ed-4045-91b5-0476b1ef9d47",
   "metadata": {},
   "source": [
    "## Getting started\n",
    "\n",
    "To run a scenario the first thing we need is a portfolio:"
   ]
  },
  {
   "cell_type": "code",
   "execution_count": null,
   "id": "9d54e044-3202-4f20-9ecf-f60e185c60a2",
   "metadata": {},
   "outputs": [],
   "source": [
    "from serenity_types.portfolio.core import SimplePortfolio\n",
    "\n",
    "asset_master = api.refdata().load_asset_master()\n",
    "\n",
    "portfolio_raw = {\n",
    "    'ADA': 1000000,\n",
    "    'BTC': 100,\n",
    "    'ETH': 1000,\n",
    "    'XRP': 2000000,\n",
    "    'ALGO': 1500000,\n",
    "    'SOL': 10000,\n",
    "    'DOT': 50000\n",
    "}\n",
    "portfolio = asset_master.create_portfolio(portfolio_raw, symbology='NATIVE')\n",
    "\n",
    "# scenarios uses a special type, SimplePortfolio -- wrap it\n",
    "simple_portfolio = SimplePortfolio(portfolio_id=uuid4(),\n",
    "                                   portfolio_name='Test Portfolio',\n",
    "                                   portfolio_manager='Test PM',\n",
    "                                   base_currency_id=uuid4(),\n",
    "                                   asset_positions=portfolio.to_asset_positions())"
   ]
  },
  {
   "attachments": {},
   "cell_type": "markdown",
   "id": "da11abeb",
   "metadata": {},
   "source": [
    "The starting point is to acquire a Scenarios API wrapper:"
   ]
  },
  {
   "cell_type": "code",
   "execution_count": null,
   "id": "97419aa7",
   "metadata": {},
   "outputs": [],
   "source": [
    "scenarios = api.scenarios()"
   ]
  },
  {
   "attachments": {},
   "cell_type": "markdown",
   "id": "818369ec",
   "metadata": {},
   "source": [
    "## Listing custom scenarios"
   ]
  },
  {
   "cell_type": "code",
   "execution_count": null,
   "id": "dbb346c5",
   "metadata": {},
   "outputs": [],
   "source": [
    "custom_scenarios = scenarios.get_custom_scenarios().result\n",
    "rows = []\n",
    "for scenario in custom_scenarios:\n",
    "    rows.append({'scenario_id': scenario.scenario_id, 'scenario_name': scenario.name})\n",
    "pd.DataFrame(rows)"
   ]
  },
  {
   "attachments": {},
   "cell_type": "markdown",
   "id": "0fab6846",
   "metadata": {},
   "source": [
    "## Listing predefined scenarios"
   ]
  },
  {
   "cell_type": "code",
   "execution_count": null,
   "id": "1fa85576",
   "metadata": {},
   "outputs": [],
   "source": [
    "predefined_scenarios = scenarios.get_predefined_scenarios().result\n",
    "scenario_by_name = {}\n",
    "rows = []\n",
    "for scenario in predefined_scenarios:\n",
    "    name_elements = re.split(':\\s', scenario.name)\n",
    "    model_config_id = UUID(name_elements[0])\n",
    "    scenario_name = name_elements[1]\n",
    "    rows.append({'scenario_id': scenario.scenario_id, 'model_config_id': model_config_id, 'scenario_name': scenario_name})\n",
    "    scenario_by_name[scenario_name] = {'scenario': scenario, 'model_config_id': model_config_id}\n",
    "pd.DataFrame(rows)"
   ]
  },
  {
   "attachments": {},
   "cell_type": "markdown",
   "id": "f584302d",
   "metadata": {},
   "source": [
    "## Managing custom scenarios"
   ]
  },
  {
   "cell_type": "code",
   "execution_count": null,
   "id": "5e9242b6",
   "metadata": {},
   "outputs": [],
   "source": [
    "from serenity_types.risk.scenarios import ScenarioCloneRequest, ScenarioDefinition, ScenarioSource\n",
    "\n",
    "# create a custom scenario, letting the server allocated ID and version\n",
    "custom = ScenarioDefinition(scenario_id=None, scenario_version=None,\n",
    "                            source=ScenarioSource.CUSTOM,\n",
    "                            name='Demo Custom Scenario',\n",
    "                            shocks=[], last_updated_by='SDK notebook')\n",
    "custom = scenarios.create_custom_scenario(custom).result\n",
    "\n",
    "# update it\n",
    "custom.name='Demo Custom Scenario MODIFIED'\n",
    "custom = scenarios.update_custom_scenario(custom).result\n",
    "\n",
    "# rollback\n",
    "custom = scenarios.rollback_custom_scenario(custom.scenario_id, version=custom.scenario_version).result\n",
    "\n",
    "# clone it\n",
    "clone_request = ScenarioCloneRequest(scenario_id=custom.scenario_id, scenario_name=f'{custom.name} - CLONED')\n",
    "custom_clone = scenarios.clone_scenario(clone_request).result\n",
    "\n",
    "# delete the scenario and its clone\n",
    "assert scenarios.delete_custom_scenario(custom.scenario_id).result.deleted\n",
    "assert scenarios.delete_custom_scenario(custom_clone.scenario_id).result.deleted"
   ]
  },
  {
   "attachments": {},
   "cell_type": "markdown",
   "id": "bc4d0ac5",
   "metadata": {},
   "source": [
    "## Running a predefined scenario"
   ]
  },
  {
   "cell_type": "code",
   "execution_count": null,
   "id": "80c2efc4",
   "metadata": {},
   "outputs": [],
   "source": [
    "from serenity_sdk.client.raw import SerenityError\n",
    "from serenity_types.risk.scenarios import ScenarioRequest\n",
    "from serenity_types.pricing.core import PricingContext\n",
    "\n",
    "scenario_info = scenario_by_name['3AC Insolvency']\n",
    "predefined_scenario = scenario_info['scenario']\n",
    "model_config_id = scenario_info['model_config_id']\n",
    "start_date = date(2022, 12, 26)\n",
    "pricing_context = PricingContext(as_of_date=start_date)\n",
    "request = ScenarioRequest(scenario_id=None, scenario=predefined_scenario, portfolio=simple_portfolio,\n",
    "                          pricing_context=pricing_context, model_config_id=model_config_id,\n",
    "                          start_date=start_date, end_date=start_date, schema_version=1)\n",
    "\n",
    "# currently failing with a generic error; needs investigation\n",
    "try:\n",
    "    scenarios.run_scenario(request)\n",
    "except SerenityError:\n",
    "    pass"
   ]
  }
 ],
 "metadata": {
  "kernelspec": {
   "display_name": ".venv",
   "language": "python",
   "name": "python3"
  },
  "language_info": {
   "codemirror_mode": {
    "name": "ipython",
    "version": 3
   },
   "file_extension": ".py",
   "mimetype": "text/x-python",
   "name": "python",
   "nbconvert_exporter": "python",
   "pygments_lexer": "ipython3",
   "version": "3.9.16"
  },
  "vscode": {
   "interpreter": {
    "hash": "da01d933f08a19496ff2bc47bee57d1aad5a98d2dadc2d94c49482637001ed3b"
   }
  }
 },
 "nbformat": 4,
 "nbformat_minor": 5
}

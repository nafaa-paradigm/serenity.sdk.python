{
 "cells": [
  {
   "cell_type": "markdown",
   "id": "b90bcbf6-a176-498b-b540-6891830c1bed",
   "metadata": {},
   "source": [
    "# Demo: Serenity Portfolio Valuation API\n",
    "\n",
    "In the coming release of Serenity we will support various portfolio analytics, but in the current release we support just basic NAV calculations given a long-only or long/short portfolio composed of assets from the Serenity Asset Master."
   ]
  },
  {
   "cell_type": "code",
   "execution_count": null,
   "id": "1f81870d-1e41-41b3-acd0-56bc6b13a3e7",
   "metadata": {},
   "outputs": [],
   "source": [
    "%%capture --no-stderr --no-display\n",
    "%load_ext autoreload\n",
    "%autoreload 2\n",
    "%run -i init_demo.py"
   ]
  },
  {
   "cell_type": "markdown",
   "id": "700774b0-45ed-4045-91b5-0476b1ef9d47",
   "metadata": {},
   "source": [
    "To value a portfolio the first thing we need is a portfolio:"
   ]
  },
  {
   "cell_type": "code",
   "execution_count": null,
   "id": "9d54e044-3202-4f20-9ecf-f60e185c60a2",
   "metadata": {},
   "outputs": [],
   "source": [
    "asset_master = api.refdata().load_asset_master()\n",
    "\n",
    "portfolio_raw = {\n",
    "    'ADA': 1000000,\n",
    "    'BTC': 100,\n",
    "    'ETH': 1000,\n",
    "    'XRP': 2000000,\n",
    "    'ALGO': 1500000,\n",
    "    'SOL': 10000,\n",
    "    'DOT': 50000\n",
    "}\n",
    "portfolio = asset_master.create_portfolio(portfolio_raw, symbology='NATIVE')"
   ]
  },
  {
   "cell_type": "markdown",
   "id": "a79b33fb-2a06-4ea8-a0a0-0e3158f75d95",
   "metadata": {},
   "source": [
    "Similar to Risk and VaR with `CalculationContext`, we create a `PricingContext` to set up the valuator. Here we override one of the parameters to specify that we want to treat both USD and USD-pegged stablecoins as cash positions:"
   ]
  },
  {
   "cell_type": "code",
   "execution_count": null,
   "id": "109695c6-dec6-4a2c-a3b8-93f77d67381f",
   "metadata": {},
   "outputs": [],
   "source": [
    "from datetime import date\n",
    "from serenity_sdk.types.common import CashTreatment, PricingContext\n",
    "\n",
    "usd_asset_id = asset_master.get_asset_id_by_symbol('ccy.usd', 'SERENITY')\n",
    "ctx = PricingContext(as_of_date=date(2021, 7, 1), cash_treatment=CashTreatment.FIAT_PEGGED_STABLECOINS, base_currency_id=usd_asset_id)"
   ]
  },
  {
   "cell_type": "markdown",
   "id": "8948c59c-baf8-4a31-ad6e-1d9bf398653d",
   "metadata": {},
   "source": [
    "Now we can value the portfolio. As this one only has non-stablecoin tokens, we expect a zero cash position:"
   ]
  },
  {
   "cell_type": "code",
   "execution_count": null,
   "id": "dbf718d9-3d29-4afe-8106-04b6dce90e3e",
   "metadata": {},
   "outputs": [],
   "source": [
    "result = api.valuation().compute_portfolio_value(ctx, portfolio)\n",
    "result.close.cash_position_value"
   ]
  },
  {
   "cell_type": "markdown",
   "id": "40c91f00-5bf2-4b21-9e3b-f113e4398051",
   "metadata": {},
   "source": [
    "What if we create a portfolio with a mix of stablecoins and fiat? And because Solana is always crashing, why don't we short it."
   ]
  },
  {
   "cell_type": "code",
   "execution_count": null,
   "id": "2b6b33d4-fe0c-4dc3-95d4-3d13884de84b",
   "metadata": {},
   "outputs": [],
   "source": [
    "portfolio_raw = {\n",
    "    'ADA': 1000000,\n",
    "    'BTC': 100,\n",
    "    'ETH': 1000,\n",
    "    'XRP': 2000000,\n",
    "    'ALGO': 1500000,\n",
    "    'SOL': -10000,\n",
    "    'DOT': 50000,\n",
    "    'USDC': 100000,\n",
    "    'USD': 250000\n",
    "}\n",
    "portfolio = asset_master.create_portfolio(portfolio_raw, symbology='NATIVE')"
   ]
  },
  {
   "cell_type": "code",
   "execution_count": null,
   "id": "9f34a50e-0ba8-4cab-8a6e-bf9ac072cd82",
   "metadata": {},
   "outputs": [],
   "source": [
    "result = api.valuation().compute_portfolio_value(ctx, portfolio)\n",
    "result.close.cash_position_value"
   ]
  },
  {
   "cell_type": "markdown",
   "id": "4bf515fd-7a75-4305-b64f-1441beca2a59",
   "metadata": {},
   "source": [
    "OK, but we learned the hard way in the spring of 2022 that USD-pegged stablecoins and USD are not always the same. How about we value the portfolio with the FIAT_ONLY model instead to be safe?"
   ]
  },
  {
   "cell_type": "code",
   "execution_count": null,
   "id": "3f4068d9-fa16-4b48-9d2d-1391dc6351c6",
   "metadata": {},
   "outputs": [],
   "source": [
    "ctx.cash_treatment = CashTreatment.FIAT_ONLY\n",
    "result = api.valuation().compute_portfolio_value(ctx, portfolio)\n",
    "result.close.cash_position_value"
   ]
  },
  {
   "cell_type": "markdown",
   "id": "3312c5ca-719f-4c64-a71e-7f4d0ef95ac7",
   "metadata": {},
   "source": [
    "That looks better. Let's summarize the portfolio's value T and T-1 in a table; note that in Serenity we mark to a specific mark time like NY_EOD, and so the close and previous times will be the most recent NY_EOD close and the previous NY_EOD close:"
   ]
  },
  {
   "cell_type": "code",
   "execution_count": null,
   "id": "4f650535-782b-41c4-baf7-ddfb136a33ac",
   "metadata": {},
   "outputs": [],
   "source": [
    "rows = []\n",
    "rows.append({\n",
    "   'closeTime': 'T (close)',\n",
    "   'netHoldings': result.close.net_holdings_value,\n",
    "   'grossHoldings': result.close.gross_holdings_value,\n",
    "   'cashPosition': result.close.cash_position_value,\n",
    "   'netAssetValue': result.close.net_asset_value\n",
    "})\n",
    "rows.append({\n",
    "   'closeTime': 'T-1 (previous)',\n",
    "   'netHoldings': result.previous.net_holdings_value,\n",
    "   'grossHoldings': result.previous.gross_holdings_value,\n",
    "   'cashPosition': result.previous.cash_position_value,\n",
    "   'netAssetValue': result.previous.net_asset_value\n",
    "})\n",
    "df = pd.DataFrame(rows)\n",
    "df.set_index('closeTime', inplace=True)\n",
    "df.style.format(lambda val: f'${val:,.2f}')"
   ]
  }
 ],
 "metadata": {
  "kernelspec": {
   "display_name": "Python 3.10.6 ('.venv': poetry)",
   "language": "python",
   "name": "python3"
  },
  "language_info": {
   "codemirror_mode": {
    "name": "ipython",
    "version": 3
   },
   "file_extension": ".py",
   "mimetype": "text/x-python",
   "name": "python",
   "nbconvert_exporter": "python",
   "pygments_lexer": "ipython3",
   "version": "3.10.6"
  },
  "vscode": {
   "interpreter": {
    "hash": "f3aa3a76c036392393d06cadc89e4625c04c6b5098937dc7daae5882adc20ab0"
   }
  }
 },
 "nbformat": 4,
 "nbformat_minor": 5
}

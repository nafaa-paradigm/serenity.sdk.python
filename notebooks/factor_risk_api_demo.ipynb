{
 "cells": [
  {
   "cell_type": "markdown",
   "id": "b90bcbf6-a176-498b-b540-6891830c1bed",
   "metadata": {},
   "source": [
    "# Demo: Serenity Factor Risk Model API\n",
    "\n",
    "The heart of the Serenity API at this time are the risk functions. This notebook demonstrates how you can take a portfolio\n",
    "assembled out of assets from our security master and compute a market risk attribution as of a given date. It also shows\n",
    "how you can take that output and pivot the risk by asset, sector and factor to get a deeper understanding of the sources\n",
    "of risk in your portfolio."
   ]
  },
  {
   "cell_type": "code",
   "execution_count": null,
   "id": "1f81870d-1e41-41b3-acd0-56bc6b13a3e7",
   "metadata": {},
   "outputs": [],
   "source": [
    "%%capture --no-stderr --no-display\n",
    "%load_ext autoreload\n",
    "%autoreload 2"
   ]
  },
  {
   "cell_type": "code",
   "execution_count": null,
   "id": "2bcc805a",
   "metadata": {},
   "outputs": [],
   "source": [
    "from os import getenv\n",
    "from serenity_sdk.widgets import ConnectWidget\n",
    "\n",
    "# if you want to auto-connect, set this environment variable to your desired default\n",
    "connect_widget = ConnectWidget(getenv('SERENITY_CONFIG_ID', None))"
   ]
  },
  {
   "cell_type": "code",
   "execution_count": null,
   "id": "929ed468",
   "metadata": {},
   "outputs": [],
   "source": [
    "import datetime\n",
    "\n",
    "import pandas as pd\n",
    "\n",
    "# create an alias to the api\n",
    "api = connect_widget.get_api()"
   ]
  },
  {
   "cell_type": "markdown",
   "id": "d64011c6-f09c-48aa-a0a8-f1e361098ea7",
   "metadata": {},
   "source": [
    "To run a risk attribution using the Serenity Factor Risk Model (SFRM) you first need to construct a portfolio. \n",
    "You can use a number of different symbologies, but for purposes of illustration we will use native blockchain symbol."
   ]
  },
  {
   "cell_type": "code",
   "execution_count": null,
   "id": "2ea30063-e4f7-471a-9776-8d6915ee08ae",
   "metadata": {},
   "outputs": [],
   "source": [
    "asset_master = api.refdata().load_asset_master()\n",
    "\n",
    "portfolio_raw = {\n",
    "    'ADA': 1000000,\n",
    "    'BTC': 100,\n",
    "    'ETH': 1000,\n",
    "    'XRP': 2000000,\n",
    "    'ALGO': 1500000,\n",
    "    'SOL': 10000,\n",
    "    'DOT': 50000\n",
    "}\n",
    "portfolio = asset_master.create_portfolio(portfolio_raw, symbology='NATIVE')"
   ]
  },
  {
   "cell_type": "markdown",
   "id": "622acb83-32b0-46ce-aa93-c129d3f46b64",
   "metadata": {},
   "source": [
    "The next thing we need is a model configuration. Let's choose the medium-time horizon configuration for SFRM, currently the only one supported (and the default):"
   ]
  },
  {
   "cell_type": "code",
   "execution_count": null,
   "id": "4b75808b-417c-47f2-b10f-094c6303171c",
   "metadata": {},
   "outputs": [],
   "source": [
    "from serenity_sdk.types.common import CalculationContext\n",
    "\n",
    "model_short_name = 'risk.factor.regression.SLM.MT'  \n",
    "model_meta = api.model().load_model_metadata(datetime.date.today())\n",
    "model_config_id = model_meta.get_model_configuration_id(model_short_name)"
   ]
  },
  {
   "cell_type": "markdown",
   "id": "01cd19a5-d7c2-48df-9763-7611f2fdacb0",
   "metadata": {},
   "source": [
    "We can now run risk attribution. Past dates not yet cached may take longer to run (still typically less than 10 seconds):"
   ]
  },
  {
   "cell_type": "code",
   "execution_count": null,
   "id": "d169920b-0208-4ff3-846d-22afe583247d",
   "metadata": {},
   "outputs": [],
   "source": [
    "from datetime import date\n",
    "\n",
    "# construct the input parameters for risk attribution\n",
    "ctx = CalculationContext(as_of_date=date(2021, 7, 1), model_config_id=model_config_id)\n",
    "\n",
    "result = api.risk().compute_risk_attrib(ctx, portfolio)"
   ]
  },
  {
   "cell_type": "markdown",
   "id": "1a7480dc",
   "metadata": {},
   "source": [
    "The optional tables helper class lets you convert risk attribution results to Pandas DataFrames:"
   ]
  },
  {
   "cell_type": "code",
   "execution_count": null,
   "id": "19873105",
   "metadata": {},
   "outputs": [],
   "source": [
    "from serenity_sdk.renderers.table import FactorRiskTables\n",
    "\n",
    "tables = FactorRiskTables(result)"
   ]
  },
  {
   "cell_type": "markdown",
   "id": "9838b018",
   "metadata": {},
   "source": [
    "You can summarize the risk of the whole portfolio:"
   ]
  },
  {
   "cell_type": "code",
   "execution_count": null,
   "id": "ef324117",
   "metadata": {},
   "outputs": [],
   "source": [
    "pct_fmt = lambda val: f'{val:,.1%}'\n",
    "\n",
    "total_risk_df = tables.to_total_risk_data_frame()\n",
    "total_risk_df.style.format({\n",
    "  'factorRisk': pct_fmt,\n",
    "  'specificRisk': pct_fmt,\n",
    "  'totalRisk': pct_fmt\n",
    "})"
   ]
  },
  {
   "cell_type": "markdown",
   "id": "417dbe3a",
   "metadata": {},
   "source": [
    "You can view the factor risks at a summary level:"
   ]
  },
  {
   "cell_type": "code",
   "execution_count": null,
   "id": "fdc47d42-83f5-4352-b78e-a3b5fd6e424c",
   "metadata": {},
   "outputs": [],
   "source": [
    "tables.to_factor_risk_data_frame()"
   ]
  },
  {
   "cell_type": "markdown",
   "id": "1ea0376f-093c-4fcd-9c17-1a807b0ae438",
   "metadata": {},
   "source": [
    "You can also break out risk by sectors, showing absolute and relative factor / specific / total risk at various levels,\n",
    "allowing you to build a hierarchy:"
   ]
  },
  {
   "cell_type": "code",
   "execution_count": null,
   "id": "96403a7a-e254-4f02-b847-16028668488d",
   "metadata": {},
   "outputs": [],
   "source": [
    "tables.to_sector_risk_data_frame()"
   ]
  },
  {
   "cell_type": "markdown",
   "id": "f7f5979a",
   "metadata": {},
   "source": [
    "If you like, you can pivot by sector and factor too:"
   ]
  },
  {
   "cell_type": "code",
   "execution_count": null,
   "id": "69dc8535",
   "metadata": {},
   "outputs": [],
   "source": [
    "tables.to_sector_factor_risk_data_frame()"
   ]
  },
  {
   "cell_type": "markdown",
   "id": "5405c31b-7497-48b4-ab8b-b7d41ee534e3",
   "metadata": {},
   "source": [
    "Or by assets:"
   ]
  },
  {
   "cell_type": "code",
   "execution_count": null,
   "id": "9f11a57e-097f-482c-85d3-9cdb02c127cd",
   "metadata": {},
   "outputs": [],
   "source": [
    "tables.to_asset_risk_data_frame(asset_master)"
   ]
  },
  {
   "cell_type": "markdown",
   "id": "f263453b-43e7-4b7c-9883-2cfeb8bd6016",
   "metadata": {},
   "source": [
    "### Factor outputs\n",
    "\n",
    "You can get at a number of factor model outputs via the API as well. You can retrieve the asset covariance matrix:"
   ]
  },
  {
   "cell_type": "code",
   "execution_count": null,
   "id": "18b35cd1-f47f-4516-a1b5-1123730a7bba",
   "metadata": {},
   "outputs": [],
   "source": [
    "api.risk().get_asset_covariance_matrix(ctx, asset_master)"
   ]
  },
  {
   "cell_type": "markdown",
   "id": "3b570e4b-55ea-4c9b-8e8a-dc4055b5bb3b",
   "metadata": {},
   "source": [
    "You can also get the asset residual covariances:"
   ]
  },
  {
   "cell_type": "code",
   "execution_count": null,
   "id": "4dbf5888-deb4-4265-a807-f777603d7b4f",
   "metadata": {},
   "outputs": [],
   "source": [
    "api.risk().get_asset_residual_covariance_matrix(ctx, asset_master)"
   ]
  },
  {
   "cell_type": "markdown",
   "id": "5224d5f9-2294-4220-ba55-cc6661ad76a6",
   "metadata": {},
   "source": [
    "You can get the factor returns:"
   ]
  },
  {
   "cell_type": "code",
   "execution_count": null,
   "id": "65d2988c-e324-4e86-b4fa-a0d0468eca7d",
   "metadata": {},
   "outputs": [],
   "source": [
    "api.risk().get_factor_returns(ctx)"
   ]
  },
  {
   "cell_type": "markdown",
   "id": "2f799697-9450-4b7f-b779-089701952d8c",
   "metadata": {},
   "source": [
    "If you want to see the long/short portfolios in each factor index, you can get that too:"
   ]
  },
  {
   "cell_type": "code",
   "execution_count": null,
   "id": "a0fcead0-3163-4326-b7c3-83b6694e3df5",
   "metadata": {},
   "outputs": [],
   "source": [
    "from uuid import UUID\n",
    "\n",
    "size_factor_pf = api.risk().get_factor_portfolios(ctx)['size']\n",
    "asset_positions = size_factor_pf.to_asset_positions()\n",
    "indexcomps = [{'symbol': asset_master.get_symbol_by_id(UUID(position['assetId'])),\n",
    "               'quantity': position['quantity']} for position in asset_positions]\n",
    "df = pd.DataFrame(indexcomps)\n",
    "df.sort_values(['quantity', 'symbol'], inplace=True)\n",
    "df.reset_index(drop=True)"
   ]
  },
  {
   "cell_type": "markdown",
   "id": "5e565574-bc69-481b-bf77-4a4bb475fa10",
   "metadata": {},
   "source": [
    "You can get the factor correlations:"
   ]
  },
  {
   "cell_type": "code",
   "execution_count": null,
   "id": "15fd2387-0045-48a9-92a2-33db10795523",
   "metadata": {},
   "outputs": [],
   "source": [
    "api.risk().get_factor_correlation_matrix(ctx)"
   ]
  },
  {
   "cell_type": "markdown",
   "id": "6b7a246c-9b1d-4e9a-8127-c3b8f23cc37d",
   "metadata": {},
   "source": [
    "And you can get the factor covariances:"
   ]
  },
  {
   "cell_type": "code",
   "execution_count": null,
   "id": "bf90c3f4-823e-4830-a26b-8aae5ded4672",
   "metadata": {},
   "outputs": [],
   "source": [
    "api.risk().get_factor_covariance_matrix(ctx)"
   ]
  },
  {
   "cell_type": "markdown",
   "id": "115895c0-da1c-4cb4-8cde-91117c14e025",
   "metadata": {},
   "source": [
    "Finally, you can get the factor loadings (exposures) for the entire asset universe:"
   ]
  },
  {
   "cell_type": "code",
   "execution_count": null,
   "id": "530b9f6d-6161-4edd-b6e5-a908c489eaae",
   "metadata": {},
   "outputs": [],
   "source": [
    "api.risk().get_asset_factor_exposures(ctx, asset_master)"
   ]
  }
 ],
 "metadata": {
  "kernelspec": {
   "display_name": ".venv",
   "language": "python",
   "name": "python3"
  },
  "language_info": {
   "codemirror_mode": {
    "name": "ipython",
    "version": 3
   },
   "file_extension": ".py",
   "mimetype": "text/x-python",
   "name": "python",
   "nbconvert_exporter": "python",
   "pygments_lexer": "ipython3",
   "version": "3.9.15"
  },
  "vscode": {
   "interpreter": {
    "hash": "da01d933f08a19496ff2bc47bee57d1aad5a98d2dadc2d94c49482637001ed3b"
   }
  }
 },
 "nbformat": 4,
 "nbformat_minor": 5
}

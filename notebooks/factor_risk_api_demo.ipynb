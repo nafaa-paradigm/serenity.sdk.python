{
 "cells": [
  {
   "cell_type": "markdown",
   "id": "b90bcbf6-a176-498b-b540-6891830c1bed",
   "metadata": {},
   "source": [
    "# Demo: Serenity Factor Risk Model API\n",
    "\n",
    "The heart of the Serenity API at this time are the risk functions. This notebook demonstrates how you can take a portfolio\n",
    "assembled out of assets from our security master and compute a market risk attribution as of a given date. It also shows\n",
    "how you can take that output and pivot the risk by asset, sector and factor to get a deeper understanding of the sources\n",
    "of risk in your portfolio."
   ]
  },
  {
   "cell_type": "code",
   "execution_count": null,
   "id": "1f81870d-1e41-41b3-acd0-56bc6b13a3e7",
   "metadata": {},
   "outputs": [],
   "source": [
    "%%capture --no-stderr --no-display\n",
    "%load_ext autoreload\n",
    "%autoreload 2\n",
    "%run -i init_demo.py"
   ]
  },
  {
   "cell_type": "markdown",
   "id": "d64011c6-f09c-48aa-a0a8-f1e361098ea7",
   "metadata": {},
   "source": [
    "To run a risk attribution using the Serenity Factor Risk Model (SFRM) you first need to construct a portfolio. \n",
    "You can use a number of different symbologies, but for purposes of illustration we will use native blockchain symbol."
   ]
  },
  {
   "cell_type": "code",
   "execution_count": null,
   "id": "2ea30063-e4f7-471a-9776-8d6915ee08ae",
   "metadata": {},
   "outputs": [],
   "source": [
    "asset_master = api.refdata().load_asset_master()\n",
    "\n",
    "portfolio_raw = {\n",
    "    'ADA': 1000000,\n",
    "    'BTC': 100,\n",
    "    'ETH': 1000,\n",
    "    'XRP': 2000000,\n",
    "    'ALGO': 1500000,\n",
    "    'SOL': 10000,\n",
    "    'DOT': 50000\n",
    "}\n",
    "portfolio = asset_master.create_portfolio(portfolio_raw, symbology='NATIVE')\n",
    "positions = portfolio.to_asset_positions()"
   ]
  },
  {
   "cell_type": "markdown",
   "id": "86edff59-64e2-4416-a3f6-3941a29b8ae0",
   "metadata": {},
   "source": [
    "After this translation we have a portfolio using Serenity's internal identifiers:"
   ]
  },
  {
   "cell_type": "code",
   "execution_count": null,
   "id": "4a02fe40-3510-4c26-bb7b-0b1bedd8538a",
   "metadata": {},
   "outputs": [],
   "source": [
    "pd.json_normalize(positions)"
   ]
  },
  {
   "cell_type": "markdown",
   "id": "a466a961-2ae4-4ba7-94f6-4aa0fbc1fbd4",
   "metadata": {},
   "source": [
    "The next thing we need is a model configuration. We can browse what's available with the Model API:"
   ]
  },
  {
   "cell_type": "code",
   "execution_count": null,
   "id": "e0ca037d-28b7-4f0c-8076-2b38e1d9a0c2",
   "metadata": {},
   "outputs": [],
   "source": [
    "model_meta = api.model().load_model_metadata(datetime.date.today())\n",
    "configs = model_meta.get_model_configurations()\n",
    "pd.DataFrame.from_dict(configs, orient='index', columns=['Description']).reset_index().rename(columns={'index': 'Short ID'})"
   ]
  },
  {
   "cell_type": "markdown",
   "id": "622acb83-32b0-46ce-aa93-c129d3f46b64",
   "metadata": {},
   "source": [
    "Let's choose the medium-time horizon configuration for SFRM, currently the only one supported (and the default):"
   ]
  },
  {
   "cell_type": "code",
   "execution_count": null,
   "id": "4b75808b-417c-47f2-b10f-094c6303171c",
   "metadata": {},
   "outputs": [],
   "source": [
    "model_config_id = model_meta.get_model_configuration_id('risk.factor.regression.SLM.MT')\n",
    "\n",
    "# construct the input parameters for risk attribution\n",
    "params = {'as_of_date': '2021-07-01', \n",
    "          'model_config_id': str(model_config_id)\n",
    "         }"
   ]
  },
  {
   "cell_type": "markdown",
   "id": "01cd19a5-d7c2-48df-9763-7611f2fdacb0",
   "metadata": {},
   "source": [
    "We can now run risk attribution. Past dates not yet cached may take longer to run (still typically less than 10 seconds):"
   ]
  },
  {
   "cell_type": "code",
   "execution_count": null,
   "id": "d169920b-0208-4ff3-846d-22afe583247d",
   "metadata": {},
   "outputs": [],
   "source": [
    "risk_attribution_json = client.call_api(\n",
    "    api_group='risk',\n",
    "    api_path='/market/factor/attribution',\n",
    "    body_json={'assetPositions': positions},\n",
    "    params=params\n",
    ")"
   ]
  },
  {
   "cell_type": "code",
   "execution_count": null,
   "id": "fdc47d42-83f5-4352-b78e-a3b5fd6e424c",
   "metadata": {},
   "outputs": [],
   "source": [
    "risk_attribution_json"
   ]
  }
 ],
 "metadata": {
  "kernelspec": {
   "display_name": "Python 3 (ipykernel)",
   "language": "python",
   "name": "python3"
  },
  "language_info": {
   "codemirror_mode": {
    "name": "ipython",
    "version": 3
   },
   "file_extension": ".py",
   "mimetype": "text/x-python",
   "name": "python",
   "nbconvert_exporter": "python",
   "pygments_lexer": "ipython3",
   "version": "3.10.5"
  }
 },
 "nbformat": 4,
 "nbformat_minor": 5
}

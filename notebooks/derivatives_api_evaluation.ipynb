{
 "cells": [
  {
   "cell_type": "code",
   "execution_count": null,
   "metadata": {},
   "outputs": [],
   "source": [
    "%%capture --no-stderr --no-display\n",
    "%load_ext autoreload\n",
    "%autoreload 2\n",
    "%run -i init_demo.py"
   ]
  },
  {
   "cell_type": "code",
   "execution_count": null,
   "metadata": {},
   "outputs": [],
   "source": [
    "from datetime import datetime\n",
    "from uuid import UUID, uuid4\n",
    "\n",
    "from serenity_types.pricing.derivatives.options.valuation import DiscountingMethod, OptionValuationRequest, OptionValuation\n",
    "\n",
    "from serenity_sdk.client import SerenityApiProvider\n",
    "api: SerenityApiProvider = api"
   ]
  },
  {
   "cell_type": "code",
   "execution_count": null,
   "metadata": {},
   "outputs": [],
   "source": []
  },
  {
   "cell_type": "code",
   "execution_count": null,
   "metadata": {},
   "outputs": [],
   "source": [
    "option_val_request_time = datetime(2022, 12, 1, 12, 00, 00)\n",
    "options = [\n",
    "    OptionValuation(option_valuation_id=str(uuid4()), option_asset_id=UUID('56f4a9e0-562f-5790-8152-ab640716d901')),\n",
    "    OptionValuation(option_valuation_id=str(uuid4()), option_asset_id=UUID('56f4a9e0-562f-5790-8152-ab640716d901'), qty=10)\n",
    "]\n",
    "request = OptionValuationRequest(as_of_time=option_val_request_time, options=options)\n",
    "option_val_results = api.pricer().compute_option_valuations(request)"
   ]
  },
  {
   "cell_type": "code",
   "execution_count": null,
   "metadata": {},
   "outputs": [],
   "source": [
    "from serenity_sdk.renderers.utils.converters import convert_list_to_df"
   ]
  },
  {
   "cell_type": "code",
   "execution_count": null,
   "metadata": {},
   "outputs": [],
   "source": [
    "df = convert_list_to_df(option_val_results).T\n",
    "df.columns = ['qty:1', 'qty:10']"
   ]
  },
  {
   "cell_type": "code",
   "execution_count": null,
   "metadata": {},
   "outputs": [],
   "source": [
    "df['ratio'] = pd.to_numeric(df['qty:10'], errors='coerce')/pd.to_numeric(df['qty:1'], errors='coerce')\n",
    "df"
   ]
  },
  {
   "cell_type": "code",
   "execution_count": null,
   "metadata": {},
   "outputs": [],
   "source": [
    "start_dt = datetime(2022, 11, 30)\n",
    "end_dt = datetime.now()\n",
    "versions = api.pricer().get_available_volatility_surface_versions(\n",
    "    start_datetime=start_dt)"
   ]
  },
  {
   "cell_type": "code",
   "execution_count": null,
   "metadata": {},
   "outputs": [],
   "source": [
    "versions"
   ]
  },
  {
   "cell_type": "code",
   "execution_count": null,
   "metadata": {},
   "outputs": [],
   "source": [
    "versions = api.pricer().get_available_yield_curve_versions(start_datetime=start_dt)"
   ]
  },
  {
   "cell_type": "code",
   "execution_count": null,
   "metadata": {},
   "outputs": [],
   "source": [
    "versions = api.pricer().get_available_yield_curve_versions(end_datetime=end_dt)"
   ]
  },
  {
   "cell_type": "code",
   "execution_count": null,
   "metadata": {},
   "outputs": [],
   "source": []
  }
 ],
 "metadata": {
  "kernelspec": {
   "display_name": "Python 3.8.13 ('.venv': poetry)",
   "language": "python",
   "name": "python3"
  },
  "language_info": {
   "codemirror_mode": {
    "name": "ipython",
    "version": 3
   },
   "file_extension": ".py",
   "mimetype": "text/x-python",
   "name": "python",
   "nbconvert_exporter": "python",
   "pygments_lexer": "ipython3",
   "version": "3.8.13"
  },
  "orig_nbformat": 4,
  "vscode": {
   "interpreter": {
    "hash": "a9133bd78629d3cc654928cc351bdc92c5978c16630b1b6e70bc57fa07ab43c7"
   }
  }
 },
 "nbformat": 4,
 "nbformat_minor": 2
}
